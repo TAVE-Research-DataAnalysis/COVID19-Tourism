{
 "cells": [
  {
   "cell_type": "code",
   "execution_count": 1,
   "id": "7a43916c",
   "metadata": {},
   "outputs": [],
   "source": [
    "import time, os\n",
    "import pandas as pd\n",
    "from tqdm import tqdm\n",
    "import requests\n",
    "import re\n",
    "\n",
    "from bs4 import BeautifulSoup\n",
    "from selenium import webdriver\n",
    "from selenium.webdriver import ActionChains\n",
    "from selenium.webdriver.support.ui import WebDriverWait\n",
    "from selenium.webdriver.support import expected_conditions as EC\n",
    "from selenium.webdriver.common.by import By\n",
    "from selenium.webdriver.common.keys import Keys\n",
    "from selenium.common.exceptions import TimeoutException\n",
    "from selenium.webdriver.common.alert import Alert"
   ]
  },
  {
   "cell_type": "markdown",
   "id": "a91339eb",
   "metadata": {},
   "source": [
    "- 7월: ***19,240건***\n",
    "- 8월: ***20,007건***\n",
    "- 9월(30): ***15,993건***\n",
    "- 10월: ***18,726건***\n",
    "- 11월(30): ***20,991건***\n",
    "- 12월: ***17,010건***"
   ]
  },
  {
   "cell_type": "code",
   "execution_count": 2,
   "id": "3ef53c50",
   "metadata": {},
   "outputs": [],
   "source": [
    "# 제주 여행 검색량의 20%만 크롤링하기 위해 월별 갯수 저장\n",
    "jul = 19240//5\n",
    "aug = 20007//5\n",
    "sept = 15993//5\n",
    "oct = 18726//5\n",
    "nov = 20991//5\n",
    "dec = 17010//5"
   ]
  },
  {
   "cell_type": "code",
   "execution_count": 3,
   "id": "f7a475a2",
   "metadata": {},
   "outputs": [],
   "source": [
    "# 드라이버 지정\n",
    "current = '/Users/shimsomin/Documents/GitHub/COVID19-Tourism'\n",
    "chrome_path = current + '/driver/chromedriver'\n",
    "\n",
    "options = webdriver.ChromeOptions() # 크롬 옵션 객체 생성\n",
    "options.add_argument(\"enable-automation\")\n",
    "options.add_argument('headless') # 창 안 띄움 -> 더 빠름\n",
    "options.add_argument(\"user-agent=Mozilla/5.0 (Macintosh; Intel Mac OS X 10_12_6) AppleWebKit/537.36 (KHTML, like Gecko) Chrome/61.0.3163.100 Safari/537.36\") # Headless 탐지 막기위해 User-Agent 값을 바꿔줌.\n",
    "\n",
    "options.add_argument(\"window-size=1920x1080\") # 화면크기\n",
    "options.add_argument(\"--no-sandbox\")\n",
    "options.add_argument(\"disable-gpu\") \n",
    "options.add_argument(\"disable-infobars\")\n",
    "options.add_argument(\"--disable-extensions\")\n",
    "options.add_argument(\"--dns-prefetch-disable\")\n",
    "options.add_argument('--disable-site-isolation-trials')\n",
    "\n",
    "#Step 1. 크롬 웹브라우저 실행\n",
    "driver = webdriver.Chrome(chrome_path, options=options)\n",
    "\n",
    "query = \"제주 여행\"\n",
    "start_date = \"2020-09-01\"\n",
    "end_date = \"2020-09-30\"\n",
    "max_link_cnt = sept\n",
    "crawling_month = '09'\n",
    "\n",
    "naver_df = pd.DataFrame(columns=['날짜', '네이버/티스토리', '관광 명소', '제목', '내용', 'url', '글쓴이'])\n",
    "url = \"https://section.blog.naver.com/Search/Post.naver?pageNo=1&rangeType=PERIOD&orderBy=sim&startDate={}&endDate={}&keyword={}\".format(start_date, end_date, query)\n"
   ]
  },
  {
   "cell_type": "code",
   "execution_count": 4,
   "id": "b191775a",
   "metadata": {},
   "outputs": [
    {
     "name": "stderr",
     "output_type": "stream",
     "text": [
      " 67%|██████▋   | 2142/3198 [02:02<01:05, 16.01it/s]"
     ]
    }
   ],
   "source": [
    "driver.get(url)\n",
    "soup = BeautifulSoup(url, 'lxml')\n",
    "\n",
    "# 1차 크롤링 (url, 제목) 시작\n",
    "link_cnt = 0\n",
    "btn_cnt = 1\n",
    "\n",
    "# 진행바 while문에 사용하기\n",
    "pbar = tqdm(total = max_link_cnt)\n",
    "while link_cnt <= max_link_cnt:\n",
    "    # 한 페이지 안의 총 기사 개수\n",
    "    t_len = len(driver.find_elements_by_class_name(\"list_search_post\"))\n",
    "\n",
    "    for i in range(1, t_len+1):\n",
    "        a = driver.find_element_by_css_selector(\"#content > section > div.area_list_search > div:nth-child({}) > div > div.info_post > div.desc > a.desc_inner\".format(i))\n",
    "\n",
    "        # url 수집\n",
    "        url = a.get_attribute('href')\n",
    "\n",
    "        # 제목 수집\n",
    "        title = driver.find_element_by_css_selector(\"#content > section > div.area_list_search > div:nth-child({}) > div > div.info_post > div.desc > a.desc_inner > strong > span\".format(i)).text\n",
    "        \n",
    "        naver_df.loc[link_cnt] = ['nan', '네이버', query, title, 'nan', url, 'nan']\n",
    "\n",
    "        # link_cnt += 1\n",
    "    # print(link_cnt)\n",
    "    pbar.update(t_len)\n",
    "    \n",
    "    btn_cnt += 1\n",
    "    # 다음 버튼 누르기\n",
    "    if btn_cnt % 10 == 1:\n",
    "        if btn_cnt > 11:\n",
    "            btn = driver.find_element_by_css_selector(\"#content > section > div.pagination > a.button_next\")\n",
    "            btn.send_keys(Keys.ENTER)\n",
    "        else:\n",
    "            btn = driver.find_element_by_css_selector(\"#content > section > div.pagination > a\")\n",
    "            btn.send_keys(Keys.ENTER)\n",
    "        driver.implicitly_wait(3)\n",
    "    else:\n",
    "        if btn_cnt > 11:\n",
    "            if (btn_cnt % 10) == 0:\n",
    "                btn = driver.find_element_by_css_selector(\"#content > section > div.pagination > span:nth-child(11) > a\")\n",
    "            else:\n",
    "                btn = driver.find_element_by_css_selector(\"#content > section > div.pagination > span:nth-child({}) > a\".format((btn_cnt%10)+1))\n",
    "        else:\n",
    "            btn = driver.find_element_by_css_selector(\"#content > section > div.pagination > span:nth-child({}) > a\".format(btn_cnt))\n",
    "\n",
    "        btn.send_keys(Keys.ENTER)\n",
    "        driver.implicitly_wait(3)\n",
    "pbar.close()"
   ]
  },
  {
   "cell_type": "code",
   "execution_count": null,
   "id": "db7c1370",
   "metadata": {},
   "outputs": [],
   "source": [
    "# 2차 크롤링 (블로그 제목, 포스팅 날짜, 글쓴이) 시작\n",
    "for i in tqdm(range(len(naver_df))):\n",
    "    driver.get(naver_df.loc[i]['url'])\n",
    "    driver.switch_to.frame('mainFrame')\n",
    "    overlays = \".se-component.se-text.se-l-default\" # 내용 크롤링\n",
    "    contents = driver.find_elements_by_css_selector(overlays)\n",
    "\n",
    "    content_list = \"\"\n",
    "\n",
    "    for content in contents:\n",
    "        content_list = content_list + content.text\n",
    "\n",
    "    # 글쓴이 수집\n",
    "    author = driver.find_element_by_xpath(\"\"\"//*[@id=\"nickNameArea\"]\"\"\").text\n",
    "    \n",
    "    # date 수집\n",
    "    try:\n",
    "        date = driver.find_element_by_css_selector(\".se_publishDate.pcol2\").text\n",
    "    except:\n",
    "        date = driver.find_element_by_css_selector(\".date.fil5.pcol2._postAddDate\").text\n",
    "    \n",
    "    naver_df.loc[i][['날짜', '내용', '글쓴이']] = [date, content_list, author]"
   ]
  },
  {
   "cell_type": "code",
   "execution_count": null,
   "id": "6ed23d58",
   "metadata": {},
   "outputs": [],
   "source": [
    "print(crawling_month)"
   ]
  },
  {
   "cell_type": "code",
   "execution_count": null,
   "id": "d22f73a1",
   "metadata": {},
   "outputs": [],
   "source": [
    "save_dir = current+'/data'\n",
    "naver_df.to_csv(save_dir + '/naver_2020_{}.csv'.format(crawling_month), index=False)"
   ]
  }
 ],
 "metadata": {
  "interpreter": {
   "hash": "ece164ea4c6743d38a272172109d7488151f959866c0d64c748a7d6c5cfd95ec"
  },
  "kernelspec": {
   "display_name": "Python 3.8.2 64-bit ('base': conda)",
   "language": "python",
   "name": "python3"
  },
  "language_info": {
   "codemirror_mode": {
    "name": "ipython",
    "version": 3
   },
   "file_extension": ".py",
   "mimetype": "text/x-python",
   "name": "python",
   "nbconvert_exporter": "python",
   "pygments_lexer": "ipython3",
   "version": "3.9.5"
  }
 },
 "nbformat": 4,
 "nbformat_minor": 5
}

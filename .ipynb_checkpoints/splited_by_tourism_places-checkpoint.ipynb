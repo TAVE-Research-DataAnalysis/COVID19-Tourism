{
 "cells": [
  {
   "cell_type": "markdown",
   "metadata": {
    "id": "YqSQDgF4jRvA"
   },
   "source": [
    "- 소민: 2020년 7월 ~ 2020년 12월"
   ]
  },
  {
   "cell_type": "code",
   "execution_count": 1,
   "metadata": {
    "executionInfo": {
     "elapsed": 27067,
     "status": "ok",
     "timestamp": 1646475263848,
     "user": {
      "displayName": "심소민",
      "photoUrl": "https://lh3.googleusercontent.com/a/default-user=s64",
      "userId": "13422866620659141828"
     },
     "user_tz": -540
    },
    "id": "_3nz1-DIXmYY"
   },
   "outputs": [],
   "source": [
    "import pandas as pd\n",
    "import numpy as np\n",
    "\n",
    "from pprint import pprint\n",
    "from tqdm.notebook import tqdm\n",
    "\n",
    "df = pd.read_csv(\"data/total_data.csv\")"
   ]
  },
  {
   "cell_type": "markdown",
   "metadata": {},
   "source": [
    "## Filtering by date"
   ]
  },
  {
   "cell_type": "code",
   "execution_count": 2,
   "metadata": {
    "colab": {
     "base_uri": "https://localhost:8080/",
     "height": 823
    },
    "executionInfo": {
     "elapsed": 20,
     "status": "ok",
     "timestamp": 1646475263859,
     "user": {
      "displayName": "심소민",
      "photoUrl": "https://lh3.googleusercontent.com/a/default-user=s64",
      "userId": "13422866620659141828"
     },
     "user_tz": -540
    },
    "id": "_CZuZeivjbUB",
    "outputId": "4bdbbc3b-69ad-4297-c54c-654c68c792c2"
   },
   "outputs": [
    {
     "data": {
      "text/html": [
       "<div>\n",
       "<style scoped>\n",
       "    .dataframe tbody tr th:only-of-type {\n",
       "        vertical-align: middle;\n",
       "    }\n",
       "\n",
       "    .dataframe tbody tr th {\n",
       "        vertical-align: top;\n",
       "    }\n",
       "\n",
       "    .dataframe thead th {\n",
       "        text-align: right;\n",
       "    }\n",
       "</style>\n",
       "<table border=\"1\" class=\"dataframe\">\n",
       "  <thead>\n",
       "    <tr style=\"text-align: right;\">\n",
       "      <th></th>\n",
       "      <th>날짜</th>\n",
       "      <th>제목</th>\n",
       "      <th>내용</th>\n",
       "      <th>url</th>\n",
       "      <th>text_prep</th>\n",
       "      <th>tokenized_text</th>\n",
       "      <th>jeju_place</th>\n",
       "      <th>jeju_place_google</th>\n",
       "      <th>jeju_place_google_str</th>\n",
       "    </tr>\n",
       "  </thead>\n",
       "  <tbody>\n",
       "    <tr>\n",
       "      <th>0</th>\n",
       "      <td>2020-01-01 00:00:00</td>\n",
       "      <td>제주여행의 시작 : 국립제주박물관 (제주 가볼만한곳, 제주 유배인의 이야기, 비 오...</td>\n",
       "      <td>제주여행의 시작\\n국립제주박물관\\n박물관 도장깨기!이번 저의 제주도 여행 테마는 ‘...</td>\n",
       "      <td>https://blog.naver.com/tnrwlschl/221753997486</td>\n",
       "      <td>제주여행의 시작 국립제주박물관 박물관 도장깨기 이번 저의 제주도 여행 테마는  다크...</td>\n",
       "      <td>['제주', '여행의', '시작', '국립제주박물관', '박물관', '도장깨기', ...</td>\n",
       "      <td>['국립제주박물관', '주차장', '국립제주박물관', '주차장', '대륙', '대해...</td>\n",
       "      <td>[]</td>\n",
       "      <td>NaN</td>\n",
       "    </tr>\n",
       "    <tr>\n",
       "      <th>1</th>\n",
       "      <td>2020-01-01 01:15:00</td>\n",
       "      <td>2019 제주여행 3 :: 성산일출봉, 풍미 독서, 세화해수욕장, 모이소</td>\n",
       "      <td>2박 3일 제주여행의 마지막 날 아침\\n성산 일출봉을 향했다.입장 시간이 이미 해가...</td>\n",
       "      <td>https://blog.naver.com/chersy/221755888807</td>\n",
       "      <td>박  일 제주여행의 마지막 날 아침 성산 일출봉을 향했다.입장 시간이 이미 해가 ...</td>\n",
       "      <td>['제주', '여행의', '마지막', '아침', '성산', '일출봉을', '향했다....</td>\n",
       "      <td>['제일', '우리', '하나', '돌하르방', '성산일출봉', '돌하르방', '마...</td>\n",
       "      <td>['성산일출봉']</td>\n",
       "      <td>성산일출봉</td>\n",
       "    </tr>\n",
       "  </tbody>\n",
       "</table>\n",
       "</div>"
      ],
      "text/plain": [
       "                    날짜                                                 제목  \\\n",
       "0  2020-01-01 00:00:00  제주여행의 시작 : 국립제주박물관 (제주 가볼만한곳, 제주 유배인의 이야기, 비 오...   \n",
       "1  2020-01-01 01:15:00           2019 제주여행 3 :: 성산일출봉, 풍미 독서, 세화해수욕장, 모이소   \n",
       "\n",
       "                                                  내용  \\\n",
       "0  제주여행의 시작\\n국립제주박물관\\n박물관 도장깨기!이번 저의 제주도 여행 테마는 ‘...   \n",
       "1  2박 3일 제주여행의 마지막 날 아침\\n성산 일출봉을 향했다.입장 시간이 이미 해가...   \n",
       "\n",
       "                                             url  \\\n",
       "0  https://blog.naver.com/tnrwlschl/221753997486   \n",
       "1     https://blog.naver.com/chersy/221755888807   \n",
       "\n",
       "                                           text_prep  \\\n",
       "0  제주여행의 시작 국립제주박물관 박물관 도장깨기 이번 저의 제주도 여행 테마는  다크...   \n",
       "1   박  일 제주여행의 마지막 날 아침 성산 일출봉을 향했다.입장 시간이 이미 해가 ...   \n",
       "\n",
       "                                      tokenized_text  \\\n",
       "0  ['제주', '여행의', '시작', '국립제주박물관', '박물관', '도장깨기', ...   \n",
       "1  ['제주', '여행의', '마지막', '아침', '성산', '일출봉을', '향했다....   \n",
       "\n",
       "                                          jeju_place jeju_place_google  \\\n",
       "0  ['국립제주박물관', '주차장', '국립제주박물관', '주차장', '대륙', '대해...                []   \n",
       "1  ['제일', '우리', '하나', '돌하르방', '성산일출봉', '돌하르방', '마...         ['성산일출봉']   \n",
       "\n",
       "  jeju_place_google_str  \n",
       "0                   NaN  \n",
       "1                 성산일출봉  "
      ]
     },
     "execution_count": 2,
     "metadata": {},
     "output_type": "execute_result"
    }
   ],
   "source": [
    "df.head(2)"
   ]
  },
  {
   "cell_type": "code",
   "execution_count": 3,
   "metadata": {
    "executionInfo": {
     "elapsed": 15,
     "status": "ok",
     "timestamp": 1646475263860,
     "user": {
      "displayName": "심소민",
      "photoUrl": "https://lh3.googleusercontent.com/a/default-user=s64",
      "userId": "13422866620659141828"
     },
     "user_tz": -540
    },
    "id": "aNmghHEdkfBZ"
   },
   "outputs": [
    {
     "data": {
      "text/plain": [
       "(69513, 9)"
      ]
     },
     "execution_count": 3,
     "metadata": {},
     "output_type": "execute_result"
    }
   ],
   "source": [
    "df['날짜'] = pd.to_datetime(df['날짜'])\n",
    "df.shape"
   ]
  },
  {
   "cell_type": "code",
   "execution_count": 4,
   "metadata": {},
   "outputs": [
    {
     "data": {
      "text/plain": [
       "(21116, 9)"
      ]
     },
     "execution_count": 4,
     "metadata": {},
     "output_type": "execute_result"
    }
   ],
   "source": [
    "df_filtered = df.loc[df[\"날짜\"].between('2020-07-01', '2020-12-31')]\n",
    "df_filtered.shape"
   ]
  },
  {
   "cell_type": "code",
   "execution_count": 5,
   "metadata": {
    "executionInfo": {
     "elapsed": 16,
     "status": "ok",
     "timestamp": 1646475263861,
     "user": {
      "displayName": "심소민",
      "photoUrl": "https://lh3.googleusercontent.com/a/default-user=s64",
      "userId": "13422866620659141828"
     },
     "user_tz": -540
    },
    "id": "0dZ7GCa4xHEw"
   },
   "outputs": [
    {
     "data": {
      "text/plain": [
       "(8410, 9)"
      ]
     },
     "execution_count": 5,
     "metadata": {},
     "output_type": "execute_result"
    }
   ],
   "source": [
    "df_filtered = df_filtered.dropna()\n",
    "df_filtered.shape"
   ]
  },
  {
   "cell_type": "code",
   "execution_count": 6,
   "metadata": {
    "executionInfo": {
     "elapsed": 415,
     "status": "ok",
     "timestamp": 1646474342494,
     "user": {
      "displayName": "심소민",
      "photoUrl": "https://lh3.googleusercontent.com/a/default-user=s64",
      "userId": "13422866620659141828"
     },
     "user_tz": -540
    },
    "id": "XNR2V4SAhDiC"
   },
   "outputs": [],
   "source": [
    "df_filtered.to_csv(\"data/total_data_filtered.csv\", index=False)"
   ]
  },
  {
   "cell_type": "markdown",
   "metadata": {},
   "source": [
    "## Split by places"
   ]
  },
  {
   "cell_type": "code",
   "execution_count": 7,
   "metadata": {
    "executionInfo": {
     "elapsed": 4,
     "status": "ok",
     "timestamp": 1646474849870,
     "user": {
      "displayName": "심소민",
      "photoUrl": "https://lh3.googleusercontent.com/a/default-user=s64",
      "userId": "13422866620659141828"
     },
     "user_tz": -540
    },
    "id": "2ZxDZJCFjDTu"
   },
   "outputs": [
    {
     "data": {
      "text/plain": [
       "(8410, 9)"
      ]
     },
     "execution_count": 7,
     "metadata": {},
     "output_type": "execute_result"
    }
   ],
   "source": [
    "df_filtered = pd.read_csv(\"data/total_data_filtered.csv\")\n",
    "df_filtered.shape"
   ]
  },
  {
   "cell_type": "code",
   "execution_count": 8,
   "metadata": {},
   "outputs": [
    {
     "data": {
      "text/html": [
       "<div>\n",
       "<style scoped>\n",
       "    .dataframe tbody tr th:only-of-type {\n",
       "        vertical-align: middle;\n",
       "    }\n",
       "\n",
       "    .dataframe tbody tr th {\n",
       "        vertical-align: top;\n",
       "    }\n",
       "\n",
       "    .dataframe thead th {\n",
       "        text-align: right;\n",
       "    }\n",
       "</style>\n",
       "<table border=\"1\" class=\"dataframe\">\n",
       "  <thead>\n",
       "    <tr style=\"text-align: right;\">\n",
       "      <th></th>\n",
       "      <th>날짜</th>\n",
       "      <th>제목</th>\n",
       "      <th>내용</th>\n",
       "      <th>url</th>\n",
       "      <th>text_prep</th>\n",
       "      <th>tokenized_text</th>\n",
       "      <th>jeju_place</th>\n",
       "      <th>jeju_place_google</th>\n",
       "      <th>jeju_place_google_str</th>\n",
       "    </tr>\n",
       "  </thead>\n",
       "  <tbody>\n",
       "    <tr>\n",
       "      <th>0</th>\n",
       "      <td>2020-07-01 00:11:00</td>\n",
       "      <td>20200622-0624제주여행/셋째날</td>\n",
       "      <td>셋째날은 비가 온다는걸 미리 알고있었기에\\n별다른 일정을 잡지 않았다.\\n일출은 사...</td>\n",
       "      <td>https://blog.naver.com/mylovemiso/222017317029</td>\n",
       "      <td>셋째날은 비가 온다는걸 미리 알고있었기에 별다른 일정을 잡지 않았다. 일출은 사치 ...</td>\n",
       "      <td>['셋째날', '비가', '온다', '는걸', '미리', '알고', '있었기에', ...</td>\n",
       "      <td>['산방산', '중문', '산방산', '산방산', '중문', '산방산', '제일',...</td>\n",
       "      <td>['산방산']</td>\n",
       "      <td>산방산</td>\n",
       "    </tr>\n",
       "    <tr>\n",
       "      <th>1</th>\n",
       "      <td>2020-07-01 00:32:00</td>\n",
       "      <td>제주여행 #3 : 성산 @애월 텐동 맛집 료리아, 성산여행지 보롬왓 &amp; 빛의 벙커...</td>\n",
       "      <td>2020.05.02 ~ 05\\n제주여행 3일차,\\n아침은 라면으로 해장을 했는데\\n...</td>\n",
       "      <td>https://blog.naver.com/linzyworld/222017333868</td>\n",
       "      <td>.  .        제주여행  일차  아침은 라면으로 해장을 했는데 퇴실하...</td>\n",
       "      <td>['제주', '여행', '일차', '아침', '라면', '으로', '해장을', '했...</td>\n",
       "      <td>['주차장', '주차장', '우리', '제일', '넓은', '한잔', '농장', '...</td>\n",
       "      <td>['빛의벙커']</td>\n",
       "      <td>빛의벙커</td>\n",
       "    </tr>\n",
       "  </tbody>\n",
       "</table>\n",
       "</div>"
      ],
      "text/plain": [
       "                    날짜                                                제목  \\\n",
       "0  2020-07-01 00:11:00                             20200622-0624제주여행/셋째날   \n",
       "1  2020-07-01 00:32:00  제주여행 #3 : 성산 @애월 텐동 맛집 료리아, 성산여행지 보롬왓 & 빛의 벙커...   \n",
       "\n",
       "                                                  내용  \\\n",
       "0  셋째날은 비가 온다는걸 미리 알고있었기에\\n별다른 일정을 잡지 않았다.\\n일출은 사...   \n",
       "1  2020.05.02 ~ 05\\n제주여행 3일차,\\n아침은 라면으로 해장을 했는데\\n...   \n",
       "\n",
       "                                              url  \\\n",
       "0  https://blog.naver.com/mylovemiso/222017317029   \n",
       "1  https://blog.naver.com/linzyworld/222017333868   \n",
       "\n",
       "                                           text_prep  \\\n",
       "0  셋째날은 비가 온다는걸 미리 알고있었기에 별다른 일정을 잡지 않았다. 일출은 사치 ...   \n",
       "1      .  .        제주여행  일차  아침은 라면으로 해장을 했는데 퇴실하...   \n",
       "\n",
       "                                      tokenized_text  \\\n",
       "0  ['셋째날', '비가', '온다', '는걸', '미리', '알고', '있었기에', ...   \n",
       "1  ['제주', '여행', '일차', '아침', '라면', '으로', '해장을', '했...   \n",
       "\n",
       "                                          jeju_place jeju_place_google  \\\n",
       "0  ['산방산', '중문', '산방산', '산방산', '중문', '산방산', '제일',...           ['산방산']   \n",
       "1  ['주차장', '주차장', '우리', '제일', '넓은', '한잔', '농장', '...          ['빛의벙커']   \n",
       "\n",
       "  jeju_place_google_str  \n",
       "0                   산방산  \n",
       "1                  빛의벙커  "
      ]
     },
     "execution_count": 8,
     "metadata": {},
     "output_type": "execute_result"
    }
   ],
   "source": [
    "df_filtered.head(2)"
   ]
  },
  {
   "cell_type": "code",
   "execution_count": 9,
   "metadata": {
    "colab": {
     "base_uri": "https://localhost:8080/"
    },
    "executionInfo": {
     "elapsed": 386,
     "status": "ok",
     "timestamp": 1646475288503,
     "user": {
      "displayName": "심소민",
      "photoUrl": "https://lh3.googleusercontent.com/a/default-user=s64",
      "userId": "13422866620659141828"
     },
     "user_tz": -540
    },
    "id": "muJ_Jc00uQ4b",
    "outputId": "16bfabc9-70b3-40a2-fda8-4d0df1bb33f9"
   },
   "outputs": [],
   "source": [
    "df_filtered['jeju_place_google'] = [place.split(', ') for place in df_filtered['jeju_place_google_str'] ]"
   ]
  },
  {
   "cell_type": "code",
   "execution_count": 10,
   "metadata": {},
   "outputs": [
    {
     "data": {
      "text/plain": [
       "list"
      ]
     },
     "execution_count": 10,
     "metadata": {},
     "output_type": "execute_result"
    }
   ],
   "source": [
    "type(df_filtered['jeju_place_google'].iloc[0])"
   ]
  },
  {
   "cell_type": "code",
   "execution_count": 11,
   "metadata": {
    "colab": {
     "base_uri": "https://localhost:8080/"
    },
    "executionInfo": {
     "elapsed": 1,
     "status": "ok",
     "timestamp": 1646475291135,
     "user": {
      "displayName": "심소민",
      "photoUrl": "https://lh3.googleusercontent.com/a/default-user=s64",
      "userId": "13422866620659141828"
     },
     "user_tz": -540
    },
    "id": "_inFcBpT8PBw",
    "outputId": "140f6ee8-ac90-4142-d9c9-e357ded72d58"
   },
   "outputs": [
    {
     "name": "stdout",
     "output_type": "stream",
     "text": [
      "['빛의벙커']\n"
     ]
    }
   ],
   "source": [
    "pprint(df_filtered.iloc[1].jeju_place_google)"
   ]
  },
  {
   "cell_type": "code",
   "execution_count": 12,
   "metadata": {
    "colab": {
     "base_uri": "https://localhost:8080/"
    },
    "id": "XS1kmZRQvZfO",
    "outputId": "8b6a0b8e-8ec5-4535-e6d4-16e6e6be3be0",
    "scrolled": true
   },
   "outputs": [
    {
     "data": {
      "application/vnd.jupyter.widget-view+json": {
       "model_id": "449d6196707d4a9ca8608a4027bc132a",
       "version_major": 2,
       "version_minor": 0
      },
      "text/plain": [
       "0it [00:00, ?it/s]"
      ]
     },
     "metadata": {},
     "output_type": "display_data"
    }
   ],
   "source": [
    "import re\n",
    "\n",
    "s_idx=0\n",
    "result_list = []\n",
    "for idx, row in tqdm(df_filtered.iterrows()):\n",
    "    jeju_place_google = row['jeju_place_google']\n",
    "#     print(len(jeju_place_google))\n",
    "    if len(jeju_place_google) == 1:\n",
    "        result_list.append([row['날짜'], row['text_prep'], row['jeju_place_google_str'], idx])\n",
    "        continue\n",
    "    sents = re.split(r'[.!?]', row['text_prep'])\n",
    "    target_place = jeju_place_google[0]\n",
    "    for sent_idx, s in enumerate(sents):        \n",
    "        if target_place in s:\n",
    "            s_idx = sent_idx\n",
    "        for place in jeju_place_google:\n",
    "            if (target_place != place) & (place in s):\n",
    "#                 print(target_place)\n",
    "#                 print(s_idx, sent_idx)\n",
    "#                 print(\"\".join(sents[s_idx:sent_idx+1]))\n",
    "                result_list.append([row['날짜'], \"\".join(sents[s_idx:sent_idx+1]), target_place, idx])\n",
    "                target_place = place\n",
    "                s_idx = sent_idx\n",
    "\n",
    "result_list.append([row['날짜'], \"\".join(sents[s_idx:]), target_place, idx])"
   ]
  },
  {
   "cell_type": "code",
   "execution_count": 13,
   "metadata": {
    "colab": {
     "base_uri": "https://localhost:8080/",
     "height": 175
    },
    "executionInfo": {
     "elapsed": 18,
     "status": "ok",
     "timestamp": 1646474437937,
     "user": {
      "displayName": "심소민",
      "photoUrl": "https://lh3.googleusercontent.com/a/default-user=s64",
      "userId": "13422866620659141828"
     },
     "user_tz": -540
    },
    "id": "OOVmC2LrhdQi",
    "outputId": "30b4a508-60a5-4401-b46e-7c12ee6d1a2e"
   },
   "outputs": [],
   "source": [
    "splited_data = pd.DataFrame(result_list, columns=[\"date\", 'text', 'place', 'idx'])"
   ]
  },
  {
   "cell_type": "code",
   "execution_count": 14,
   "metadata": {
    "id": "w8I3DiZpm3Ag"
   },
   "outputs": [
    {
     "data": {
      "text/html": [
       "<div>\n",
       "<style scoped>\n",
       "    .dataframe tbody tr th:only-of-type {\n",
       "        vertical-align: middle;\n",
       "    }\n",
       "\n",
       "    .dataframe tbody tr th {\n",
       "        vertical-align: top;\n",
       "    }\n",
       "\n",
       "    .dataframe thead th {\n",
       "        text-align: right;\n",
       "    }\n",
       "</style>\n",
       "<table border=\"1\" class=\"dataframe\">\n",
       "  <thead>\n",
       "    <tr style=\"text-align: right;\">\n",
       "      <th></th>\n",
       "      <th>date</th>\n",
       "      <th>text</th>\n",
       "      <th>place</th>\n",
       "      <th>idx</th>\n",
       "    </tr>\n",
       "  </thead>\n",
       "  <tbody>\n",
       "    <tr>\n",
       "      <th>0</th>\n",
       "      <td>2020-07-01 00:11:00</td>\n",
       "      <td>셋째날은 비가 온다는걸 미리 알고있었기에 별다른 일정을 잡지 않았다. 일출은 사치 ...</td>\n",
       "      <td>산방산</td>\n",
       "      <td>0</td>\n",
       "    </tr>\n",
       "    <tr>\n",
       "      <th>1</th>\n",
       "      <td>2020-07-01 00:32:00</td>\n",
       "      <td>.  .        제주여행  일차  아침은 라면으로 해장을 했는데 퇴실하...</td>\n",
       "      <td>빛의벙커</td>\n",
       "      <td>1</td>\n",
       "    </tr>\n",
       "    <tr>\n",
       "      <th>2</th>\n",
       "      <td>2020-07-01 01:01:00</td>\n",
       "      <td>비가 하루종일 올거란 일기예보와는 달리 쾌창하다못해 구름한점없는 아침이였다.일어나자...</td>\n",
       "      <td>우도</td>\n",
       "      <td>2</td>\n",
       "    </tr>\n",
       "    <tr>\n",
       "      <th>3</th>\n",
       "      <td>2020-07-01 02:32:00</td>\n",
       "      <td>가다가 우도 비양도를 발견하고 바로 들어갔음</td>\n",
       "      <td>우도</td>\n",
       "      <td>3</td>\n",
       "    </tr>\n",
       "    <tr>\n",
       "      <th>4</th>\n",
       "      <td>2020-07-01 02:32:00</td>\n",
       "      <td>가다가 우도 비양도를 발견하고 바로 들어갔음 보민이가 거의 바닥에 붙어서 사진을 찍...</td>\n",
       "      <td>비양도</td>\n",
       "      <td>3</td>\n",
       "    </tr>\n",
       "    <tr>\n",
       "      <th>...</th>\n",
       "      <td>...</td>\n",
       "      <td>...</td>\n",
       "      <td>...</td>\n",
       "      <td>...</td>\n",
       "    </tr>\n",
       "    <tr>\n",
       "      <th>12873</th>\n",
       "      <td>2020-12-30 23:31:00</td>\n",
       "      <td>첫 여행지는 함덕해수욕장  금강산도 식후경    갈치조림 먹으러 고고링건너편 주차...</td>\n",
       "      <td>함덕해수욕장</td>\n",
       "      <td>8409</td>\n",
       "    </tr>\n",
       "    <tr>\n",
       "      <th>12874</th>\n",
       "      <td>2020-12-30 23:31:00</td>\n",
       "      <td>다랑쉬오름은 비온뒤라 오르기 힘들꺼같아서 포기 스을카페는 너무 가고싶어서 사장님...</td>\n",
       "      <td>빛의벙커</td>\n",
       "      <td>8409</td>\n",
       "    </tr>\n",
       "    <tr>\n",
       "      <th>12875</th>\n",
       "      <td>2020-12-30 23:31:00</td>\n",
       "      <td>다랑쉬오름은 비온뒤라 오르기 힘들꺼같아서 포기 스을카페는 너무 가고싶어서 사장님...</td>\n",
       "      <td>성산일출봉</td>\n",
       "      <td>8409</td>\n",
       "    </tr>\n",
       "    <tr>\n",
       "      <th>12876</th>\n",
       "      <td>2020-12-30 23:31:00</td>\n",
       "      <td>일차  진에어 제주공항 스타렌트카 함덕해수욕장 테우 오드랑베이커리  스을 만석...</td>\n",
       "      <td>함덕해수욕장</td>\n",
       "      <td>8409</td>\n",
       "    </tr>\n",
       "    <tr>\n",
       "      <th>12877</th>\n",
       "      <td>2020-12-30 23:31:00</td>\n",
       "      <td>일차  진에어 제주공항 스타렌트카 함덕해수욕장 테우 오드랑베이커리  스을 만석...</td>\n",
       "      <td>빛의벙커</td>\n",
       "      <td>8409</td>\n",
       "    </tr>\n",
       "  </tbody>\n",
       "</table>\n",
       "<p>12878 rows × 4 columns</p>\n",
       "</div>"
      ],
      "text/plain": [
       "                      date                                               text  \\\n",
       "0      2020-07-01 00:11:00  셋째날은 비가 온다는걸 미리 알고있었기에 별다른 일정을 잡지 않았다. 일출은 사치 ...   \n",
       "1      2020-07-01 00:32:00      .  .        제주여행  일차  아침은 라면으로 해장을 했는데 퇴실하...   \n",
       "2      2020-07-01 01:01:00  비가 하루종일 올거란 일기예보와는 달리 쾌창하다못해 구름한점없는 아침이였다.일어나자...   \n",
       "3      2020-07-01 02:32:00                           가다가 우도 비양도를 발견하고 바로 들어갔음   \n",
       "4      2020-07-01 02:32:00  가다가 우도 비양도를 발견하고 바로 들어갔음 보민이가 거의 바닥에 붙어서 사진을 찍...   \n",
       "...                    ...                                                ...   \n",
       "12873  2020-12-30 23:31:00   첫 여행지는 함덕해수욕장  금강산도 식후경    갈치조림 먹으러 고고링건너편 주차...   \n",
       "12874  2020-12-30 23:31:00    다랑쉬오름은 비온뒤라 오르기 힘들꺼같아서 포기 스을카페는 너무 가고싶어서 사장님...   \n",
       "12875  2020-12-30 23:31:00    다랑쉬오름은 비온뒤라 오르기 힘들꺼같아서 포기 스을카페는 너무 가고싶어서 사장님...   \n",
       "12876  2020-12-30 23:31:00     일차  진에어 제주공항 스타렌트카 함덕해수욕장 테우 오드랑베이커리  스을 만석...   \n",
       "12877  2020-12-30 23:31:00     일차  진에어 제주공항 스타렌트카 함덕해수욕장 테우 오드랑베이커리  스을 만석...   \n",
       "\n",
       "        place   idx  \n",
       "0         산방산     0  \n",
       "1        빛의벙커     1  \n",
       "2          우도     2  \n",
       "3          우도     3  \n",
       "4         비양도     3  \n",
       "...       ...   ...  \n",
       "12873  함덕해수욕장  8409  \n",
       "12874    빛의벙커  8409  \n",
       "12875   성산일출봉  8409  \n",
       "12876  함덕해수욕장  8409  \n",
       "12877    빛의벙커  8409  \n",
       "\n",
       "[12878 rows x 4 columns]"
      ]
     },
     "execution_count": 14,
     "metadata": {},
     "output_type": "execute_result"
    }
   ],
   "source": [
    "splited_data"
   ]
  },
  {
   "cell_type": "code",
   "execution_count": 15,
   "metadata": {},
   "outputs": [],
   "source": [
    "splited_data.to_csv(\"splited_data.csv\", index=False)"
   ]
  }
 ],
 "metadata": {
  "colab": {
   "authorship_tag": "ABX9TyM1c3aSFkQA41LbzD3ILBTR",
   "name": "Untitled0.ipynb",
   "provenance": []
  },
  "kernelspec": {
   "display_name": "Python 3 (ipykernel)",
   "language": "python",
   "name": "python3"
  },
  "language_info": {
   "codemirror_mode": {
    "name": "ipython",
    "version": 3
   },
   "file_extension": ".py",
   "mimetype": "text/x-python",
   "name": "python",
   "nbconvert_exporter": "python",
   "pygments_lexer": "ipython3",
   "version": "3.8.12"
  },
  "widgets": {
   "application/vnd.jupyter.widget-state+json": {
    "16a1085dbfa94ae69669698b9d6a53c6": {
     "model_module": "@jupyter-widgets/controls",
     "model_module_version": "1.5.0",
     "model_name": "HTMLModel",
     "state": {
      "_dom_classes": [],
      "_model_module": "@jupyter-widgets/controls",
      "_model_module_version": "1.5.0",
      "_model_name": "HTMLModel",
      "_view_count": null,
      "_view_module": "@jupyter-widgets/controls",
      "_view_module_version": "1.5.0",
      "_view_name": "HTMLView",
      "description": "",
      "description_tooltip": null,
      "layout": "IPY_MODEL_b74bf469c89444159b739b93e4112504",
      "placeholder": "​",
      "style": "IPY_MODEL_67959a31f58345a7b06fc68613d6e0ce",
      "value": " 28383/28383 [2:56:25&lt;00:00,  1.45it/s]"
     }
    },
    "4348a55d29d34d38a4420cd9de1d9642": {
     "model_module": "@jupyter-widgets/controls",
     "model_module_version": "1.5.0",
     "model_name": "FloatProgressModel",
     "state": {
      "_dom_classes": [],
      "_model_module": "@jupyter-widgets/controls",
      "_model_module_version": "1.5.0",
      "_model_name": "FloatProgressModel",
      "_view_count": null,
      "_view_module": "@jupyter-widgets/controls",
      "_view_module_version": "1.5.0",
      "_view_name": "ProgressView",
      "bar_style": "success",
      "description": "",
      "description_tooltip": null,
      "layout": "IPY_MODEL_88e649c01bbf42c8b81f4bc0408ac57c",
      "max": 28383,
      "min": 0,
      "orientation": "horizontal",
      "style": "IPY_MODEL_d0a0a9c6ad3148b59cc7f1c974908cdb",
      "value": 28383
     }
    },
    "485b2636b3ef472fa3f4d478d0936c62": {
     "model_module": "@jupyter-widgets/base",
     "model_module_version": "1.2.0",
     "model_name": "LayoutModel",
     "state": {
      "_model_module": "@jupyter-widgets/base",
      "_model_module_version": "1.2.0",
      "_model_name": "LayoutModel",
      "_view_count": null,
      "_view_module": "@jupyter-widgets/base",
      "_view_module_version": "1.2.0",
      "_view_name": "LayoutView",
      "align_content": null,
      "align_items": null,
      "align_self": null,
      "border": null,
      "bottom": null,
      "display": null,
      "flex": null,
      "flex_flow": null,
      "grid_area": null,
      "grid_auto_columns": null,
      "grid_auto_flow": null,
      "grid_auto_rows": null,
      "grid_column": null,
      "grid_gap": null,
      "grid_row": null,
      "grid_template_areas": null,
      "grid_template_columns": null,
      "grid_template_rows": null,
      "height": null,
      "justify_content": null,
      "justify_items": null,
      "left": null,
      "margin": null,
      "max_height": null,
      "max_width": null,
      "min_height": null,
      "min_width": null,
      "object_fit": null,
      "object_position": null,
      "order": null,
      "overflow": null,
      "overflow_x": null,
      "overflow_y": null,
      "padding": null,
      "right": null,
      "top": null,
      "visibility": null,
      "width": null
     }
    },
    "6374a77f61344ab595103f93f8e8e857": {
     "model_module": "@jupyter-widgets/controls",
     "model_module_version": "1.5.0",
     "model_name": "DescriptionStyleModel",
     "state": {
      "_model_module": "@jupyter-widgets/controls",
      "_model_module_version": "1.5.0",
      "_model_name": "DescriptionStyleModel",
      "_view_count": null,
      "_view_module": "@jupyter-widgets/base",
      "_view_module_version": "1.2.0",
      "_view_name": "StyleView",
      "description_width": ""
     }
    },
    "67959a31f58345a7b06fc68613d6e0ce": {
     "model_module": "@jupyter-widgets/controls",
     "model_module_version": "1.5.0",
     "model_name": "DescriptionStyleModel",
     "state": {
      "_model_module": "@jupyter-widgets/controls",
      "_model_module_version": "1.5.0",
      "_model_name": "DescriptionStyleModel",
      "_view_count": null,
      "_view_module": "@jupyter-widgets/base",
      "_view_module_version": "1.2.0",
      "_view_name": "StyleView",
      "description_width": ""
     }
    },
    "78c92fb86ebd48d4a71b202d8bbfdb80": {
     "model_module": "@jupyter-widgets/controls",
     "model_module_version": "1.5.0",
     "model_name": "HBoxModel",
     "state": {
      "_dom_classes": [],
      "_model_module": "@jupyter-widgets/controls",
      "_model_module_version": "1.5.0",
      "_model_name": "HBoxModel",
      "_view_count": null,
      "_view_module": "@jupyter-widgets/controls",
      "_view_module_version": "1.5.0",
      "_view_name": "HBoxView",
      "box_style": "",
      "children": [
       "IPY_MODEL_91e8cb9802984beaa54cf60e147a0f4d",
       "IPY_MODEL_4348a55d29d34d38a4420cd9de1d9642",
       "IPY_MODEL_16a1085dbfa94ae69669698b9d6a53c6"
      ],
      "layout": "IPY_MODEL_485b2636b3ef472fa3f4d478d0936c62"
     }
    },
    "88e649c01bbf42c8b81f4bc0408ac57c": {
     "model_module": "@jupyter-widgets/base",
     "model_module_version": "1.2.0",
     "model_name": "LayoutModel",
     "state": {
      "_model_module": "@jupyter-widgets/base",
      "_model_module_version": "1.2.0",
      "_model_name": "LayoutModel",
      "_view_count": null,
      "_view_module": "@jupyter-widgets/base",
      "_view_module_version": "1.2.0",
      "_view_name": "LayoutView",
      "align_content": null,
      "align_items": null,
      "align_self": null,
      "border": null,
      "bottom": null,
      "display": null,
      "flex": null,
      "flex_flow": null,
      "grid_area": null,
      "grid_auto_columns": null,
      "grid_auto_flow": null,
      "grid_auto_rows": null,
      "grid_column": null,
      "grid_gap": null,
      "grid_row": null,
      "grid_template_areas": null,
      "grid_template_columns": null,
      "grid_template_rows": null,
      "height": null,
      "justify_content": null,
      "justify_items": null,
      "left": null,
      "margin": null,
      "max_height": null,
      "max_width": null,
      "min_height": null,
      "min_width": null,
      "object_fit": null,
      "object_position": null,
      "order": null,
      "overflow": null,
      "overflow_x": null,
      "overflow_y": null,
      "padding": null,
      "right": null,
      "top": null,
      "visibility": null,
      "width": null
     }
    },
    "91e8cb9802984beaa54cf60e147a0f4d": {
     "model_module": "@jupyter-widgets/controls",
     "model_module_version": "1.5.0",
     "model_name": "HTMLModel",
     "state": {
      "_dom_classes": [],
      "_model_module": "@jupyter-widgets/controls",
      "_model_module_version": "1.5.0",
      "_model_name": "HTMLModel",
      "_view_count": null,
      "_view_module": "@jupyter-widgets/controls",
      "_view_module_version": "1.5.0",
      "_view_name": "HTMLView",
      "description": "",
      "description_tooltip": null,
      "layout": "IPY_MODEL_f5e40af3591741e99cc384d95a6892fc",
      "placeholder": "​",
      "style": "IPY_MODEL_6374a77f61344ab595103f93f8e8e857",
      "value": "100%"
     }
    },
    "b74bf469c89444159b739b93e4112504": {
     "model_module": "@jupyter-widgets/base",
     "model_module_version": "1.2.0",
     "model_name": "LayoutModel",
     "state": {
      "_model_module": "@jupyter-widgets/base",
      "_model_module_version": "1.2.0",
      "_model_name": "LayoutModel",
      "_view_count": null,
      "_view_module": "@jupyter-widgets/base",
      "_view_module_version": "1.2.0",
      "_view_name": "LayoutView",
      "align_content": null,
      "align_items": null,
      "align_self": null,
      "border": null,
      "bottom": null,
      "display": null,
      "flex": null,
      "flex_flow": null,
      "grid_area": null,
      "grid_auto_columns": null,
      "grid_auto_flow": null,
      "grid_auto_rows": null,
      "grid_column": null,
      "grid_gap": null,
      "grid_row": null,
      "grid_template_areas": null,
      "grid_template_columns": null,
      "grid_template_rows": null,
      "height": null,
      "justify_content": null,
      "justify_items": null,
      "left": null,
      "margin": null,
      "max_height": null,
      "max_width": null,
      "min_height": null,
      "min_width": null,
      "object_fit": null,
      "object_position": null,
      "order": null,
      "overflow": null,
      "overflow_x": null,
      "overflow_y": null,
      "padding": null,
      "right": null,
      "top": null,
      "visibility": null,
      "width": null
     }
    },
    "d0a0a9c6ad3148b59cc7f1c974908cdb": {
     "model_module": "@jupyter-widgets/controls",
     "model_module_version": "1.5.0",
     "model_name": "ProgressStyleModel",
     "state": {
      "_model_module": "@jupyter-widgets/controls",
      "_model_module_version": "1.5.0",
      "_model_name": "ProgressStyleModel",
      "_view_count": null,
      "_view_module": "@jupyter-widgets/base",
      "_view_module_version": "1.2.0",
      "_view_name": "StyleView",
      "bar_color": null,
      "description_width": ""
     }
    },
    "f5e40af3591741e99cc384d95a6892fc": {
     "model_module": "@jupyter-widgets/base",
     "model_module_version": "1.2.0",
     "model_name": "LayoutModel",
     "state": {
      "_model_module": "@jupyter-widgets/base",
      "_model_module_version": "1.2.0",
      "_model_name": "LayoutModel",
      "_view_count": null,
      "_view_module": "@jupyter-widgets/base",
      "_view_module_version": "1.2.0",
      "_view_name": "LayoutView",
      "align_content": null,
      "align_items": null,
      "align_self": null,
      "border": null,
      "bottom": null,
      "display": null,
      "flex": null,
      "flex_flow": null,
      "grid_area": null,
      "grid_auto_columns": null,
      "grid_auto_flow": null,
      "grid_auto_rows": null,
      "grid_column": null,
      "grid_gap": null,
      "grid_row": null,
      "grid_template_areas": null,
      "grid_template_columns": null,
      "grid_template_rows": null,
      "height": null,
      "justify_content": null,
      "justify_items": null,
      "left": null,
      "margin": null,
      "max_height": null,
      "max_width": null,
      "min_height": null,
      "min_width": null,
      "object_fit": null,
      "object_position": null,
      "order": null,
      "overflow": null,
      "overflow_x": null,
      "overflow_y": null,
      "padding": null,
      "right": null,
      "top": null,
      "visibility": null,
      "width": null
     }
    }
   }
  }
 },
 "nbformat": 4,
 "nbformat_minor": 1
}

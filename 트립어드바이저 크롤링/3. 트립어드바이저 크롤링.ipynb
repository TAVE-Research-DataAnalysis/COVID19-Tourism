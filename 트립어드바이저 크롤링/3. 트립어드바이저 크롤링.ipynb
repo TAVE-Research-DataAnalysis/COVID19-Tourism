{
 "cells": [
  {
   "cell_type": "code",
   "execution_count": 1,
   "id": "a0d31125",
   "metadata": {},
   "outputs": [],
   "source": [
    "save_dir = '/Users/yeonghyeon/Documents/Study/TAVE Research/데이터 분석 프로젝트팀/2. Tourism/data'"
   ]
  },
  {
   "cell_type": "code",
   "execution_count": 157,
   "id": "41a48ac2",
   "metadata": {},
   "outputs": [],
   "source": [
    "import time, os\n",
    "from selenium import webdriver\n",
    "import requests\n",
    "from bs4 import BeautifulSoup\n",
    "\n",
    "from selenium.webdriver import ActionChains\n",
    "from selenium.webdriver.support.ui import WebDriverWait\n",
    "from selenium.webdriver.support import expected_conditions as EC\n",
    "from selenium.webdriver.common.by import By\n",
    "from selenium.webdriver.common.keys import Keys\n",
    "from selenium.common.exceptions import TimeoutException\n",
    "from selenium.webdriver.common.alert import Alert\n",
    "from selenium.webdriver.support.ui import WebDriverWait as wait\n",
    "import time\n",
    "\n",
    "import pandas as pd\n",
    "import numpy as np\n",
    "import re"
   ]
  },
  {
   "cell_type": "code",
   "execution_count": 158,
   "id": "c485960e",
   "metadata": {},
   "outputs": [],
   "source": [
    "# 드라이버 지정\n",
    "chrome_path = '/opt/homebrew/bin/chromedriver'\n",
    "options = webdriver.ChromeOptions() # 크롬 옵션 객체 생성\n",
    "options.add_argument(\"enable-automation\")\n",
    "#options.add_argument('headless') # headless 모드 설정 (창 안 띄움)\n",
    "options.add_argument(\"window-size=1920x1080\") # 화면크기\n",
    "options.add_argument(\"--no-sandbox\")\n",
    "options.add_argument(\"disable-gpu\") \n",
    "options.add_argument(\"disable-infobars\")\n",
    "options.add_argument(\"--disable-extensions\")\n",
    "options.add_argument(\"--dns-prefetch-disable\")\n",
    "options.add_argument('--disable-site-isolation-trials')\n"
   ]
  },
  {
   "cell_type": "code",
   "execution_count": 306,
   "id": "f6caa1d0",
   "metadata": {},
   "outputs": [],
   "source": [
    "# 크롬 웹브라우저 실행\n",
    "driver = webdriver.Chrome(chrome_path, options=options)"
   ]
  },
  {
   "cell_type": "code",
   "execution_count": 288,
   "id": "0930ffac",
   "metadata": {
    "scrolled": true
   },
   "outputs": [
    {
     "data": {
      "text/plain": [
       "8"
      ]
     },
     "execution_count": 288,
     "metadata": {},
     "output_type": "execute_result"
    }
   ],
   "source": [
    "jeju_place = jeju_top47 = ['성산일출봉','한라산','만장굴','천지연','주상절리대','정방폭포','헬로키티아일랜드','제주 마라도']\n",
    "len(jeju_place)\n"
   ]
  },
  {
   "cell_type": "code",
   "execution_count": null,
   "id": "46463832",
   "metadata": {},
   "outputs": [],
   "source": [
    "#place_url = []\n",
    "\n",
    "for query in jeju_place[6:]:\n",
    "    driver.get('https://www.tripadvisor.co.kr/')\n",
    "\n",
    "    # 네이버 검색창에 \"검색어\" 검색\n",
    "    element = WebDriverWait(driver, 10).until(\n",
    "                EC.presence_of_element_located((By.CSS_SELECTOR, \"#lithium-root > main > div.dqRmR.dcDXR.dJjeH > div > div > div.weiIG.Z0.Wh.fRhqZ > form > input.fhEMT._G.B-.z._J.Cj.R0\")))\n",
    "    element.send_keys(query, Keys.ENTER)  \n",
    "    time.sleep(2)\n",
    "\n",
    "    # '즐길거리' 선택\n",
    "    element = WebDriverWait(driver, 10).until(\n",
    "                EC.presence_of_element_located((By.XPATH, \"\"\"//*[@id=\"search-filters\"]/ul/li[4]/a\"\"\")))\n",
    "    element.click()\n",
    "    time.sleep(2)\n",
    "\n",
    "    # 관광지 검색 결과 클릭 (첫번째 글)\n",
    "    if query == '제주 마라도':\n",
    "        place = WebDriverWait(driver, 10).until(\n",
    "                EC.presence_of_element_located((By.CSS_SELECTOR, \n",
    "            \"#BODY_BLOCK_JQUERY_REFLOW > div.page > div > div.ui_container.main_wrap > div > div > div > div > div.content_column.ui_column.is-9-desktop.is-12-tablet.is-12-mobile > div > div.ui_columns.sections_wrapper > div > div.prw_rup.prw_search_search_results.ajax-content > div > div.main_content.ui_column.is-12 > div > div:nth-child(2) > div > div > div:nth-child(2) > div > div > div > div.ui_column.is-9-desktop.is-8-mobile.is-9-tablet.content-block-column > div > div.result-title\")))\n",
    "\n",
    "    else:\n",
    "        place = WebDriverWait(driver, 10).until(\n",
    "                    EC.presence_of_element_located((By.CSS_SELECTOR, \n",
    "            \"#BODY_BLOCK_JQUERY_REFLOW > div.page > div > div.ui_container.main_wrap > div > div > div > div > div.content_column.ui_column.is-9-desktop.is-12-tablet.is-12-mobile > div > div.ui_columns.sections_wrapper > div > div.prw_rup.prw_search_search_results.ajax-content > div > div.main_content.ui_column.is-12 > div > div:nth-child(2) > div > div > div:nth-child(1) > div > div > div > div.ui_column.is-9-desktop.is-8-mobile.is-9-tablet.content-block-column > div > div.result-title\")))\n",
    "    place.click()\n",
    "    time.sleep(1)\n",
    "    \n",
    "    # url 수집\n",
    "    place_url.append(driver.current_url)\n"
   ]
  },
  {
   "cell_type": "code",
   "execution_count": 317,
   "id": "2943d82c",
   "metadata": {
    "scrolled": true
   },
   "outputs": [
    {
     "name": "stdout",
     "output_type": "stream",
     "text": [
      "['https://www.tripadvisor.co.kr/Attraction_Review-g297892-d1582693-Reviews-Seongsan_Ilchulbong-Seogwipo_Jeju_Island.html', 'https://www.tripadvisor.co.kr/Attraction_Review-g297892-d550726-Reviews-Hallasan_National_Park-Seogwipo_Jeju_Island.html', 'https://www.tripadvisor.co.kr/Attraction_Review-g297885-d1643536-Reviews-Manjanggul_Cave-Jeju_Jeju_Island.html', 'https://www.tripadvisor.co.kr/Attraction_Review-g297892-d550714-Reviews-Cheonjiyeon_Falls-Seogwipo_Jeju_Island.html', 'https://www.tripadvisor.co.kr/Attraction_Review-g297892-d1888847-Reviews-Daepo_Haean_Jusangjeolli_Cliff-Seogwipo_Jeju_Island.html', 'https://www.tripadvisor.co.kr/Attraction_Review-g297892-d550716-Reviews-Jeongbang_Waterfall-Seogwipo_Jeju_Island.html', 'https://www.tripadvisor.co.kr/Attraction_Review-g297885-d6160806-Reviews-Hello_Kitty_Island-Jeju_Jeju_Island.html', 'https://www.tripadvisor.co.kr/Attraction_Review-g297892-d3823689-Reviews-Marado_Island-Seogwipo_Jeju_Island.html']\n"
     ]
    }
   ],
   "source": [
    "print(place_url)"
   ]
  },
  {
   "cell_type": "code",
   "execution_count": 321,
   "id": "35cc01db",
   "metadata": {},
   "outputs": [],
   "source": [
    "import numpy as np\n",
    "\n",
    "def trip_advisor_crawling(url, query):\n",
    "    df = pd.DataFrame(columns=['날짜', '관광지', '내용', '별점'])\n",
    "\n",
    "    driver.get(url)\n",
    "\n",
    "    crawl_cnt = 0 \n",
    "    btn_cnt = 0\n",
    "    \n",
    "    actions = ActionChains(driver)  # actions 초기화 (reset_actions() 이슈)\n",
    "    btn_total_cnt = int(driver.find_element_by_css_selector(\"#tab-data-qa-reviews-0 > div > div.dHjBB > div:nth-child(11) > div:nth-child(3) > div > div\").text.split()[3])\n",
    "    print('total 리뷰 개수: ', btn_total_cnt)\n",
    "    \n",
    "    while(True):\n",
    "        # 한 페이지 안의 총 기사 개수\n",
    "        time.sleep(5)\n",
    "        t_len = len(driver.find_elements_by_css_selector(\"#tab-data-qa-reviews-0 > div > div.dHjBB > div\"))\n",
    "        #print('현 페이지 수: ',t_len)\n",
    "                \n",
    "        for i in range(1, t_len):\n",
    "            # 날짜 수집\n",
    "            try:\n",
    "                date = WebDriverWait(driver, 10).until(\n",
    "                    EC.presence_of_element_located((By.CSS_SELECTOR, \"#tab-data-qa-reviews-0 > div > div.dHjBB > div:nth-child({}) > span > div > div.eRduX\".format(i)))).text.split('•')[0]\n",
    "\n",
    "            except:\n",
    "                date = np.nan\n",
    "                \n",
    "            # 내용 수집\n",
    "            text = WebDriverWait(driver, 10).until(\n",
    "                EC.presence_of_element_located((By.CSS_SELECTOR, \n",
    "            \"#tab-data-qa-reviews-0 > div > div.dHjBB > div:nth-child({}) > span > div > div.duhwe._T.bOlcm > div.pIRBV._T.KRIav > div > span\".format(i)))).text\n",
    "            \n",
    "            # 리뷰 별점 수집\n",
    "            score = WebDriverWait(driver, 10).until(\n",
    "                EC.presence_of_element_located((By.CSS_SELECTOR, \"#tab-data-qa-reviews-0 > div > div.dHjBB > div:nth-child({}) > span > div > div:nth-child(2) > svg\".format(i))))\n",
    "            score = float(score.get_attribute('aria-label').split()[3])\n",
    "            \n",
    "            df.loc[crawl_cnt] = [date, query, text, score]\n",
    "            \n",
    "            crawl_cnt += 1\n",
    "#             if crawl_cnt % 100 == 0:\n",
    "#                 print(query, crawl_cnt)\n",
    "        \n",
    "#             print(crawl_cnt)\n",
    "        print(crawl_cnt)\n",
    "        \n",
    "        # 다음 버튼 누르기\n",
    "        if btn_cnt != (btn_total_cnt // 10):\n",
    "            try:\n",
    "                btn = WebDriverWait(driver, 10).until(\n",
    "                        EC.presence_of_element_located((By.XPATH, \n",
    "                                                        \"\"\"//*[@id=\"tab-data-qa-reviews-0\"]/div/div[5]/div[11]/div[1]/div/div[1]/div[2]/div/a\"\"\")))\n",
    "                btn.send_keys(query, Keys.ENTER)\n",
    "                btn_cnt += 1\n",
    "                time.sleep(1)\n",
    "                print('현재 button 개수:', btn_cnt)\n",
    "            except:\n",
    "                return df\n",
    "            \n",
    "        else:\n",
    "            break\n",
    "            \n",
    "#         try:\n",
    "#             actions.move_to_element(btn).click(btn).perform()\n",
    "#         except:\n",
    "#             break # 페이지 끝까지 도달해 더이상 버튼이 존재하지 않을 때\n",
    "\n",
    "    return df"
   ]
  },
  {
   "cell_type": "code",
   "execution_count": 322,
   "id": "5d61c55b",
   "metadata": {
    "scrolled": true
   },
   "outputs": [
    {
     "name": "stdout",
     "output_type": "stream",
     "text": [
      "total button 개수:  56\n",
      "10\n",
      "현재 button 개수: 1\n",
      "20\n",
      "현재 button 개수: 2\n",
      "30\n",
      "현재 button 개수: 3\n",
      "40\n",
      "현재 button 개수: 4\n",
      "50\n",
      "현재 button 개수: 5\n",
      "56\n",
      "total button 개수:  56\n",
      "10\n",
      "현재 button 개수: 1\n",
      "20\n",
      "현재 button 개수: 2\n",
      "30\n",
      "현재 button 개수: 3\n",
      "40\n",
      "현재 button 개수: 4\n",
      "50\n",
      "현재 button 개수: 5\n",
      "56\n"
     ]
    }
   ],
   "source": [
    "#trip_df = pd.DataFrame(columns=['날짜', '관광지', '내용', '별점'])\n",
    "\n",
    "for url, query in zip(place_url[6:], jeju_place[6:]):\n",
    "    tmp_df = trip_advisor_crawling(url, query)\n",
    "    trip_df = pd.concat([trip_df, tmp_df]).reset_index(drop=True)"
   ]
  },
  {
   "cell_type": "code",
   "execution_count": 340,
   "id": "e2784d6f",
   "metadata": {},
   "outputs": [
    {
     "data": {
      "text/html": [
       "<div>\n",
       "<style scoped>\n",
       "    .dataframe tbody tr th:only-of-type {\n",
       "        vertical-align: middle;\n",
       "    }\n",
       "\n",
       "    .dataframe tbody tr th {\n",
       "        vertical-align: top;\n",
       "    }\n",
       "\n",
       "    .dataframe thead th {\n",
       "        text-align: right;\n",
       "    }\n",
       "</style>\n",
       "<table border=\"1\" class=\"dataframe\">\n",
       "  <thead>\n",
       "    <tr style=\"text-align: right;\">\n",
       "      <th></th>\n",
       "      <th>날짜</th>\n",
       "      <th>관광지</th>\n",
       "      <th>내용</th>\n",
       "      <th>별점</th>\n",
       "    </tr>\n",
       "  </thead>\n",
       "  <tbody>\n",
       "    <tr>\n",
       "      <th>0</th>\n",
       "      <td>2020년 12월</td>\n",
       "      <td>성산일출봉</td>\n",
       "      <td>우리나라 최남단에 제일높은산 한라산\\n설경이 좋은산 사계절 어느때나 오셔도\\n구경과...</td>\n",
       "      <td>5.0</td>\n",
       "    </tr>\n",
       "    <tr>\n",
       "      <th>1</th>\n",
       "      <td>2020년 7월</td>\n",
       "      <td>성산일출봉</td>\n",
       "      <td>산을 올라가며 바다도 볼수있어좋음!!\\n중간에 가파른곳도 있지만 금방도착해서 왕복 ...</td>\n",
       "      <td>5.0</td>\n",
       "    </tr>\n",
       "    <tr>\n",
       "      <th>2</th>\n",
       "      <td>2020년 12월</td>\n",
       "      <td>성산일출봉</td>\n",
       "      <td>언덕이 높지 않아 올라가는데 그리 힘들지 않습니다. 산책하듯 천천히 올라가면 금방 ...</td>\n",
       "      <td>5.0</td>\n",
       "    </tr>\n",
       "    <tr>\n",
       "      <th>3</th>\n",
       "      <td>2020년 11월</td>\n",
       "      <td>성산일출봉</td>\n",
       "      <td>오랫만에 부부가 정상까지 올랐습니다. 제주 한 달 살이와 올레길 걷기를 계속하고 있...</td>\n",
       "      <td>5.0</td>\n",
       "    </tr>\n",
       "    <tr>\n",
       "      <th>4</th>\n",
       "      <td>2019년 10월</td>\n",
       "      <td>성산일출봉</td>\n",
       "      <td>느긋하게 슬렁슬렁 왔다갔다 하기 좋음.\\n계단이 많아서 내려올 때 무릎이 아플 수도...</td>\n",
       "      <td>5.0</td>\n",
       "    </tr>\n",
       "  </tbody>\n",
       "</table>\n",
       "</div>"
      ],
      "text/plain": [
       "           날짜    관광지                                                 내용   별점\n",
       "0  2020년 12월   성산일출봉  우리나라 최남단에 제일높은산 한라산\\n설경이 좋은산 사계절 어느때나 오셔도\\n구경과...  5.0\n",
       "1   2020년 7월   성산일출봉  산을 올라가며 바다도 볼수있어좋음!!\\n중간에 가파른곳도 있지만 금방도착해서 왕복 ...  5.0\n",
       "2  2020년 12월   성산일출봉  언덕이 높지 않아 올라가는데 그리 힘들지 않습니다. 산책하듯 천천히 올라가면 금방 ...  5.0\n",
       "3  2020년 11월   성산일출봉  오랫만에 부부가 정상까지 올랐습니다. 제주 한 달 살이와 올레길 걷기를 계속하고 있...  5.0\n",
       "4   2019년 10월  성산일출봉  느긋하게 슬렁슬렁 왔다갔다 하기 좋음.\\n계단이 많아서 내려올 때 무릎이 아플 수도...  5.0"
      ]
     },
     "execution_count": 340,
     "metadata": {},
     "output_type": "execute_result"
    }
   ],
   "source": [
    "trip_df.head()"
   ]
  },
  {
   "cell_type": "code",
   "execution_count": 343,
   "id": "ebf34a0e",
   "metadata": {},
   "outputs": [],
   "source": [
    "trip_df.to_csv(save_dir + '/trip_df.csv', index=False)"
   ]
  },
  {
   "cell_type": "code",
   "execution_count": null,
   "id": "0fa76486",
   "metadata": {},
   "outputs": [],
   "source": []
  }
 ],
 "metadata": {
  "kernelspec": {
   "display_name": "Python 3 (ipykernel)",
   "language": "python",
   "name": "python3"
  },
  "language_info": {
   "codemirror_mode": {
    "name": "ipython",
    "version": 3
   },
   "file_extension": ".py",
   "mimetype": "text/x-python",
   "name": "python",
   "nbconvert_exporter": "python",
   "pygments_lexer": "ipython3",
   "version": "3.8.2"
  }
 },
 "nbformat": 4,
 "nbformat_minor": 5
}

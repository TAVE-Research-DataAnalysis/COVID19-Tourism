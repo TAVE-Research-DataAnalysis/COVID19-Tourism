{
 "cells": [
  {
   "cell_type": "code",
   "execution_count": 28,
   "metadata": {
    "executionInfo": {
     "elapsed": 27067,
     "status": "ok",
     "timestamp": 1646475263848,
     "user": {
      "displayName": "심소민",
      "photoUrl": "https://lh3.googleusercontent.com/a/default-user=s64",
      "userId": "13422866620659141828"
     },
     "user_tz": -540
    },
    "id": "_3nz1-DIXmYY"
   },
   "outputs": [],
   "source": [
    "import pandas as pd\n",
    "import numpy as np\n",
    "\n",
    "import pickle\n",
    "from pprint import pprint\n",
    "from tqdm.notebook import tqdm"
   ]
  },
  {
   "cell_type": "code",
   "execution_count": 33,
   "metadata": {
    "scrolled": true
   },
   "outputs": [
    {
     "data": {
      "text/html": [
       "<div>\n",
       "<style scoped>\n",
       "    .dataframe tbody tr th:only-of-type {\n",
       "        vertical-align: middle;\n",
       "    }\n",
       "\n",
       "    .dataframe tbody tr th {\n",
       "        vertical-align: top;\n",
       "    }\n",
       "\n",
       "    .dataframe thead th {\n",
       "        text-align: right;\n",
       "    }\n",
       "</style>\n",
       "<table border=\"1\" class=\"dataframe\">\n",
       "  <thead>\n",
       "    <tr style=\"text-align: right;\">\n",
       "      <th></th>\n",
       "      <th>날짜</th>\n",
       "      <th>제목</th>\n",
       "      <th>내용</th>\n",
       "      <th>url</th>\n",
       "      <th>text_prep</th>\n",
       "      <th>tokenized_text</th>\n",
       "      <th>jeju_place_google</th>\n",
       "    </tr>\n",
       "  </thead>\n",
       "  <tbody>\n",
       "    <tr>\n",
       "      <th>0</th>\n",
       "      <td>2020-01-01 01:15:00</td>\n",
       "      <td>2019 제주여행 3 :: 성산일출봉, 풍미 독서, 세화해수욕장, 모이소</td>\n",
       "      <td>2박 3일 제주여행의 마지막 날 아침\\n성산 일출봉을 향했다.입장 시간이 이미 해가...</td>\n",
       "      <td>https://blog.naver.com/chersy/221755888807</td>\n",
       "      <td>박  일 제주여행의 마지막 날 아침 성산 일출봉을 향했다.입장 시간이 이미 해가 ...</td>\n",
       "      <td>[제주, 여행의, 마지막, 아침, 성산, 일출봉을, 향했다., 입장, 시간, 이미,...</td>\n",
       "      <td>[성산일출봉]</td>\n",
       "    </tr>\n",
       "    <tr>\n",
       "      <th>1</th>\n",
       "      <td>2020-01-01 02:03:00</td>\n",
       "      <td>[제주여행] 김포공항&amp; 제주함덕해수욕장 &amp;제주 무거버거♡</td>\n",
       "      <td>안녕하세요ㅎ\\n바나나맛우유입니다ㅎㅎ\\n앞전에 호텔사진 보고 오신분은\\n알겠지만ㅋㅋㅋ...</td>\n",
       "      <td>https://blog.naver.com/rnjsrn001/221755913575</td>\n",
       "      <td>안녕하세요  바나나맛우유입니다   앞전에 호텔사진 보고 오신분은 알겠지만    네 ...</td>\n",
       "      <td>[안녕하세요, 바나나맛우유, 입니다, 앞전에, 호텔, 사진, 보고, 오신분은, 알겠...</td>\n",
       "      <td>[함덕해수욕장]</td>\n",
       "    </tr>\n",
       "    <tr>\n",
       "      <th>2</th>\n",
       "      <td>2020-01-01 05:33:00</td>\n",
       "      <td>2019 돌아보며(ft.제주 여행 교훈)</td>\n",
       "      <td>1. 부지런해져라. \\n-일찍 자고 일찍 일어나기 (10-04)\\n-생각한 대로 살...</td>\n",
       "      <td>https://blog.naver.com/umyumybabies/221755987867</td>\n",
       "      <td>. 부지런해져라.   일찍 자고 일찍 일어나기          생각한 대로 살자....</td>\n",
       "      <td>[부지런, 해져라., 일찍, 자고, 일찍, 일어나, 생각, 대로, 살자., 살아가는...</td>\n",
       "      <td>[비양도]</td>\n",
       "    </tr>\n",
       "    <tr>\n",
       "      <th>3</th>\n",
       "      <td>2020-01-01 10:46:00</td>\n",
       "      <td>제주여행 3일차(용두암,전복성게미역국, 선물고팡,제주공항)</td>\n",
       "      <td>올것이 왔습니다. 제주에서의 마지막 날입니다.\\n너무 아쉽습니다.\\n혼자여행 외롭거...</td>\n",
       "      <td>https://blog.naver.com/deuxsun0915/221756111749</td>\n",
       "      <td>올것이 왔습니다. 제주에서의 마지막 날입니다. 너무 아쉽습니다. 혼자여행 외롭거나 ...</td>\n",
       "      <td>[올것이, 왔습니다., 제주, 에서의, 마지막, 날입니다., 너무, 아쉽습니다., ...</td>\n",
       "      <td>[용두암]</td>\n",
       "    </tr>\n",
       "    <tr>\n",
       "      <th>4</th>\n",
       "      <td>2020-01-01 10:51:00</td>\n",
       "      <td>2019.12.31. 제주여행 2일차(먹고자고)</td>\n",
       "      <td>오늘은 넘나 심플한 하루였다. 늦잠자고 점심먹고 스벅갔다가 저녁먹고 끝!원래는 10...</td>\n",
       "      <td>https://blog.naver.com/hongnal0127/221756115426</td>\n",
       "      <td>오늘은 넘나 심플한 하루였다. 늦잠자고 점심먹고 스벅갔다가 저녁먹고 끝 원래는   ...</td>\n",
       "      <td>[오늘은, 넘나, 심플한, 하루였다., 늦잠자고, 점심, 먹고, 스벅갔다가, 저녁,...</td>\n",
       "      <td>[한라산]</td>\n",
       "    </tr>\n",
       "  </tbody>\n",
       "</table>\n",
       "</div>"
      ],
      "text/plain": [
       "                   날짜                                        제목  \\\n",
       "0 2020-01-01 01:15:00  2019 제주여행 3 :: 성산일출봉, 풍미 독서, 세화해수욕장, 모이소   \n",
       "1 2020-01-01 02:03:00           [제주여행] 김포공항& 제주함덕해수욕장 &제주 무거버거♡   \n",
       "2 2020-01-01 05:33:00                    2019 돌아보며(ft.제주 여행 교훈)   \n",
       "3 2020-01-01 10:46:00          제주여행 3일차(용두암,전복성게미역국, 선물고팡,제주공항)   \n",
       "4 2020-01-01 10:51:00                2019.12.31. 제주여행 2일차(먹고자고)   \n",
       "\n",
       "                                                  내용  \\\n",
       "0  2박 3일 제주여행의 마지막 날 아침\\n성산 일출봉을 향했다.입장 시간이 이미 해가...   \n",
       "1  안녕하세요ㅎ\\n바나나맛우유입니다ㅎㅎ\\n앞전에 호텔사진 보고 오신분은\\n알겠지만ㅋㅋㅋ...   \n",
       "2  1. 부지런해져라. \\n-일찍 자고 일찍 일어나기 (10-04)\\n-생각한 대로 살...   \n",
       "3  올것이 왔습니다. 제주에서의 마지막 날입니다.\\n너무 아쉽습니다.\\n혼자여행 외롭거...   \n",
       "4  오늘은 넘나 심플한 하루였다. 늦잠자고 점심먹고 스벅갔다가 저녁먹고 끝!원래는 10...   \n",
       "\n",
       "                                                url  \\\n",
       "0        https://blog.naver.com/chersy/221755888807   \n",
       "1     https://blog.naver.com/rnjsrn001/221755913575   \n",
       "2  https://blog.naver.com/umyumybabies/221755987867   \n",
       "3   https://blog.naver.com/deuxsun0915/221756111749   \n",
       "4   https://blog.naver.com/hongnal0127/221756115426   \n",
       "\n",
       "                                           text_prep  \\\n",
       "0   박  일 제주여행의 마지막 날 아침 성산 일출봉을 향했다.입장 시간이 이미 해가 ...   \n",
       "1  안녕하세요  바나나맛우유입니다   앞전에 호텔사진 보고 오신분은 알겠지만    네 ...   \n",
       "2   . 부지런해져라.   일찍 자고 일찍 일어나기          생각한 대로 살자....   \n",
       "3  올것이 왔습니다. 제주에서의 마지막 날입니다. 너무 아쉽습니다. 혼자여행 외롭거나 ...   \n",
       "4  오늘은 넘나 심플한 하루였다. 늦잠자고 점심먹고 스벅갔다가 저녁먹고 끝 원래는   ...   \n",
       "\n",
       "                                      tokenized_text jeju_place_google  \n",
       "0  [제주, 여행의, 마지막, 아침, 성산, 일출봉을, 향했다., 입장, 시간, 이미,...           [성산일출봉]  \n",
       "1  [안녕하세요, 바나나맛우유, 입니다, 앞전에, 호텔, 사진, 보고, 오신분은, 알겠...          [함덕해수욕장]  \n",
       "2  [부지런, 해져라., 일찍, 자고, 일찍, 일어나, 생각, 대로, 살자., 살아가는...             [비양도]  \n",
       "3  [올것이, 왔습니다., 제주, 에서의, 마지막, 날입니다., 너무, 아쉽습니다., ...             [용두암]  \n",
       "4  [오늘은, 넘나, 심플한, 하루였다., 늦잠자고, 점심, 먹고, 스벅갔다가, 저녁,...             [한라산]  "
      ]
     },
     "execution_count": 33,
     "metadata": {},
     "output_type": "execute_result"
    }
   ],
   "source": [
    "# pickle 불러오기\n",
    "with open('./data/jeju_place_top47.pkl', 'rb') as f:\n",
    "    df = pickle.load(f)\n",
    "    \n",
    "df.head()"
   ]
  },
  {
   "cell_type": "code",
   "execution_count": 34,
   "metadata": {},
   "outputs": [
    {
     "data": {
      "text/plain": [
       "(29795, 7)"
      ]
     },
     "execution_count": 34,
     "metadata": {},
     "output_type": "execute_result"
    }
   ],
   "source": [
    "df.shape"
   ]
  },
  {
   "cell_type": "markdown",
   "metadata": {},
   "source": [
    "## Filtering by date"
   ]
  },
  {
   "cell_type": "code",
   "execution_count": 35,
   "metadata": {
    "executionInfo": {
     "elapsed": 15,
     "status": "ok",
     "timestamp": 1646475263860,
     "user": {
      "displayName": "심소민",
      "photoUrl": "https://lh3.googleusercontent.com/a/default-user=s64",
      "userId": "13422866620659141828"
     },
     "user_tz": -540
    },
    "id": "aNmghHEdkfBZ"
   },
   "outputs": [
    {
     "data": {
      "text/plain": [
       "(29795, 7)"
      ]
     },
     "execution_count": 35,
     "metadata": {},
     "output_type": "execute_result"
    }
   ],
   "source": [
    "df['날짜'] = pd.to_datetime(df['날짜'])\n",
    "df.shape"
   ]
  },
  {
   "cell_type": "code",
   "execution_count": 36,
   "metadata": {},
   "outputs": [
    {
     "data": {
      "text/plain": [
       "(8732, 7)"
      ]
     },
     "execution_count": 36,
     "metadata": {},
     "output_type": "execute_result"
    }
   ],
   "source": [
    "df_filtered = df.loc[df[\"날짜\"].between('2021-01-01', '2021-06-30')]\n",
    "df_filtered.shape"
   ]
  },
  {
   "cell_type": "code",
   "execution_count": 37,
   "metadata": {
    "executionInfo": {
     "elapsed": 16,
     "status": "ok",
     "timestamp": 1646475263861,
     "user": {
      "displayName": "심소민",
      "photoUrl": "https://lh3.googleusercontent.com/a/default-user=s64",
      "userId": "13422866620659141828"
     },
     "user_tz": -540
    },
    "id": "0dZ7GCa4xHEw"
   },
   "outputs": [
    {
     "data": {
      "text/plain": [
       "(8732, 7)"
      ]
     },
     "execution_count": 37,
     "metadata": {},
     "output_type": "execute_result"
    }
   ],
   "source": [
    "df_filtered = df_filtered.dropna()\n",
    "df_filtered.shape"
   ]
  },
  {
   "cell_type": "markdown",
   "metadata": {},
   "source": [
    "## Split by places"
   ]
  },
  {
   "cell_type": "code",
   "execution_count": 38,
   "metadata": {},
   "outputs": [
    {
     "data": {
      "text/html": [
       "<div>\n",
       "<style scoped>\n",
       "    .dataframe tbody tr th:only-of-type {\n",
       "        vertical-align: middle;\n",
       "    }\n",
       "\n",
       "    .dataframe tbody tr th {\n",
       "        vertical-align: top;\n",
       "    }\n",
       "\n",
       "    .dataframe thead th {\n",
       "        text-align: right;\n",
       "    }\n",
       "</style>\n",
       "<table border=\"1\" class=\"dataframe\">\n",
       "  <thead>\n",
       "    <tr style=\"text-align: right;\">\n",
       "      <th></th>\n",
       "      <th>날짜</th>\n",
       "      <th>제목</th>\n",
       "      <th>내용</th>\n",
       "      <th>url</th>\n",
       "      <th>text_prep</th>\n",
       "      <th>tokenized_text</th>\n",
       "      <th>jeju_place_google</th>\n",
       "    </tr>\n",
       "  </thead>\n",
       "  <tbody>\n",
       "    <tr>\n",
       "      <th>14003</th>\n",
       "      <td>2021-01-01 03:32:00</td>\n",
       "      <td>제주 오름 추천 ㅣ 금오름 소요시간 ♥</td>\n",
       "      <td>미니 백록담이라고도 불리는 제주 금오름 ☻ \\n보통 언덕인 제주 오름들과는 다르게 ...</td>\n",
       "      <td>https://blog.naver.com/jinmichu/222192225676</td>\n",
       "      <td>미니 백록담이라고도 불리는 제주 금오름    보통 언덕인 제주 오름들과는 다르게  ...</td>\n",
       "      <td>[미니, 백록담, 이라고도, 불리는, 제주, 금오름, 보통, 언덕, 제주, 오름들과...</td>\n",
       "      <td>[한라산]</td>\n",
       "    </tr>\n",
       "    <tr>\n",
       "      <th>14004</th>\n",
       "      <td>2021-01-01 07:03:00</td>\n",
       "      <td>2021 새해 첫 해외여행은 미국 서부로!</td>\n",
       "      <td>\"해가 밝았으니 여행을 떠나자!\"\\n신축년 새해는 소처럼 우직하니 해외여행\\n첫 스...</td>\n",
       "      <td>https://blog.naver.com/l6014417/222192276207</td>\n",
       "      <td>해가 밝았으니 여행을 떠나자   신축년 새해는 소처럼 우직하니 해외여행 첫 스타트...</td>\n",
       "      <td>[해가, 밝았, 으니, 여행, 떠나, 신축년, 새해는, 소처럼, 우직하니, 해외여행...</td>\n",
       "      <td>[성산일출봉]</td>\n",
       "    </tr>\n",
       "  </tbody>\n",
       "</table>\n",
       "</div>"
      ],
      "text/plain": [
       "                       날짜                       제목  \\\n",
       "14003 2021-01-01 03:32:00    제주 오름 추천 ㅣ 금오름 소요시간 ♥   \n",
       "14004 2021-01-01 07:03:00  2021 새해 첫 해외여행은 미국 서부로!   \n",
       "\n",
       "                                                      내용  \\\n",
       "14003  미니 백록담이라고도 불리는 제주 금오름 ☻ \\n보통 언덕인 제주 오름들과는 다르게 ...   \n",
       "14004  \"해가 밝았으니 여행을 떠나자!\"\\n신축년 새해는 소처럼 우직하니 해외여행\\n첫 스...   \n",
       "\n",
       "                                                url  \\\n",
       "14003  https://blog.naver.com/jinmichu/222192225676   \n",
       "14004  https://blog.naver.com/l6014417/222192276207   \n",
       "\n",
       "                                               text_prep  \\\n",
       "14003  미니 백록담이라고도 불리는 제주 금오름    보통 언덕인 제주 오름들과는 다르게  ...   \n",
       "14004   해가 밝았으니 여행을 떠나자   신축년 새해는 소처럼 우직하니 해외여행 첫 스타트...   \n",
       "\n",
       "                                          tokenized_text jeju_place_google  \n",
       "14003  [미니, 백록담, 이라고도, 불리는, 제주, 금오름, 보통, 언덕, 제주, 오름들과...             [한라산]  \n",
       "14004  [해가, 밝았, 으니, 여행, 떠나, 신축년, 새해는, 소처럼, 우직하니, 해외여행...           [성산일출봉]  "
      ]
     },
     "execution_count": 38,
     "metadata": {},
     "output_type": "execute_result"
    }
   ],
   "source": [
    "df_filtered.head(2)"
   ]
  },
  {
   "cell_type": "code",
   "execution_count": 39,
   "metadata": {},
   "outputs": [
    {
     "data": {
      "text/plain": [
       "list"
      ]
     },
     "execution_count": 39,
     "metadata": {},
     "output_type": "execute_result"
    }
   ],
   "source": [
    "type(df_filtered['jeju_place_google'].iloc[0])"
   ]
  },
  {
   "cell_type": "code",
   "execution_count": 40,
   "metadata": {
    "colab": {
     "base_uri": "https://localhost:8080/"
    },
    "executionInfo": {
     "elapsed": 1,
     "status": "ok",
     "timestamp": 1646475291135,
     "user": {
      "displayName": "심소민",
      "photoUrl": "https://lh3.googleusercontent.com/a/default-user=s64",
      "userId": "13422866620659141828"
     },
     "user_tz": -540
    },
    "id": "_inFcBpT8PBw",
    "outputId": "140f6ee8-ac90-4142-d9c9-e357ded72d58"
   },
   "outputs": [
    {
     "name": "stdout",
     "output_type": "stream",
     "text": [
      "['성산일출봉']\n"
     ]
    }
   ],
   "source": [
    "pprint(df_filtered.iloc[1].jeju_place_google)"
   ]
  },
  {
   "cell_type": "code",
   "execution_count": 41,
   "metadata": {
    "colab": {
     "base_uri": "https://localhost:8080/"
    },
    "id": "XS1kmZRQvZfO",
    "outputId": "8b6a0b8e-8ec5-4535-e6d4-16e6e6be3be0",
    "scrolled": true
   },
   "outputs": [
    {
     "data": {
      "application/vnd.jupyter.widget-view+json": {
       "model_id": "62c87e852b3549a29e66bce85604cf8e",
       "version_major": 2,
       "version_minor": 0
      },
      "text/plain": [
       "0it [00:00, ?it/s]"
      ]
     },
     "metadata": {},
     "output_type": "display_data"
    }
   ],
   "source": [
    "import re\n",
    "\n",
    "s_idx=0\n",
    "result_list = []\n",
    "for idx, row in tqdm(df_filtered.iterrows()):\n",
    "    jeju_place_google = row['jeju_place_google']\n",
    "#     print(len(jeju_place_google))\n",
    "    if len(jeju_place_google) == 1:\n",
    "        result_list.append([row['날짜'], row['text_prep'], row['jeju_place_google'], idx])\n",
    "        continue\n",
    "    sents = re.split(r'[.!?]', row['text_prep'])\n",
    "    target_place = jeju_place_google[0]\n",
    "    for sent_idx, s in enumerate(sents):        \n",
    "        if target_place in s:\n",
    "            s_idx = sent_idx\n",
    "        for place in jeju_place_google:\n",
    "            if (target_place != place) & (place in s):\n",
    "#                 print(target_place)\n",
    "#                 print(s_idx, sent_idx)\n",
    "#                 print(\"\".join(sents[s_idx:sent_idx+1]))\n",
    "                result_list.append([row['날짜'], \"\".join(sents[s_idx:sent_idx+1]), target_place, idx])\n",
    "                target_place = place\n",
    "                s_idx = sent_idx\n",
    "\n",
    "result_list.append([row['날짜'], \"\".join(sents[s_idx:]), target_place, idx])"
   ]
  },
  {
   "cell_type": "code",
   "execution_count": 42,
   "metadata": {
    "colab": {
     "base_uri": "https://localhost:8080/",
     "height": 175
    },
    "executionInfo": {
     "elapsed": 18,
     "status": "ok",
     "timestamp": 1646474437937,
     "user": {
      "displayName": "심소민",
      "photoUrl": "https://lh3.googleusercontent.com/a/default-user=s64",
      "userId": "13422866620659141828"
     },
     "user_tz": -540
    },
    "id": "OOVmC2LrhdQi",
    "outputId": "30b4a508-60a5-4401-b46e-7c12ee6d1a2e"
   },
   "outputs": [],
   "source": [
    "splited_data = pd.DataFrame(result_list, columns=[\"date\", 'text', 'place', 'idx'])"
   ]
  },
  {
   "cell_type": "code",
   "execution_count": 43,
   "metadata": {},
   "outputs": [],
   "source": [
    "splited_data['place'] = splited_data['place'].apply(lambda x: \"\".join(x) if type(x)==list else x)"
   ]
  },
  {
   "cell_type": "code",
   "execution_count": 94,
   "metadata": {},
   "outputs": [
    {
     "data": {
      "text/plain": [
       "date     0\n",
       "text     0\n",
       "place    0\n",
       "idx      0\n",
       "dtype: int64"
      ]
     },
     "execution_count": 94,
     "metadata": {},
     "output_type": "execute_result"
    }
   ],
   "source": [
    "splited_data.isnull().sum()"
   ]
  },
  {
   "cell_type": "code",
   "execution_count": 53,
   "metadata": {
    "scrolled": true
   },
   "outputs": [
    {
     "data": {
      "text/plain": [
       "' 색달해수욕장 우리의 첫 여행지다.해변을 걸었다. 미국 씰비치에서 여름에 놀던 기억도 나고  밑에서 위를 올려다보니 더 걷기 좋아보여서 장소를 옮겼다.눈에 정신이 팔려 작은 눈사람을 만들다 보조를 맞추기위해 포기하고 올라가는 중이다  위엔 더 멋진 풍경과  더 많은 눈들이 나를 기다리고 있었고  올라프를 생각하며 미국식 눈사람을 만들었다. 혹시나 싶어 준비한 라텍스 고무장갑 정말 유용하게 사용했다   늘 내 마음 속에 사랑과 고마움으로 가득찬 친구들에게 보내는 내마음을 담은 눈사람으로 사랑을 보냈다   다음장소는  대포주상절리 코로나로 출입을 금지해서 매표를 하고 입장하는 곳은 갈 수 없었는데 주변 산책만으로도 충분히 멋지고 좋았다.동백꽃이 예쁘다  우리 모자랑 깔맞춤 된 조개조형물   여긴 아프리카박물관고릴라 두마리고릴라 세마리  내가 좋아하는 해바라기 뒤에 멀리 보이는 코끼리와 사자 조형물이 사파리에 와 있는 느낌이 들도록 찍은 사진인데   겨울이라 눈과 복장에 꿈깬 사진   장보기도 쉽게 홍당무들고 지나가던 아주머니 덕에 발견한  필요한 식수는 필수 쌀도 필수 늘 밥상을 받고 살아서  여기선 내가 주도적으로 상차리기를 하겠다 했다. 누룽지밥은 시원한 숭늉은 따봉인데 밥심 필요한 내게는 힘이 딸려 쌀을 샀다   하멜상선전시관 근처 전경제주도 외국인들이 살고싶은 한국  위 분위기로 알 것 같은 마음 용머리해안 마주보이는 산 멋진데 가짜 아우라 어깨에 매고 있는 부처가 자연스런 분위기 망쳤다는 느낌  여기저기 코로나 마스크여기도 코로나로 출입금지 지역  하멜씨 눈 비 맞으며 한국와서 계속 고생중  봄에 이모와 함께 왔던  송악산사진 부탁하고 이모와 통화했다   늘 고맙고 좋아하고 존경하는 이모  집으로 들어와 맛있는 저녁 준비했다  마트에서 공수해온 먹거리  무 하나 사서 채나물 만들고 상진 좋아하는 달걀로 후라이  그리고 숭늉으로 입가심 제주의 명품 물로 마무리       아듀          '"
      ]
     },
     "execution_count": 53,
     "metadata": {},
     "output_type": "execute_result"
    }
   ],
   "source": [
    "splited_data['text'][5]"
   ]
  },
  {
   "cell_type": "code",
   "execution_count": 95,
   "metadata": {},
   "outputs": [],
   "source": [
    "splited_data.to_csv(\"./data/splited_data_2101_2106.csv\", index=False)"
   ]
  },
  {
   "cell_type": "markdown",
   "metadata": {},
   "source": [
    "## pos tagging"
   ]
  },
  {
   "cell_type": "code",
   "execution_count": 2,
   "metadata": {},
   "outputs": [
    {
     "data": {
      "text/html": [
       "<div>\n",
       "<style scoped>\n",
       "    .dataframe tbody tr th:only-of-type {\n",
       "        vertical-align: middle;\n",
       "    }\n",
       "\n",
       "    .dataframe tbody tr th {\n",
       "        vertical-align: top;\n",
       "    }\n",
       "\n",
       "    .dataframe thead th {\n",
       "        text-align: right;\n",
       "    }\n",
       "</style>\n",
       "<table border=\"1\" class=\"dataframe\">\n",
       "  <thead>\n",
       "    <tr style=\"text-align: right;\">\n",
       "      <th></th>\n",
       "      <th>date</th>\n",
       "      <th>text</th>\n",
       "      <th>place</th>\n",
       "      <th>idx</th>\n",
       "    </tr>\n",
       "  </thead>\n",
       "  <tbody>\n",
       "    <tr>\n",
       "      <th>8632</th>\n",
       "      <td>2020-06-29 22:37:00</td>\n",
       "      <td>역시나 맛있었고  우도 막걸리는 부천 가져가고싶다 크크 서귀포 올레시장은 유명한 ...</td>\n",
       "      <td>우도</td>\n",
       "      <td>5505</td>\n",
       "    </tr>\n",
       "    <tr>\n",
       "      <th>8633</th>\n",
       "      <td>2020-06-29 22:39:00</td>\n",
       "      <td>.  .   . 월. 폭우부터 실비까지 온갖 비 비 비 김녕해수욕장에서 들꽃...</td>\n",
       "      <td>비자림</td>\n",
       "      <td>5506</td>\n",
       "    </tr>\n",
       "    <tr>\n",
       "      <th>8634</th>\n",
       "      <td>2020-06-29 22:57:00</td>\n",
       "      <td>이른아침이나  비오는날 더욱좋은곳 서귀포여행지추천  비오는제주즐기기  제주도립곶자왈...</td>\n",
       "      <td>산방산</td>\n",
       "      <td>5507</td>\n",
       "    </tr>\n",
       "    <tr>\n",
       "      <th>8635</th>\n",
       "      <td>2020-06-29 23:59:00</td>\n",
       "      <td>푹     자다가 일출보려고 알람 듣고 비몽사몽으로 일어났는데... 세상에........</td>\n",
       "      <td>우도</td>\n",
       "      <td>5508</td>\n",
       "    </tr>\n",
       "    <tr>\n",
       "      <th>8636</th>\n",
       "      <td>2020-06-29 23:59:00</td>\n",
       "      <td>외돌개 도 보고      높이의 씨스텍    높은 파도로 오늘은 막아놓은 황우...</td>\n",
       "      <td>외돌개</td>\n",
       "      <td>5508</td>\n",
       "    </tr>\n",
       "  </tbody>\n",
       "</table>\n",
       "</div>"
      ],
      "text/plain": [
       "                     date                                               text  \\\n",
       "8632  2020-06-29 22:37:00   역시나 맛있었고  우도 막걸리는 부천 가져가고싶다 크크 서귀포 올레시장은 유명한 ...   \n",
       "8633  2020-06-29 22:39:00      .  .   . 월. 폭우부터 실비까지 온갖 비 비 비 김녕해수욕장에서 들꽃...   \n",
       "8634  2020-06-29 22:57:00  이른아침이나  비오는날 더욱좋은곳 서귀포여행지추천  비오는제주즐기기  제주도립곶자왈...   \n",
       "8635  2020-06-29 23:59:00  푹     자다가 일출보려고 알람 듣고 비몽사몽으로 일어났는데... 세상에........   \n",
       "8636  2020-06-29 23:59:00     외돌개 도 보고      높이의 씨스텍    높은 파도로 오늘은 막아놓은 황우...   \n",
       "\n",
       "     place   idx  \n",
       "8632    우도  5505  \n",
       "8633   비자림  5506  \n",
       "8634   산방산  5507  \n",
       "8635    우도  5508  \n",
       "8636   외돌개  5508  "
      ]
     },
     "execution_count": 2,
     "metadata": {},
     "output_type": "execute_result"
    }
   ],
   "source": [
    "df_2001_2006 = pd.read_csv('./data/splited_data_2001_2006.csv')\n",
    "df_2001_2006.tail()"
   ]
  },
  {
   "cell_type": "code",
   "execution_count": 3,
   "metadata": {
    "scrolled": true
   },
   "outputs": [
    {
     "data": {
      "text/html": [
       "<div>\n",
       "<style scoped>\n",
       "    .dataframe tbody tr th:only-of-type {\n",
       "        vertical-align: middle;\n",
       "    }\n",
       "\n",
       "    .dataframe tbody tr th {\n",
       "        vertical-align: top;\n",
       "    }\n",
       "\n",
       "    .dataframe thead th {\n",
       "        text-align: right;\n",
       "    }\n",
       "</style>\n",
       "<table border=\"1\" class=\"dataframe\">\n",
       "  <thead>\n",
       "    <tr style=\"text-align: right;\">\n",
       "      <th></th>\n",
       "      <th>date</th>\n",
       "      <th>text</th>\n",
       "      <th>place</th>\n",
       "      <th>idx</th>\n",
       "    </tr>\n",
       "  </thead>\n",
       "  <tbody>\n",
       "    <tr>\n",
       "      <th>12873</th>\n",
       "      <td>2020-12-30 23:31:00</td>\n",
       "      <td>첫 여행지는 함덕해수욕장  금강산도 식후경    갈치조림 먹으러 고고링건너편 주차...</td>\n",
       "      <td>함덕해수욕장</td>\n",
       "      <td>8409</td>\n",
       "    </tr>\n",
       "    <tr>\n",
       "      <th>12874</th>\n",
       "      <td>2020-12-30 23:31:00</td>\n",
       "      <td>다랑쉬오름은 비온뒤라 오르기 힘들꺼같아서 포기 스을카페는 너무 가고싶어서 사장님...</td>\n",
       "      <td>빛의벙커</td>\n",
       "      <td>8409</td>\n",
       "    </tr>\n",
       "    <tr>\n",
       "      <th>12875</th>\n",
       "      <td>2020-12-30 23:31:00</td>\n",
       "      <td>다랑쉬오름은 비온뒤라 오르기 힘들꺼같아서 포기 스을카페는 너무 가고싶어서 사장님...</td>\n",
       "      <td>성산일출봉</td>\n",
       "      <td>8409</td>\n",
       "    </tr>\n",
       "    <tr>\n",
       "      <th>12876</th>\n",
       "      <td>2020-12-30 23:31:00</td>\n",
       "      <td>일차  진에어 제주공항 스타렌트카 함덕해수욕장 테우 오드랑베이커리  스을 만석...</td>\n",
       "      <td>함덕해수욕장</td>\n",
       "      <td>8409</td>\n",
       "    </tr>\n",
       "    <tr>\n",
       "      <th>12877</th>\n",
       "      <td>2020-12-30 23:31:00</td>\n",
       "      <td>일차  진에어 제주공항 스타렌트카 함덕해수욕장 테우 오드랑베이커리  스을 만석...</td>\n",
       "      <td>빛의벙커</td>\n",
       "      <td>8409</td>\n",
       "    </tr>\n",
       "  </tbody>\n",
       "</table>\n",
       "</div>"
      ],
      "text/plain": [
       "                      date                                               text  \\\n",
       "12873  2020-12-30 23:31:00   첫 여행지는 함덕해수욕장  금강산도 식후경    갈치조림 먹으러 고고링건너편 주차...   \n",
       "12874  2020-12-30 23:31:00    다랑쉬오름은 비온뒤라 오르기 힘들꺼같아서 포기 스을카페는 너무 가고싶어서 사장님...   \n",
       "12875  2020-12-30 23:31:00    다랑쉬오름은 비온뒤라 오르기 힘들꺼같아서 포기 스을카페는 너무 가고싶어서 사장님...   \n",
       "12876  2020-12-30 23:31:00     일차  진에어 제주공항 스타렌트카 함덕해수욕장 테우 오드랑베이커리  스을 만석...   \n",
       "12877  2020-12-30 23:31:00     일차  진에어 제주공항 스타렌트카 함덕해수욕장 테우 오드랑베이커리  스을 만석...   \n",
       "\n",
       "        place   idx  \n",
       "12873  함덕해수욕장  8409  \n",
       "12874    빛의벙커  8409  \n",
       "12875   성산일출봉  8409  \n",
       "12876  함덕해수욕장  8409  \n",
       "12877    빛의벙커  8409  "
      ]
     },
     "execution_count": 3,
     "metadata": {},
     "output_type": "execute_result"
    }
   ],
   "source": [
    "df_2007_2012 = pd.read_csv('./data/splited_data_2007_2012.csv')\n",
    "df_2007_2012.tail()"
   ]
  },
  {
   "cell_type": "code",
   "execution_count": 2,
   "metadata": {},
   "outputs": [
    {
     "data": {
      "text/html": [
       "<div>\n",
       "<style scoped>\n",
       "    .dataframe tbody tr th:only-of-type {\n",
       "        vertical-align: middle;\n",
       "    }\n",
       "\n",
       "    .dataframe tbody tr th {\n",
       "        vertical-align: top;\n",
       "    }\n",
       "\n",
       "    .dataframe thead th {\n",
       "        text-align: right;\n",
       "    }\n",
       "</style>\n",
       "<table border=\"1\" class=\"dataframe\">\n",
       "  <thead>\n",
       "    <tr style=\"text-align: right;\">\n",
       "      <th></th>\n",
       "      <th>date</th>\n",
       "      <th>text</th>\n",
       "      <th>place</th>\n",
       "      <th>idx</th>\n",
       "    </tr>\n",
       "  </thead>\n",
       "  <tbody>\n",
       "    <tr>\n",
       "      <th>13181</th>\n",
       "      <td>2021-06-29 22:29:00</td>\n",
       "      <td>어젯밤 과식으로 배부르게 하루를 시작합니당 오늘은 관광데이  쉬어가는 제주여행  박...</td>\n",
       "      <td>용머리해안</td>\n",
       "      <td>22731</td>\n",
       "    </tr>\n",
       "    <tr>\n",
       "      <th>13182</th>\n",
       "      <td>2021-06-29 23:04:00</td>\n",
       "      <td>제주 여행    일차는 아래링크 참고               .    .     ...</td>\n",
       "      <td>우도</td>\n",
       "      <td>22732</td>\n",
       "    </tr>\n",
       "    <tr>\n",
       "      <th>13183</th>\n",
       "      <td>2021-06-29 23:13:00</td>\n",
       "      <td>제주여행을 다녀온지 벌써  주가 지났네요  살    개월 아가와 함께한 제주 여행 ...</td>\n",
       "      <td>우도</td>\n",
       "      <td>22733</td>\n",
       "    </tr>\n",
       "    <tr>\n",
       "      <th>13184</th>\n",
       "      <td>2021-06-29 23:17:00</td>\n",
       "      <td>김해공항         렌터카인수 용두암 제주정지 보롬왓 안돌오름 제주동문시장   ...</td>\n",
       "      <td>용두암</td>\n",
       "      <td>22734</td>\n",
       "    </tr>\n",
       "    <tr>\n",
       "      <th>13185</th>\n",
       "      <td>2021-06-29 23:17:00</td>\n",
       "      <td>원래 세화는 카페한라산  카페라라라 뭐 그런 곳이 유명하던데 역시나 사람 많은 걸...</td>\n",
       "      <td>한라산</td>\n",
       "      <td>22734</td>\n",
       "    </tr>\n",
       "  </tbody>\n",
       "</table>\n",
       "</div>"
      ],
      "text/plain": [
       "                      date                                               text  \\\n",
       "13181  2021-06-29 22:29:00  어젯밤 과식으로 배부르게 하루를 시작합니당 오늘은 관광데이  쉬어가는 제주여행  박...   \n",
       "13182  2021-06-29 23:04:00  제주 여행    일차는 아래링크 참고               .    .     ...   \n",
       "13183  2021-06-29 23:13:00  제주여행을 다녀온지 벌써  주가 지났네요  살    개월 아가와 함께한 제주 여행 ...   \n",
       "13184  2021-06-29 23:17:00  김해공항         렌터카인수 용두암 제주정지 보롬왓 안돌오름 제주동문시장   ...   \n",
       "13185  2021-06-29 23:17:00   원래 세화는 카페한라산  카페라라라 뭐 그런 곳이 유명하던데 역시나 사람 많은 걸...   \n",
       "\n",
       "       place    idx  \n",
       "13181  용머리해안  22731  \n",
       "13182     우도  22732  \n",
       "13183     우도  22733  \n",
       "13184    용두암  22734  \n",
       "13185    한라산  22734  "
      ]
     },
     "execution_count": 2,
     "metadata": {},
     "output_type": "execute_result"
    }
   ],
   "source": [
    "df_2101_2106 = pd.read_csv('./data/splited_data_2101_2106.csv')\n",
    "df_2101_2106.tail()"
   ]
  },
  {
   "cell_type": "code",
   "execution_count": 5,
   "metadata": {
    "scrolled": true
   },
   "outputs": [
    {
     "data": {
      "text/html": [
       "<div>\n",
       "<style scoped>\n",
       "    .dataframe tbody tr th:only-of-type {\n",
       "        vertical-align: middle;\n",
       "    }\n",
       "\n",
       "    .dataframe tbody tr th {\n",
       "        vertical-align: top;\n",
       "    }\n",
       "\n",
       "    .dataframe thead th {\n",
       "        text-align: right;\n",
       "    }\n",
       "</style>\n",
       "<table border=\"1\" class=\"dataframe\">\n",
       "  <thead>\n",
       "    <tr style=\"text-align: right;\">\n",
       "      <th></th>\n",
       "      <th>date</th>\n",
       "      <th>text</th>\n",
       "      <th>place</th>\n",
       "      <th>idx</th>\n",
       "    </tr>\n",
       "  </thead>\n",
       "  <tbody>\n",
       "    <tr>\n",
       "      <th>10408</th>\n",
       "      <td>2021-12-30 23:35:00</td>\n",
       "      <td>무슨 치즈랍스타 뭐 이런건 줄이 으마무시하드만    난    진작에 포기  아그리...</td>\n",
       "      <td>용두암</td>\n",
       "      <td>6947</td>\n",
       "    </tr>\n",
       "    <tr>\n",
       "      <th>10409</th>\n",
       "      <td>2021-12-30 23:43:00</td>\n",
       "      <td>오늘은 월정리 코앞에서 자는데..바닷바람 부는 소리가 진짜세게들려서..좋다 뭐가좋냐...</td>\n",
       "      <td>본태박물관</td>\n",
       "      <td>6948</td>\n",
       "    </tr>\n",
       "    <tr>\n",
       "      <th>10410</th>\n",
       "      <td>2021-12-30 23:46:00</td>\n",
       "      <td>월 말     월 초에 다녀온 제주 여행    년 만에 다녀온 제주도이기도 했고...</td>\n",
       "      <td>용머리해안</td>\n",
       "      <td>6949</td>\n",
       "    </tr>\n",
       "    <tr>\n",
       "      <th>10411</th>\n",
       "      <td>2021-12-30 23:50:00</td>\n",
       "      <td>공항에 가기 전후로 시간은 늘 항상 촉박하고 뭐는 먹어야겠고 빨리 먹고 싶은데 또 ...</td>\n",
       "      <td>용두암</td>\n",
       "      <td>6950</td>\n",
       "    </tr>\n",
       "    <tr>\n",
       "      <th>10412</th>\n",
       "      <td>2021-12-30 23:50:00</td>\n",
       "      <td>무슨 치즈랍스타 뭐 이런건 줄이 으마무시하드만    난    진작에 포기  아그리...</td>\n",
       "      <td>한라산</td>\n",
       "      <td>6950</td>\n",
       "    </tr>\n",
       "  </tbody>\n",
       "</table>\n",
       "</div>"
      ],
      "text/plain": [
       "                      date                                               text  \\\n",
       "10408  2021-12-30 23:35:00   무슨 치즈랍스타 뭐 이런건 줄이 으마무시하드만    난    진작에 포기  아그리...   \n",
       "10409  2021-12-30 23:43:00  오늘은 월정리 코앞에서 자는데..바닷바람 부는 소리가 진짜세게들려서..좋다 뭐가좋냐...   \n",
       "10410  2021-12-30 23:46:00    월 말     월 초에 다녀온 제주 여행    년 만에 다녀온 제주도이기도 했고...   \n",
       "10411  2021-12-30 23:50:00  공항에 가기 전후로 시간은 늘 항상 촉박하고 뭐는 먹어야겠고 빨리 먹고 싶은데 또 ...   \n",
       "10412  2021-12-30 23:50:00   무슨 치즈랍스타 뭐 이런건 줄이 으마무시하드만    난    진작에 포기  아그리...   \n",
       "\n",
       "       place   idx  \n",
       "10408    용두암  6947  \n",
       "10409  본태박물관  6948  \n",
       "10410  용머리해안  6949  \n",
       "10411    용두암  6950  \n",
       "10412    한라산  6950  "
      ]
     },
     "execution_count": 5,
     "metadata": {},
     "output_type": "execute_result"
    }
   ],
   "source": [
    "df_2107_2112 = pd.read_csv('./data/splited_data_2107_2112.csv')\n",
    "df_2107_2112.tail()"
   ]
  },
  {
   "cell_type": "code",
   "execution_count": 6,
   "metadata": {
    "scrolled": false
   },
   "outputs": [
    {
     "data": {
      "text/html": [
       "<div>\n",
       "<style scoped>\n",
       "    .dataframe tbody tr th:only-of-type {\n",
       "        vertical-align: middle;\n",
       "    }\n",
       "\n",
       "    .dataframe tbody tr th {\n",
       "        vertical-align: top;\n",
       "    }\n",
       "\n",
       "    .dataframe thead th {\n",
       "        text-align: right;\n",
       "    }\n",
       "</style>\n",
       "<table border=\"1\" class=\"dataframe\">\n",
       "  <thead>\n",
       "    <tr style=\"text-align: right;\">\n",
       "      <th></th>\n",
       "      <th>date</th>\n",
       "      <th>text</th>\n",
       "      <th>place</th>\n",
       "      <th>idx</th>\n",
       "    </tr>\n",
       "  </thead>\n",
       "  <tbody>\n",
       "    <tr>\n",
       "      <th>0</th>\n",
       "      <td>2020-01-01 01:15:00</td>\n",
       "      <td>박  일 제주여행의 마지막 날 아침 성산 일출봉을 향했다.입장 시간이 이미 해가 ...</td>\n",
       "      <td>성산일출봉</td>\n",
       "      <td>0</td>\n",
       "    </tr>\n",
       "    <tr>\n",
       "      <th>1</th>\n",
       "      <td>2020-01-01 02:03:00</td>\n",
       "      <td>안녕하세요  바나나맛우유입니다   앞전에 호텔사진 보고 오신분은 알겠지만    네 ...</td>\n",
       "      <td>함덕해수욕장</td>\n",
       "      <td>1</td>\n",
       "    </tr>\n",
       "    <tr>\n",
       "      <th>2</th>\n",
       "      <td>2020-01-01 05:33:00</td>\n",
       "      <td>. 부지런해져라.   일찍 자고 일찍 일어나기          생각한 대로 살자....</td>\n",
       "      <td>비양도</td>\n",
       "      <td>2</td>\n",
       "    </tr>\n",
       "    <tr>\n",
       "      <th>3</th>\n",
       "      <td>2020-01-01 10:46:00</td>\n",
       "      <td>올것이 왔습니다. 제주에서의 마지막 날입니다. 너무 아쉽습니다. 혼자여행 외롭거나 ...</td>\n",
       "      <td>용두암</td>\n",
       "      <td>3</td>\n",
       "    </tr>\n",
       "    <tr>\n",
       "      <th>4</th>\n",
       "      <td>2020-01-01 10:51:00</td>\n",
       "      <td>오늘은 넘나 심플한 하루였다. 늦잠자고 점심먹고 스벅갔다가 저녁먹고 끝 원래는   ...</td>\n",
       "      <td>한라산</td>\n",
       "      <td>4</td>\n",
       "    </tr>\n",
       "  </tbody>\n",
       "</table>\n",
       "</div>"
      ],
      "text/plain": [
       "                  date                                               text  \\\n",
       "0  2020-01-01 01:15:00   박  일 제주여행의 마지막 날 아침 성산 일출봉을 향했다.입장 시간이 이미 해가 ...   \n",
       "1  2020-01-01 02:03:00  안녕하세요  바나나맛우유입니다   앞전에 호텔사진 보고 오신분은 알겠지만    네 ...   \n",
       "2  2020-01-01 05:33:00   . 부지런해져라.   일찍 자고 일찍 일어나기          생각한 대로 살자....   \n",
       "3  2020-01-01 10:46:00  올것이 왔습니다. 제주에서의 마지막 날입니다. 너무 아쉽습니다. 혼자여행 외롭거나 ...   \n",
       "4  2020-01-01 10:51:00  오늘은 넘나 심플한 하루였다. 늦잠자고 점심먹고 스벅갔다가 저녁먹고 끝 원래는   ...   \n",
       "\n",
       "    place  idx  \n",
       "0   성산일출봉    0  \n",
       "1  함덕해수욕장    1  \n",
       "2     비양도    2  \n",
       "3     용두암    3  \n",
       "4     한라산    4  "
      ]
     },
     "execution_count": 6,
     "metadata": {},
     "output_type": "execute_result"
    }
   ],
   "source": [
    "df = pd.concat([df_2001_2006, df_2007_2012, df_2101_2106, df_2107_2112])\n",
    "df.reset_index(drop=True, inplace=True)\n",
    "df.head()"
   ]
  },
  {
   "cell_type": "code",
   "execution_count": 8,
   "metadata": {
    "scrolled": true
   },
   "outputs": [
    {
     "data": {
      "text/html": [
       "<div>\n",
       "<style scoped>\n",
       "    .dataframe tbody tr th:only-of-type {\n",
       "        vertical-align: middle;\n",
       "    }\n",
       "\n",
       "    .dataframe tbody tr th {\n",
       "        vertical-align: top;\n",
       "    }\n",
       "\n",
       "    .dataframe thead th {\n",
       "        text-align: right;\n",
       "    }\n",
       "</style>\n",
       "<table border=\"1\" class=\"dataframe\">\n",
       "  <thead>\n",
       "    <tr style=\"text-align: right;\">\n",
       "      <th></th>\n",
       "      <th>date</th>\n",
       "      <th>text</th>\n",
       "      <th>place</th>\n",
       "      <th>idx</th>\n",
       "    </tr>\n",
       "  </thead>\n",
       "  <tbody>\n",
       "    <tr>\n",
       "      <th>0</th>\n",
       "      <td>2020-01-01 01:15:00</td>\n",
       "      <td>박  일 제주여행의 마지막 날 아침 성산 일출봉을 향했다.입장 시간이 이미 해가 ...</td>\n",
       "      <td>성산일출봉</td>\n",
       "      <td>0</td>\n",
       "    </tr>\n",
       "    <tr>\n",
       "      <th>1</th>\n",
       "      <td>2020-01-01 02:03:00</td>\n",
       "      <td>안녕하세요  바나나맛우유입니다   앞전에 호텔사진 보고 오신분은 알겠지만    네 ...</td>\n",
       "      <td>함덕해수욕장</td>\n",
       "      <td>1</td>\n",
       "    </tr>\n",
       "    <tr>\n",
       "      <th>2</th>\n",
       "      <td>2020-01-01 05:33:00</td>\n",
       "      <td>. 부지런해져라.   일찍 자고 일찍 일어나기          생각한 대로 살자....</td>\n",
       "      <td>비양도</td>\n",
       "      <td>2</td>\n",
       "    </tr>\n",
       "    <tr>\n",
       "      <th>3</th>\n",
       "      <td>2020-01-01 10:46:00</td>\n",
       "      <td>올것이 왔습니다. 제주에서의 마지막 날입니다. 너무 아쉽습니다. 혼자여행 외롭거나 ...</td>\n",
       "      <td>용두암</td>\n",
       "      <td>3</td>\n",
       "    </tr>\n",
       "    <tr>\n",
       "      <th>4</th>\n",
       "      <td>2020-01-01 10:51:00</td>\n",
       "      <td>오늘은 넘나 심플한 하루였다. 늦잠자고 점심먹고 스벅갔다가 저녁먹고 끝 원래는   ...</td>\n",
       "      <td>한라산</td>\n",
       "      <td>4</td>\n",
       "    </tr>\n",
       "  </tbody>\n",
       "</table>\n",
       "</div>"
      ],
      "text/plain": [
       "                  date                                               text  \\\n",
       "0  2020-01-01 01:15:00   박  일 제주여행의 마지막 날 아침 성산 일출봉을 향했다.입장 시간이 이미 해가 ...   \n",
       "1  2020-01-01 02:03:00  안녕하세요  바나나맛우유입니다   앞전에 호텔사진 보고 오신분은 알겠지만    네 ...   \n",
       "2  2020-01-01 05:33:00   . 부지런해져라.   일찍 자고 일찍 일어나기          생각한 대로 살자....   \n",
       "3  2020-01-01 10:46:00  올것이 왔습니다. 제주에서의 마지막 날입니다. 너무 아쉽습니다. 혼자여행 외롭거나 ...   \n",
       "4  2020-01-01 10:51:00  오늘은 넘나 심플한 하루였다. 늦잠자고 점심먹고 스벅갔다가 저녁먹고 끝 원래는   ...   \n",
       "\n",
       "    place  idx  \n",
       "0   성산일출봉    0  \n",
       "1  함덕해수욕장    1  \n",
       "2     비양도    2  \n",
       "3     용두암    3  \n",
       "4     한라산    4  "
      ]
     },
     "execution_count": 8,
     "metadata": {},
     "output_type": "execute_result"
    }
   ],
   "source": [
    "df = df.dropna()\n",
    "df.reset_index(drop=True, inplace=True)\n",
    "df.head()"
   ]
  },
  {
   "cell_type": "markdown",
   "metadata": {},
   "source": [
    "**분석에 필요한 태그: NNP(고유 명사), NNG(일반 명사), VV(동사), MAG(일반 부사), VA(형용사)**"
   ]
  },
  {
   "cell_type": "code",
   "execution_count": null,
   "metadata": {},
   "outputs": [],
   "source": [
    "## 전체 데이터 분석\n",
    "\n",
    "from tqdm.notebook import tqdm_notebook\n",
    "from konlpy.tag import Kkma, Komoran\n",
    "import time\n",
    "\n",
    "komoran = Komoran()\n",
    "\n",
    "tokens_with_tags = []\n",
    "\n",
    "process_time = time.time()\n",
    "for text in tqdm_notebook(df['text']):\n",
    "    tokens_with_tags.append(komoran.pos(text))\n",
    "    \n",
    "process_time = time.time() - process_time\n",
    "print('tagger name = %5s, %.3f secs' % ('Komoran', process_time))"
   ]
  },
  {
   "cell_type": "code",
   "execution_count": null,
   "metadata": {},
   "outputs": [],
   "source": [
    "len(tokens_with_tags)"
   ]
  },
  {
   "cell_type": "code",
   "execution_count": 63,
   "metadata": {},
   "outputs": [],
   "source": [
    "# pickel 저장\n",
    "with open('./data/tokens_with_tags.pkl', 'wb') as f:\n",
    "    pickle.dump(tokens_with_tags, f, pickle.HIGHEST_PROTOCOL)"
   ]
  },
  {
   "cell_type": "code",
   "execution_count": null,
   "metadata": {},
   "outputs": [],
   "source": []
  },
  {
   "cell_type": "code",
   "execution_count": 4,
   "metadata": {},
   "outputs": [],
   "source": [
    "# pickel 불러오기\n",
    "with open('./data/tokens_with_tags.pkl', 'rb') as f:\n",
    "    tokens_with_tags = pickle.load(f)"
   ]
  },
  {
   "cell_type": "code",
   "execution_count": 5,
   "metadata": {},
   "outputs": [
    {
     "data": {
      "application/vnd.jupyter.widget-view+json": {
       "model_id": "74733ef2e0914362914ef970ab1b580e",
       "version_major": 2,
       "version_minor": 0
      },
      "text/plain": [
       "  0%|          | 0/45065 [00:00<?, ?it/s]"
      ]
     },
     "metadata": {},
     "output_type": "display_data"
    }
   ],
   "source": [
    "# 전체 text에서 tagging된 모든 tag list 만들기\n",
    "\n",
    "all_tag_list = []\n",
    "\n",
    "from tqdm.notebook import tqdm_notebook\n",
    "\n",
    "for tokens in tqdm_notebook(tokens_with_tags):\n",
    "    for token_set in tokens:\n",
    "        if token_set[1] not in all_tag_list:\n",
    "            all_tag_list.append(token_set[1])\n",
    "        "
   ]
  },
  {
   "cell_type": "code",
   "execution_count": 6,
   "metadata": {},
   "outputs": [
    {
     "name": "stdout",
     "output_type": "stream",
     "text": [
      "[] []\n"
     ]
    }
   ],
   "source": [
    "# 분석에 필요한 5가지 tag\n",
    "all_tag = ['NNP' ,'NNG', 'VV', 'MAG', 'VA']\n",
    "\n",
    "# tag별 리스트 만들기\n",
    "for tags in all_tag:\n",
    "    globals()['{}_list'.format(tags)] = []\n",
    "    \n",
    "print(NNP_list, VA_list)"
   ]
  },
  {
   "cell_type": "code",
   "execution_count": 7,
   "metadata": {},
   "outputs": [
    {
     "data": {
      "application/vnd.jupyter.widget-view+json": {
       "model_id": "6cf95486f4d34a9cba1ff02e57d9af18",
       "version_major": 2,
       "version_minor": 0
      },
      "text/plain": [
       "  0%|          | 0/45065 [00:00<?, ?it/s]"
      ]
     },
     "metadata": {},
     "output_type": "display_data"
    }
   ],
   "source": [
    "# token들을 해당 tag 리스트에 저장\n",
    "for tokens in tqdm_notebook(tokens_with_tags):\n",
    "    for token_set in tokens:\n",
    "        if token_set[1] in all_tag:\n",
    "            globals()['{}_list'.format(token_set[1])].append(token_set[0])"
   ]
  },
  {
   "cell_type": "code",
   "execution_count": 8,
   "metadata": {},
   "outputs": [
    {
     "data": {
      "text/plain": [
       "(2690474, 3559502, 2038580, 902872, 633349)"
      ]
     },
     "execution_count": 8,
     "metadata": {},
     "output_type": "execute_result"
    }
   ],
   "source": [
    "len(NNP_list), len(NNG_list), len(VV_list), len(MAG_list), len(VA_list)"
   ]
  },
  {
   "cell_type": "code",
   "execution_count": 9,
   "metadata": {
    "scrolled": true
   },
   "outputs": [
    {
     "name": "stdout",
     "output_type": "stream",
     "text": [
      "-------- NNP tag의 가장 흔한 단어 top100 -------- \n",
      "\n",
      "[('제주', 148213), ('제주도', 60531), ('여행', 47161), ('카페', 37834), ('성산', 24249), ('우도', 22700), ('한라산', 22280), ('해변', 17569), ('일출봉', 16880), ('이', 15940), ('해수욕장', 15111), ('돼지', 14044), ('서귀포', 12718), ('박', 12580), ('함덕', 12526), ('호텔', 11706), ('이랑', 11631), ('산방산', 11183), ('우', 10874), ('오름', 9449), ('주차장', 9340), ('존', 9281), ('보니', 9020), ('메뉴', 8890), ('전복', 8874), ('섭지코지', 8715), ('김밥', 8490), ('갈치', 8318), ('시장', 7775), ('식당', 7686), ('스팅', 7518), ('유채', 7513), ('애월', 7292), ('공항', 7077), ('코로나', 6968), ('아이들', 6966), ('돌', 6675), ('주차', 6623), ('리', 6621), ('제가', 6553), ('커피', 6436), ('폭포', 6409), ('한', 6303), ('장', 6198), ('드', 6033), ('용머리', 5986), ('날씨', 5893), ('자림', 5845), ('당', 5802), ('제주공항', 5733), ('힐링', 5713), ('올레', 5683), ('송악산', 5670), ('풍경', 5623), ('딱새', 5587), ('바다', 5433), ('음료', 5427), ('조식', 5403), ('구이', 5277), ('그런지', 5200), ('땅콩', 5190), ('제주시', 5138), ('만원', 5135), ('비행기', 5133), ('조림', 5119), ('사진', 5113), ('라고', 5089), ('정도', 5063), ('고기', 5040), ('도로', 5018), ('길', 4942), ('수국', 4927), ('동문', 4902), ('아', 4864), ('엄', 4852), ('숲길', 4777), ('아이스크림', 4743), ('국수', 4739), ('해녀', 4696), ('라면', 4634), ('마라도', 4624), ('시간', 4589), ('산책', 4554), ('휴', 4401), ('오설록', 4382), ('녹차', 4347), ('테이블', 4318), ('만', 4303), ('구름', 4258), ('관광지', 4190), ('이호', 4117), ('비양도', 4112), ('칼국수', 4071), ('정리', 4042), ('미', 4035), ('좋아서', 4030), ('전', 3994), ('거리', 3950), ('노을', 3938), ('버스', 3931)]\n",
      "----------------------------------------\n",
      "\n",
      "\n",
      "-------- NNG tag의 가장 흔한 단어 top100 -------- \n",
      "\n",
      "[('곳', 64728), ('사진', 58607), ('여행', 45726), ('때', 42004), ('시간', 40465), ('숙소', 37398), ('날', 32866), ('사람', 31371), ('바다', 28852), ('맛', 28539), ('생각', 27489), ('길', 27029), ('맛집', 23843), ('코스', 22822), ('도착', 22275), ('말', 21082), ('집', 19905), ('안', 19288), ('추천', 19221), ('근처', 18984), ('해안', 17176), ('앞', 17167), ('예약', 15969), ('다음', 15853), ('흑', 15682), ('정도', 15607), ('아침', 15532), ('비', 15243), ('느낌', 15145), ('배', 14167), ('마지막', 14028), ('날씨', 13976), ('물', 13795), ('이번', 13588), ('밥', 13545), ('바람', 12964), ('구경', 12875), ('저녁', 12864), ('처음', 12394), ('눈', 12197), ('일정', 11741), ('시작', 11685), ('오늘', 11616), ('차', 11390), ('후', 11375), ('방문', 11360), ('게', 11356), ('친구', 11224), ('인', 11088), ('일차', 10996), ('꽃', 10880), ('마음', 10385), ('해', 10206), ('넘', 10186), ('옆', 10169), ('전', 9988), ('사실', 9929), ('출발', 9772), ('자리', 9512), ('위치', 9374), ('주문', 9363), ('모습', 9058), ('입구', 8791), ('혼자', 8789), ('체험', 8690), ('다', 8674), ('엄마', 8605), ('층', 8404), ('기분', 8339), ('이용', 8324), ('제주', 8253), ('하늘', 8222), ('위', 8148), ('가격', 8096), ('포', 8074), ('끝', 7988), ('방', 7891), ('귤', 7864), ('포토', 7761), ('원래', 7738), ('숲', 7670), ('기억', 7667), ('티', 7509), ('뒤', 7423), ('빵', 7384), ('속', 7278), ('계획', 7248), ('샷', 7248), ('사장', 7175), ('하루', 7127), ('분위기', 7066), ('제일', 6919), ('풍경', 6806), ('중간', 6735), ('가족', 6712), ('밤', 6582), ('고등어', 6549), ('행복', 6529), ('준비', 6519), ('공간', 6517)]\n",
      "----------------------------------------\n",
      "\n",
      "\n",
      "-------- VV tag의 가장 흔한 단어 top100 -------- \n",
      "\n",
      "[('하', 172470), ('있', 159839), ('가', 130241), ('먹', 108742), ('보', 85627), ('찍', 61303), ('되', 50622), ('오', 47365), ('나오', 37899), ('보이', 34714), ('타', 28150), ('들', 24465), ('들어가', 22644), ('걷', 20278), ('알', 19495), ('나', 16804), ('찾', 15144), ('좋아하', 14656), ('오르', 14621), ('쓰', 14355), ('올라가', 14147), ('살', 14053), ('받', 12619), ('모르', 12123), ('만들', 11207), ('다녀오', 10923), ('마시', 10542), ('느끼', 10402), ('기다리', 10396), ('앉', 10301), ('즐기', 10134), ('위하', 10104), ('내리', 9793), ('다니', 9753), ('시키', 9503), ('놀', 9436), ('만나', 8533), ('쉬', 8437), ('맞', 8382), ('사', 8025), ('걸', 7982), ('잡', 7920), ('들리', 7114), ('남기', 7086), ('지나', 6890), ('따르', 6832), ('보내', 6631), ('들어오', 6360), ('자', 6270), ('나가', 6070), ('드리', 5997), ('트', 5905), ('걸리', 5884), ('넘', 5667), ('올리', 5566), ('내려가', 5550), ('내려오', 5502), ('돌아오', 5474), ('돌', 5432), ('남', 5426), ('향하', 5414), ('담', 5355), ('짜', 5344), ('떠나', 5333), ('뜨', 5247), ('이', 5246), ('팔', 5222), ('달리', 5155), ('들르', 5120), ('넣', 5098), ('바라보', 5093), ('불', 5033), ('생기', 5020), ('챙기', 5000), ('가지', 4952), ('돌아가', 4892), ('입', 4775), ('여기', 4730), ('치', 4692), ('일어나', 4632), ('서', 4536), ('빠지', 4323), ('내', 4297), ('맞추', 4156), ('따', 4105), ('굽', 4033), ('둘러보', 4029), ('부르', 3952), ('지나가', 3949), ('해보', 3898), ('알리', 3734), ('걸어가', 3731), ('울', 3679), ('올라오', 3665), ('차', 3633), ('떨어지', 3605), ('피', 3580), ('끝나', 3469), ('가시', 3387), ('끼', 3354)]\n",
      "----------------------------------------\n",
      "\n",
      "\n",
      "-------- MAG tag의 가장 흔한 단어 top100 -------- \n",
      "\n",
      "[('너무', 60007), ('더', 33875), ('잘', 33496), ('다', 33137), ('많이', 28816), ('진짜', 27998), ('정말', 26913), ('안', 26815), ('바로', 24435), ('좀', 18617), ('그냥', 18553), ('다시', 17377), ('꼭', 16778), ('못', 15085), ('함께', 14425), ('엄청', 13752), ('조금', 11203), ('아주', 11027), ('같이', 9715), ('딱', 9163), ('왜', 8544), ('없이', 8437), ('참', 8301), ('가장', 7549), ('이제', 7483), ('거의', 6866), ('계속', 6748), ('멀리', 6335), ('꽤', 6048), ('가득', 5676), ('일찍', 5597), ('열심히', 5577), ('먼저', 5513), ('아직', 5487), ('별로', 5222), ('모두', 5137), ('미리', 5082), ('잠시', 5047), ('따로', 4786), ('살짝', 4785), ('일단', 4621), ('너무너무', 4173), ('직접', 4118), ('특히', 3977), ('갑자기', 3936), ('드디어', 3926), ('제대로', 3866), ('약간', 3726), ('이미', 3710), ('결국', 3350), ('지금', 3327), ('매일', 3325), ('짱', 3317), ('빨리', 3284), ('물론', 3203), ('매우', 3133), ('잠깐', 3122), ('막', 3035), ('항상', 2947), ('굉장히', 2938), ('내내', 2905), ('너무나', 2885), ('다행히', 2844), ('얼마나', 2805), ('벌써', 2733), ('무조건', 2530), ('금방', 2512), ('오래', 2471), ('아니', 2252), ('그대로', 2247), ('쭉', 2217), ('천천히', 2168), ('언제', 2154), ('워낙', 1995), ('또', 1981), ('점점', 1974), ('더욱', 1955), ('훨씬', 1935), ('자주', 1923), ('늘', 1891), ('아기자기', 1820), ('어제', 1774), ('쨍', 1711), ('아마', 1696), ('달달', 1677), ('보다', 1654), ('실제로', 1647), ('자꾸', 1642), ('찰칵', 1639), ('전혀', 1632), ('잔뜩', 1628), ('마침', 1613), ('겨우', 1596), ('마치', 1591), ('덜', 1573), ('얼른', 1568), ('쉬', 1556), ('굳이', 1554), ('아무튼', 1552), ('대충', 1492)]\n",
      "----------------------------------------\n",
      "\n",
      "\n",
      "-------- VA tag의 가장 흔한 단어 top100 -------- \n",
      "\n",
      "[('좋', 83706), ('같', 56931), ('없', 52531), ('많', 40059), ('맛있', 39015), ('이렇', 25813), ('예쁘', 24590), ('크', 17525), ('그렇', 17439), ('아쉽', 11641), ('힘들', 10104), ('이쁘', 9261), ('아름답', 8266), ('멋지', 8190), ('귀엽', 7936), ('넓', 7603), ('작', 7157), ('가깝', 6579), ('맑', 6259), ('괜찮', 6045), ('편하', 5838), ('춥', 5835), ('길', 5301), ('덥', 5030), ('흐리', 4972), ('늦', 4669), ('다르', 4607), ('즐겁', 4311), ('비싸', 4285), ('어떻', 3969), ('높', 3711), ('재밌', 3553), ('쉽', 3439), ('짧', 3434), ('무섭', 3302), ('멀', 3035), ('적', 2802), ('어렵', 2731), ('멋있', 2663), ('빠르', 2617), ('배고프', 2397), ('엄청나', 2360), ('급하', 2273), ('가볍', 2252), ('시', 2176), ('고프', 2161), ('알차', 2073), ('부드럽', 2064), ('새롭', 1997), ('싫', 1919), ('바쁘', 1898), ('저렇', 1897), ('깊', 1801), ('맛나', 1757), ('아프', 1713), ('어둡', 1693), ('세', 1671), ('아깝', 1585), ('심하', 1575), ('어리', 1560), ('재미있', 1483), ('밝', 1439), ('고맙', 1436), ('나쁘', 1417), ('빨갛', 1401), ('하얗', 1397), ('지나치', 1385), ('좁', 1355), ('배부르', 1341), ('강하', 1293), ('뜨겁', 1248), ('요렇', 1193), ('붉', 1153), ('귀찮', 1134), ('맵', 1128), ('낮', 1087), ('반갑', 1073), ('착하', 979), ('가파르', 932), ('똑같', 915), ('야무지', 889), ('검', 886), ('슬프', 844), ('진하', 806), ('맛없', 766), ('노랗', 740), ('희', 738), ('차갑', 736), ('무겁', 730), ('커다랗', 720), ('부럽', 681), ('그립', 659), ('색다르', 627), ('젊', 625), ('얇', 571), ('흔하', 567), ('두껍', 559), ('쎄', 524), ('수많', 503), ('놀랍', 501)]\n",
      "----------------------------------------\n",
      "\n",
      "\n"
     ]
    }
   ],
   "source": [
    "# 각 tag 리스트 별 빈도수 세기\n",
    "import collections\n",
    "\n",
    "def frequency_count(tag_list, tag):\n",
    "    counts = collections.Counter(tag_list)\n",
    "    print('-------- %s tag의 가장 흔한 단어 top100 --------' % tag, '\\n')\n",
    "    print(counts.most_common(100))\n",
    "    print('----------------------------------------')\n",
    "    print('\\n')\n",
    "\n",
    "frequency_count(NNP_list, 'NNP')\n",
    "frequency_count(NNG_list, 'NNG')\n",
    "frequency_count(VV_list, 'VV')\n",
    "frequency_count(MAG_list, 'MAG')\n",
    "frequency_count(VA_list, 'VA')"
   ]
  },
  {
   "cell_type": "code",
   "execution_count": null,
   "metadata": {},
   "outputs": [],
   "source": []
  },
  {
   "cell_type": "markdown",
   "metadata": {},
   "source": [
    "## top 100 형용사를 바탕으로 문서에서 관련 속성(명사) 뽑아내기"
   ]
  },
  {
   "cell_type": "code",
   "execution_count": 10,
   "metadata": {},
   "outputs": [
    {
     "data": {
      "text/html": [
       "<div>\n",
       "<style scoped>\n",
       "    .dataframe tbody tr th:only-of-type {\n",
       "        vertical-align: middle;\n",
       "    }\n",
       "\n",
       "    .dataframe tbody tr th {\n",
       "        vertical-align: top;\n",
       "    }\n",
       "\n",
       "    .dataframe thead th {\n",
       "        text-align: right;\n",
       "    }\n",
       "</style>\n",
       "<table border=\"1\" class=\"dataframe\">\n",
       "  <thead>\n",
       "    <tr style=\"text-align: right;\">\n",
       "      <th></th>\n",
       "      <th>date</th>\n",
       "      <th>text</th>\n",
       "      <th>place</th>\n",
       "      <th>idx</th>\n",
       "    </tr>\n",
       "  </thead>\n",
       "  <tbody>\n",
       "    <tr>\n",
       "      <th>0</th>\n",
       "      <td>2021-01-01 03:32:00</td>\n",
       "      <td>미니 백록담이라고도 불리는 제주 금오름    보통 언덕인 제주 오름들과는 다르게  ...</td>\n",
       "      <td>한라산</td>\n",
       "      <td>14003</td>\n",
       "    </tr>\n",
       "    <tr>\n",
       "      <th>1</th>\n",
       "      <td>2021-01-01 07:03:00</td>\n",
       "      <td>해가 밝았으니 여행을 떠나자   신축년 새해는 소처럼 우직하니 해외여행 첫 스타트...</td>\n",
       "      <td>성산일출봉</td>\n",
       "      <td>14004</td>\n",
       "    </tr>\n",
       "    <tr>\n",
       "      <th>2</th>\n",
       "      <td>2021-01-01 07:19:00</td>\n",
       "      <td>우리 아들  살때 둘째 태어난지   일경 즈음.. 둘째 스트레스를 자신이 앓고 있어...</td>\n",
       "      <td>한라산</td>\n",
       "      <td>14005</td>\n",
       "    </tr>\n",
       "    <tr>\n",
       "      <th>3</th>\n",
       "      <td>2021-01-01 07:35:00</td>\n",
       "      <td>그래서 역곡에서 집으로 집에서 제주로 데려온 아삭아삭 양상추  키플링 가방에 살짝 ...</td>\n",
       "      <td>중문관광단지</td>\n",
       "      <td>14006</td>\n",
       "    </tr>\n",
       "    <tr>\n",
       "      <th>4</th>\n",
       "      <td>2021-01-01 07:35:00</td>\n",
       "      <td>그래서 역곡에서 집으로 집에서 제주로 데려온 아삭아삭 양상추  키플링 가방에 살짝 ...</td>\n",
       "      <td>산방산</td>\n",
       "      <td>14006</td>\n",
       "    </tr>\n",
       "  </tbody>\n",
       "</table>\n",
       "</div>"
      ],
      "text/plain": [
       "                  date                                               text  \\\n",
       "0  2021-01-01 03:32:00  미니 백록담이라고도 불리는 제주 금오름    보통 언덕인 제주 오름들과는 다르게  ...   \n",
       "1  2021-01-01 07:03:00   해가 밝았으니 여행을 떠나자   신축년 새해는 소처럼 우직하니 해외여행 첫 스타트...   \n",
       "2  2021-01-01 07:19:00  우리 아들  살때 둘째 태어난지   일경 즈음.. 둘째 스트레스를 자신이 앓고 있어...   \n",
       "3  2021-01-01 07:35:00  그래서 역곡에서 집으로 집에서 제주로 데려온 아삭아삭 양상추  키플링 가방에 살짝 ...   \n",
       "4  2021-01-01 07:35:00  그래서 역곡에서 집으로 집에서 제주로 데려온 아삭아삭 양상추  키플링 가방에 살짝 ...   \n",
       "\n",
       "    place    idx  \n",
       "0     한라산  14003  \n",
       "1   성산일출봉  14004  \n",
       "2     한라산  14005  \n",
       "3  중문관광단지  14006  \n",
       "4     산방산  14006  "
      ]
     },
     "execution_count": 10,
     "metadata": {},
     "output_type": "execute_result"
    }
   ],
   "source": [
    "df_2101_2106.head()"
   ]
  },
  {
   "cell_type": "code",
   "execution_count": 11,
   "metadata": {},
   "outputs": [
    {
     "name": "stdout",
     "output_type": "stream",
     "text": [
      "<class 'pandas.core.frame.DataFrame'>\n",
      "RangeIndex: 13186 entries, 0 to 13185\n",
      "Data columns (total 4 columns):\n",
      " #   Column  Non-Null Count  Dtype \n",
      "---  ------  --------------  ----- \n",
      " 0   date    13186 non-null  object\n",
      " 1   text    13176 non-null  object\n",
      " 2   place   13186 non-null  object\n",
      " 3   idx     13186 non-null  int64 \n",
      "dtypes: int64(1), object(3)\n",
      "memory usage: 412.2+ KB\n"
     ]
    }
   ],
   "source": [
    "df_2101_2106.info()"
   ]
  },
  {
   "cell_type": "code",
   "execution_count": 12,
   "metadata": {},
   "outputs": [
    {
     "data": {
      "text/html": [
       "<div>\n",
       "<style scoped>\n",
       "    .dataframe tbody tr th:only-of-type {\n",
       "        vertical-align: middle;\n",
       "    }\n",
       "\n",
       "    .dataframe tbody tr th {\n",
       "        vertical-align: top;\n",
       "    }\n",
       "\n",
       "    .dataframe thead th {\n",
       "        text-align: right;\n",
       "    }\n",
       "</style>\n",
       "<table border=\"1\" class=\"dataframe\">\n",
       "  <thead>\n",
       "    <tr style=\"text-align: right;\">\n",
       "      <th></th>\n",
       "      <th>date</th>\n",
       "      <th>text</th>\n",
       "      <th>place</th>\n",
       "      <th>idx</th>\n",
       "    </tr>\n",
       "  </thead>\n",
       "  <tbody>\n",
       "    <tr>\n",
       "      <th>0</th>\n",
       "      <td>2021-01-01 03:32:00</td>\n",
       "      <td>미니 백록담이라고도 불리는 제주 금오름    보통 언덕인 제주 오름들과는 다르게  ...</td>\n",
       "      <td>한라산</td>\n",
       "      <td>14003</td>\n",
       "    </tr>\n",
       "    <tr>\n",
       "      <th>1</th>\n",
       "      <td>2021-01-01 07:03:00</td>\n",
       "      <td>해가 밝았으니 여행을 떠나자   신축년 새해는 소처럼 우직하니 해외여행 첫 스타트...</td>\n",
       "      <td>성산일출봉</td>\n",
       "      <td>14004</td>\n",
       "    </tr>\n",
       "    <tr>\n",
       "      <th>2</th>\n",
       "      <td>2021-01-01 07:19:00</td>\n",
       "      <td>우리 아들  살때 둘째 태어난지   일경 즈음.. 둘째 스트레스를 자신이 앓고 있어...</td>\n",
       "      <td>한라산</td>\n",
       "      <td>14005</td>\n",
       "    </tr>\n",
       "    <tr>\n",
       "      <th>3</th>\n",
       "      <td>2021-01-01 07:35:00</td>\n",
       "      <td>그래서 역곡에서 집으로 집에서 제주로 데려온 아삭아삭 양상추  키플링 가방에 살짝 ...</td>\n",
       "      <td>중문관광단지</td>\n",
       "      <td>14006</td>\n",
       "    </tr>\n",
       "    <tr>\n",
       "      <th>4</th>\n",
       "      <td>2021-01-01 07:35:00</td>\n",
       "      <td>그래서 역곡에서 집으로 집에서 제주로 데려온 아삭아삭 양상추  키플링 가방에 살짝 ...</td>\n",
       "      <td>산방산</td>\n",
       "      <td>14006</td>\n",
       "    </tr>\n",
       "  </tbody>\n",
       "</table>\n",
       "</div>"
      ],
      "text/plain": [
       "                  date                                               text  \\\n",
       "0  2021-01-01 03:32:00  미니 백록담이라고도 불리는 제주 금오름    보통 언덕인 제주 오름들과는 다르게  ...   \n",
       "1  2021-01-01 07:03:00   해가 밝았으니 여행을 떠나자   신축년 새해는 소처럼 우직하니 해외여행 첫 스타트...   \n",
       "2  2021-01-01 07:19:00  우리 아들  살때 둘째 태어난지   일경 즈음.. 둘째 스트레스를 자신이 앓고 있어...   \n",
       "3  2021-01-01 07:35:00  그래서 역곡에서 집으로 집에서 제주로 데려온 아삭아삭 양상추  키플링 가방에 살짝 ...   \n",
       "4  2021-01-01 07:35:00  그래서 역곡에서 집으로 집에서 제주로 데려온 아삭아삭 양상추  키플링 가방에 살짝 ...   \n",
       "\n",
       "    place    idx  \n",
       "0     한라산  14003  \n",
       "1   성산일출봉  14004  \n",
       "2     한라산  14005  \n",
       "3  중문관광단지  14006  \n",
       "4     산방산  14006  "
      ]
     },
     "execution_count": 12,
     "metadata": {},
     "output_type": "execute_result"
    }
   ],
   "source": [
    "df_2101_2106.dropna(inplace=True)\n",
    "df_2101_2106.reset_index(drop=True, inplace=True)\n",
    "df_2101_2106.head()"
   ]
  },
  {
   "cell_type": "code",
   "execution_count": 13,
   "metadata": {},
   "outputs": [
    {
     "name": "stdout",
     "output_type": "stream",
     "text": [
      "<class 'pandas.core.frame.DataFrame'>\n",
      "RangeIndex: 13176 entries, 0 to 13175\n",
      "Data columns (total 4 columns):\n",
      " #   Column  Non-Null Count  Dtype \n",
      "---  ------  --------------  ----- \n",
      " 0   date    13176 non-null  object\n",
      " 1   text    13176 non-null  object\n",
      " 2   place   13176 non-null  object\n",
      " 3   idx     13176 non-null  int64 \n",
      "dtypes: int64(1), object(3)\n",
      "memory usage: 411.9+ KB\n"
     ]
    }
   ],
   "source": [
    "df_2101_2106.info()"
   ]
  },
  {
   "cell_type": "code",
   "execution_count": 14,
   "metadata": {
    "scrolled": true
   },
   "outputs": [],
   "source": [
    "import collections\n",
    "\n",
    "VA_counts = collections.Counter(VA_list)\n",
    "VA_top100 = VA_counts.most_common(100)"
   ]
  },
  {
   "cell_type": "code",
   "execution_count": 15,
   "metadata": {
    "scrolled": false
   },
   "outputs": [
    {
     "name": "stdout",
     "output_type": "stream",
     "text": [
      "['좋', '같', '없', '많', '맛있', '이렇', '예쁘', '크', '그렇', '아쉽', '힘들', '이쁘', '아름답', '멋지', '귀엽', '넓', '작', '가깝', '맑', '괜찮', '편하', '춥', '길', '덥', '흐리', '늦', '다르', '즐겁', '비싸', '어떻', '높', '재밌', '쉽', '짧', '무섭', '멀', '적', '어렵', '멋있', '빠르', '배고프', '엄청나', '급하', '가볍', '시', '고프', '알차', '부드럽', '새롭', '싫', '바쁘', '저렇', '깊', '맛나', '아프', '어둡', '세', '아깝', '심하', '어리', '재미있', '밝', '고맙', '나쁘', '빨갛', '하얗', '지나치', '좁', '배부르', '강하', '뜨겁', '요렇', '붉', '귀찮', '맵', '낮', '반갑', '착하', '가파르', '똑같', '야무지', '검', '슬프', '진하', '맛없', '노랗', '희', '차갑', '무겁', '커다랗', '부럽', '그립', '색다르', '젊', '얇', '흔하', '두껍', '쎄', '수많', '놀랍']\n"
     ]
    }
   ],
   "source": [
    "VA_f = lambda x: x[0]\n",
    "extract_VA = list(map(VA_f, VA_top100))\n",
    "print(extract_VA)"
   ]
  },
  {
   "cell_type": "code",
   "execution_count": 20,
   "metadata": {},
   "outputs": [],
   "source": [
    "# 1. top100 형용사가 포함된 문장 추출\n",
    "# 2. 추출된 문장으로 여행/코로나 관련 속성(명사) 추출\n",
    "\n",
    "VA_sents = []\n",
    "\n",
    "from konlpy.tag import Kkma\n",
    "\n",
    "kkma = Kkma()\n",
    "\n",
    "for text in df_2101_2106['text']:\n",
    "    sents = kkma.sentences(text)\n",
    "\n",
    "    for sent_idx, sent in enumerate(sents):  \n",
    "        for VA in extract_VA:\n",
    "            if VA in sent:\n",
    "                VA_sents.append(sent)\n",
    "                break"
   ]
  },
  {
   "cell_type": "code",
   "execution_count": 21,
   "metadata": {
    "scrolled": true
   },
   "outputs": [
    {
     "data": {
      "text/plain": [
       "['미니 백록담이라고도 불리는 제주 금 오름 보통 언덕인 제주 오름 들과는 다르게 금 오름 가운데에는 분화구가 있어서 특색 있는 것 같아요',\n",
       " '그리고 일몰 시간대에 맞춰서 가면 석양이 지는 모습이 너무 예쁘다고',\n",
       " '제주 금 오름 주차장 공간이 있긴 한데 만 차일 땐 이렇게 갓길 주차 하는 것 같아요',\n",
       " '보니 관광객들이 정말 많습니다',\n",
       " '제가 갔을 당시엔 금 오름 올라가는 입구 쪽에 공사가 한창이였어요',\n",
       " '사람들이 많아서 대충 저기구나 싶어서 따라갔는데 한적할 때 갔다면 입구 찾으라',\n",
       " '헤맸을 것 같음 밭에 물을 주고 계 시더라고요 넘나',\n",
       " '아마 여기도 주차장이 아닐까 싶은데 제가 갔을 땐 포크 레인이 막고 있어서 차 통행이 불가능했다는 고 나름 등산 같은 오름이라 그런지 입구 쪽에 간식도 팔아요',\n",
       " '내려오면서 드시는 분들도 있더라고요',\n",
       " '올라가는 길에 설명도 한번 읽어 보았어요',\n",
       " '금 오름 의 금은 신이라는 뜻의 어원을 가진 호칭으로 옛날부터 신성시 되어 온 오름이라고 하네용',\n",
       " '올라가는데 걸린 금 오름 소요시간 대략 분 정도 잡으면 충분할 것 같아요',\n",
       " '주차하고 금 오름 정상까지 가는데 걸린 시간입니당',\n",
       " '제가 제주 오름 별로 안 가봤는데 새별 오름보다 아주 조금 더 힘든 정도 올라가다 중간 중간 경치 구경하기 좋아요',\n",
       " '금 오름 물이 조금밖에 없어서 슬픈 진미 츄 제주 여행에서 한라산 백록담 금 오름 정상 모두 물이 말라 있었음 고려 못한 복장도 약간 에러 그래도 신발은 워 커라 아닌 중 다행이였어요',\n",
       " '금 오름 정상이 흙 잔디로 되어 있어서 아끼는 신발 흰색 운동화 등 신고 가면 후회하실 거 예여 이 금 오름 정상에서 내려다보면 웅장함에 우와 소리가 절로 나는데 사진과 영상에서는 금 오름 의 스케일이 잘 담기지 않은 것 같아요',\n",
       " '우와 앙 반대편 쪽으로 걸어가다 보니 멋진 말 두 마리도 볼 수 있었음 말과 함께 인증 샷 찍으시는 분들도 꽤 많던데 저는 쫄 보라 멀리서 구경만 반대편으로 올라온 모습 분화구에 물이 말라 있어서 아쉬움이 남아요',\n",
       " '푸릇푸릇 한 봄 여름에 다시 한 번 가봐야겠어요 그리구 제주 금 오름 언덕이 패러 글라이딩 맛 집 인가 봐요',\n",
       " '체 험이 아니라 취미로 하시는 분들이 꽤 많더라고요',\n",
       " '자유 자재로 비행하시는 모습이 멋있어서 한참을 바라보다 내려왔답니당',\n",
       " '다들 그냥 지나치지 못하고 우와 우와 연발하며 구경 잼 금 오름 정상에서 본 제주 서부지역 금 오름은 금 악마을의 중심에 위치해 있어서 제주 서쪽 전부를 내려다볼 수 있다고',\n",
       " '제주 오름 추 천 새별 오름 포스 팅 링크도 첨부하니 참고 하세용 제주 오름 추 천 제주여행 제주도 여행 제주 금 오름 금 오름',\n",
       " '해가 밝았으니 여행을 떠나자 신축년 새해는 소처럼 우직하니 해외여행 첫 스타트로 미국 서부여행 도전 뿜뿜 해외여행금지 코로나 해외여행 한국인 입국금지 코로나 음성 확인서 미 서부여행 해외여행주의 보신년 해돋이는 비행기 안에서 보는 게 제맛이죠.',\n",
       " '특히 새로 시작한 올해는 정동진 호미곶 간 절곶 해운대 성산 일출봉 등 전국 해맞이 명소 다 폐쇄되면서 어디에서도 몰래 가 아닌 이상은 모여서 새해 첫해 보는 게 어려워졌으니 말이죠.',\n",
       " '예년 같았으면 거센 겨울 바닷바람 맞으며 광 안대 교 해맞이행사 나갔을 것이예요.',\n",
       " '하지만 올해는 모두 폐쇄이니 수평선 너머로 떠오르는 발간 해를 보지는 못했지만 거실에서 오륙도 밝히며 광 안대 교 너머로 올라오는 기운을 느꼈어요.',\n",
       " '건강하고 즐거운 시간 이어지기를 빌었고 여행 많이 다닐 수 있게 해 달라고 바랬죠.',\n",
       " '그리고 내 돈 안 들어가는 두바이 이집트 스페인 박 일마저 갈 수 없었고요.',\n",
       " '번이나 제주 항공권 샀으나 번번히 바이러스 심해 지면서 접을 수밖에 없었으니 말이죠.',\n",
       " '하늘 위에서 새의 눈으로 바라보는 세상 이맘때면 여기저기 흰 눈 뒤덮힌 풍광이 멋질 것인데 기억만 더듬어야 하니 답답스럽네요.',\n",
       " '참을 수 없어 엄중한 상황임에도 뱅기를 타기로 했어요.',\n",
       " '변종 바 이러스까지 퍼지기 시작한 이제는 면역 여권 준하는 탑 승전 시간 이내 네가 티브 확인서는 기본이고 심지어 백신 접종 서까지 있어야만 입국시키겠다는 국가도 나올 것 같은데도 가고 싶은 걸 어째요. 일 격리도 견딜 수 있을 것 같다는 생각도 들고요.',\n",
       " '그래서 다시 떠나려고요.',\n",
       " '태평양 지나서 시간 넘게 날아가면 북미 대륙 서부에 다다르게 되죠.',\n",
       " '로 키 산맥과 나란히 한 해안을 따라 시애틀 샌 프란시스 코 로스 엔젤 레스로 이어지죠.',\n",
       " '목적지에 살포시 내려앉아 주기장으로 천천히 움직이는 미국행 항공기 타고 있을 때의 설레임과 즐거움은 누려 본 이들은 그 기분 다 알 것이예요.',\n",
       " '여기는 그랜드 캐년 웨스트림. 세상에 이런 곳이 라는 감탄이 절로 나오게 되는 현장이죠.',\n",
       " '두발을 딛고 직접 내 눈으로 봤을 때의 그 경이로 움은 잊을 수가 없어요.',\n",
       " '여긴 라돈도 비치. 퍼시픽 아래로 사라져 가는 멋진 선 셋 즐기며 낚시하고 산책하고 맛난 랍스터 즐길 수 있는 가볼 만한 곳 가운데 하 나죠. 이번에는 산타 모니카와 이어지는 베니스 비치 가서 놀아 보려고요.',\n",
       " '펑 키한 분위기에 알록달록 그라 피티도 많고 젊은 에너지가 충만한 곳이니 기를 받아 좀 팔팔 해지고 싶네요.',\n",
       " '천사의 도시 투어도 빼놓을 수가 없죠.',\n",
       " '이번에는 어찌 될지 알 수 없지만 이왕 가는 것이라면 뽕을 뽑고 돌아와 야죠. 실제로는 갈 수 없으니 방구석 랜 선 투어 별생각 없이 있었는데 년 마지막 날이 던 어제 메일이 하나 왔더라고요.',\n",
       " '이런 것 돈 받고 유료 진행하는 곳 많은데 공짜라고 하니 놓칠 수 없잖아요.',\n",
       " '미국 서부여행 곳을 매주 토요일마다 현지 가이드. 진행으로 즐길 수 있어 바로 신청했죠.',\n",
       " '회당 시간에서 시간 반 프로그램이니 실제로 내가 가서 즐기는 것이랑 별반 차이가 없을 듯해요.',\n",
       " '이런 기회가 아니면 언제 사우스림 일 출 같은 걸 실시간으로 함께 할 수 있겠어요',\n",
       " '월 한 달은 새로운 즐거움에 빠질 수 있을 것 같네요.',\n",
       " '줌 줌 투어 회원이라면 누구나 가능하니 관심 있으면 신청해 보시기를. 참 이 포스팅은 줌 줌과는 아무런 관련이 없으니 오해 없기를. 다 들 해피 뉴 이어 행복하기를',\n",
       " '박 일간 너무 아름다운 시간이었죠 . .',\n",
       " '참고로 이 여행도 급 떠난 벙 개 여행으로.. 월초.. 그나마 코로나가 비유행 할 때 다녀왔고 최대한 사람이 없는 곳만 다녔어요',\n",
       " '제가 한창 등산 및 러닝 트레일 러닝에 빠져 있어.. 자연스레 아들 데리고 우리 동네의 세계문화 유산인 공산성을 돌고 갈 만한 낮은 산은 가본 터라.. 아이에게 제안했습니다',\n",
       " '혼자는 못 가니 데려간다 아직 뭣도 모르는 우리 초 아들은 오케이 자신은 백록담 정상을 볼 거라고 노래를 부르듯 애원했지만 아이의 체력 건강 안전을 위해 어 승생 악 혹은 기회가 된다면 윗 세 오름까지만 가려고 작정하고 제주도를 갔습니다.',\n",
       " '여행 일정 내내 비온다는 소리에.. 날씨가 흐리든 비가 오든 도착한 다음날은 무조건 한라산을 가야겠다고 작정을 했습니다',\n",
       " '그래서 전날 묵은 게스트하우스에서 일찍 나와 어리 목 코스 입구를 왔습니다.',\n",
       " '먼저는 가볍게 몸 풀기로 어 승생 악을 올라 가봅니다',\n",
       " '그나마 날씨가 아직 비가 오지 않아 올라갈 만 했고 해발 미터의 어 승생 악이지만 올라가는 위 치가 미터에서 올라가니.. 미터만 더 올라가면 된다는 동기 부여로 아들에게 희망을 심겨 줬습니다.',\n",
       " '역시 미터는 꿀이었습니다',\n",
       " '어 승생 악이 참 아름답네요',\n",
       " '가볍게 어 승생 악을 올라왔습니다.',\n",
       " '그나마 제주시와 서귀포 쪽 다 보이는 전망대.. 여기까지가 정말 좋았습니다',\n",
       " '우리 아들과 한 컷 어 승생 악 정상은 뭔 가 큰 것을 암시하는 복선으로.. 바람이 아주 세차게 불었습니다.',\n",
       " '윗 세 오름에서 정말.. 죽을 뻔 했어요..',\n",
       " '바람 때문에 저 멀리 보이는 도시와 풍경.. 너무 아름답고 빛 내림도 좋았습니다',\n",
       " '어 승생 악을 내려와 잠시 쉬고. 그만 집에 가려 다가.. 아들 꼬셔서.. 그래도 한라산에 왔는데 백록담은 못 갈지언정 윗 세 오름이라도 가자라고 동기 부여 한 후 힘들면 업어 가겠다 약속하고.. 이제 윗 세 오름 코스를 향합니다',\n",
       " '그리고 비상 식량의 부족과.. 나의 정보 부족.. 이라는 중요 체크를 했어',\n",
       " '년 제주도 자전거 여행 당시 체력이 좋아 공주에서 광주 광주에서 목포로 가서 다시 제주도를 내려가.. 자전거 세워 두고 바로 한라산 정상 고지를 밟은 그 나이가 아니었습니다',\n",
       " '그리고 백록담과 어리 목 코스는 또 다른 곳이며 급하게 여행 오느라 많은 준비를 하지 못했습니다.',\n",
       " '좀만 올라가니 해발 만 넘으면 우리는 고지의 윗 세 오름을 가는 것입니다',\n",
       " '비가 내리고 바람이 불기 시작합니다.',\n",
       " '옷은 두둑이 가져와서 걱정되지 않았으나 혹시 감기에 걸리면 어떻게 될까 염려되어.. 아들에게 그만 갈까 물어봤습니다',\n",
       " '하아.. 하아.. 나도 근래 달리기를 해서 그런지 체력도 좋아졌고 아이의 건강과 이후 일정을 위해서도 힘들면 업어 갔습니다.',\n",
       " '아 뒈다.. 정말 힘들었습니다.',\n",
       " '이건 돌보다 무겁고 쌀보다 무거 운 킬 로 더군다나 가방 앞으로 메고 미끄러운 돌을 밟으며.. 그래도 자기 힘으로 정상을 정복하려는 아들의 발걸음.. 응원해 줬습니다',\n",
       " '해 발 미터.. 여기까지 계단이고.. 이제 정말 경치가 좋다는 구간인데.. 길은 편하지만 평지 같은 오르막이라 바람이 불기 시작합니다.',\n",
       " '다채로운 제주 날씨.. 어리 목 코스에서 윗 세 오름까지 경험했습니다',\n",
       " '이렇게 매섭던 눈은... 아래와 같이.. 도저히 한 발도 내딛을 수 없다는 표정의 동태눈이 되었습니다',\n",
       " '아빠 돌아가자.. 우리 이제 돌아올 수 없는 강을 건넜어',\n",
       " '진짜 바람이 너무 많이 불어 올라갈 수 없는 상황이 되었습니다.',\n",
       " '미터 정도에서.. 사람들이 내려가기 시작했고 이미 미터 이전에 거의 대부분 내려갔습니다.',\n",
       " '가방에 옷을 많이 들고 왔기에 아들에게 하나씩 하나씩 입혔고 급기야 나의 외투에 워머를 벗어 주고 아이를 감싸고 마지막 미터 해발 를 올라갔습니다',\n",
       " '에베레스트 가 자고 드디어 고지를 점령하며 맞이한 대피소.. 대피소가 이렇게 좋은 곳이었구나',\n",
       " '정말 쉽지 않은 등반이었지만 올라오니 멋진 경치가 아니라 감동 있는 한국의 정이 있는 정상이었죠..',\n",
       " '정말 초췌하게 인증 샷.. 그리고 카트 분 해발 미터 윗 세 오름을 초등학교 학년 아들과 함께 정복했습니다',\n",
       " '년 전 백록담의 아름다운 광경을 볼 때보다 더 아름답고 행복한 시간이었습니다.',\n",
       " '위의 세 오름.. 을 보진 못했지만 말이죠',\n",
       " '나중엔 꼭 보러 오겠다.. 우리 렌트카는 어리 목에 있지만 영실 코스가 더 쉽고 바람이 덜 분다는 이야기를 듣고 우리는 영실로 내려가기로 했습니다.',\n",
       " '어리 목과 영실은 날이 좋을 때 정말 아름답겠다는 상상을 해봅니다',\n",
       " '병풍 바위와 백록담 전경까지.. 하지만... 기쁨도 잠시.. 영실도 만만치 않습니다',\n",
       " '영실 코스는 아주 아름다운 코스로 절벽이 많고 모두 나무 계단으로 되어 있었습니다.',\n",
       " '내려가는 것도 쉽지 않았습니다',\n",
       " '정말 한라산 등반 내내 카메라는. 가방에.. 무게만 차지.. 꺼내기가 무서움.. 내려 가는 길이 무서워 아이와 손을 꼭 잡고 내려왔습니다',\n",
       " '이모와 삼촌이 좋은 아들.. 저분들 만나서 너무 행복했어요',\n",
       " '영실은 해발부터 시작하네요.',\n",
       " '길이 훨씬 좋다고',\n",
       " '그래도 어리 목에서 올라 영실로 내려오는 나름 완벽한 코스로 윗 세 오름을 다녀왔네요',\n",
       " '너무 힘들었지만 아들과 좋은 추억이 있었던 행복한 한라산 등반이었습니다.',\n",
       " '정말 날이 좋은 날 꼭 한번 가보고 싶네요',\n",
       " '영실 어리 목 코스는... 이렇게 초 딩 아들과 함께 한 첫 한라 산 등반 우리는 해냈습니다',\n",
       " '부자 여행 믿음의 모험 영실 코스 어리 목 코스 영실 어리 목 한라산 제주도 제주아이와 여행 한라산 아이와 한라산 아이와 등산 한라산 초등학생 한라산 어리 목 한라산 영실 제주 한라산 등반 제주가 볼만한 곳 제주여행 제주 비대면 여행 비대면 여행 윗 세 오름 어 승생 악 윗 세 오름대 피소 아들과 여행 아빠와 아들',\n",
       " '그래서 역 곡에서 집으로 집에서 제주로 데려온 아삭아삭 양상추 키플링 가방에 살짝 넣어 왔다가 들켰다 어이 없어 하는 상진이 귀엽게 봐주는 눈치다']"
      ]
     },
     "execution_count": 21,
     "metadata": {},
     "output_type": "execute_result"
    }
   ],
   "source": [
    "VA_sents[:100]"
   ]
  },
  {
   "cell_type": "code",
   "execution_count": 22,
   "metadata": {
    "scrolled": true
   },
   "outputs": [
    {
     "data": {
      "text/plain": [
       "132497"
      ]
     },
     "execution_count": 22,
     "metadata": {},
     "output_type": "execute_result"
    }
   ],
   "source": [
    "len(VA_sents)"
   ]
  },
  {
   "cell_type": "code",
   "execution_count": null,
   "metadata": {},
   "outputs": [],
   "source": []
  },
  {
   "cell_type": "code",
   "execution_count": 27,
   "metadata": {
    "scrolled": false
   },
   "outputs": [
    {
     "name": "stdout",
     "output_type": "stream",
     "text": [
      "['좋', '같', '없', '많', '맛있', '이렇', '예쁘', '크', '그렇', '아쉽', '힘들', '이쁘', '아름답', '멋지', '귀엽', '넓', '작', '가깝', '맑', '괜찮', '편하', '춥', '길', '덥', '흐리', '늦', '다르', '즐겁', '비싸', '어떻', '높', '재밌', '쉽', '짧', '무섭', '멀', '적', '어렵', '멋있', '빠르', '배고프', '엄청나', '급하', '가볍', '시', '고프', '알차', '부드럽', '새롭', '싫', '바쁘', '저렇', '깊', '맛나', '아프', '어둡', '세', '아깝', '심하', '어리', '재미있', '밝', '고맙', '나쁘', '빨갛', '하얗', '지나치', '좁', '배부르', '강하', '뜨겁', '요렇', '붉', '귀찮', '맵', '낮', '반갑', '착하', '가파르', '똑같', '야무지', '검', '슬프', '진하', '맛없', '노랗', '희', '차갑', '무겁', '커다랗', '부럽', '그립', '색다르', '젊', '얇', '흔하', '두껍', '쎄', '수많', '놀랍']\n"
     ]
    }
   ],
   "source": [
    "print(extract_VA)"
   ]
  },
  {
   "cell_type": "code",
   "execution_count": 24,
   "metadata": {},
   "outputs": [],
   "source": [
    " import pickle\n",
    "\n",
    "# Save data_dict\n",
    "with open('./data/VA_sents.pkl','wb') as f:\n",
    "    pickle.dump(VA_sents,f)"
   ]
  },
  {
   "cell_type": "code",
   "execution_count": 29,
   "metadata": {},
   "outputs": [],
   "source": [
    "with open('./data/VA_sents.pkl','rb') as f:\n",
    "    VA_sents = pickle.load(f)"
   ]
  },
  {
   "cell_type": "code",
   "execution_count": 32,
   "metadata": {},
   "outputs": [
    {
     "name": "stdout",
     "output_type": "stream",
     "text": [
      "132497\n",
      "['미니 백록담이라고도 불리는 제주 금 오름 보통 언덕인 제주 오름 들과는 다르게 금 오름 가운데에는 분화구가 있어서 특색 있는 것 같아요', '그리고 일몰 시간대에 맞춰서 가면 석양이 지는 모습이 너무 예쁘다고', '제주 금 오름 주차장 공간이 있긴 한데 만 차일 땐 이렇게 갓길 주차 하는 것 같아요', '보니 관광객들이 정말 많습니다', '제가 갔을 당시엔 금 오름 올라가는 입구 쪽에 공사가 한창이였어요', '사람들이 많아서 대충 저기구나 싶어서 따라갔는데 한적할 때 갔다면 입구 찾으라', '헤맸을 것 같음 밭에 물을 주고 계 시더라고요 넘나', '아마 여기도 주차장이 아닐까 싶은데 제가 갔을 땐 포크 레인이 막고 있어서 차 통행이 불가능했다는 고 나름 등산 같은 오름이라 그런지 입구 쪽에 간식도 팔아요', '내려오면서 드시는 분들도 있더라고요', '올라가는 길에 설명도 한번 읽어 보았어요']\n"
     ]
    }
   ],
   "source": [
    "print(len(VA_sents))\n",
    "\n",
    "print(VA_sents[:10])"
   ]
  },
  {
   "cell_type": "code",
   "execution_count": 51,
   "metadata": {},
   "outputs": [
    {
     "name": "stdout",
     "output_type": "stream",
     "text": [
      "training was done. used memory 4.954 Gbse memory 5.072 Gb\n",
      "all cohesion probabilities was computed. # words = 89421\n",
      "all branching entropies was computed # words = 123105\n",
      "all accessor variety was computed # words = 123105\n",
      "[Noun Extractor] use default predictors\n",
      "[Noun Extractor] num features: pos=3929, neg=2321, common=107\n",
      "[Noun Extractor] counting eojeols\n",
      "[EojeolCounter] n eojeol = 228155 from 132497 sents. mem=5.115 Gb                    \n",
      "[Noun Extractor] complete eojeol counter -> lr graph\n",
      "[Noun Extractor] has been trained. #eojeols=3046604, mem=5.375 Gb\n",
      "[Noun Extractor] batch prediction was completed for 45578 words\n",
      "[Noun Extractor] checked compounds. discovered 20754 compounds\n",
      "[Noun Extractor] postprocessing detaching_features : 35573 -> 28601\n",
      "[Noun Extractor] postprocessing ignore_features : 28601 -> 28399\n",
      "[Noun Extractor] postprocessing ignore_NJ : 28399 -> 27647\n",
      "[Noun Extractor] 27647 nouns (20754 compounds) with min frequency=1\n",
      "[Noun Extractor] flushing was done. mem=4.900 Gb                    \n",
      "[Noun Extractor] 63.47 % eojeols are covered\n"
     ]
    }
   ],
   "source": [
    "# 관련 속성(명사) 추출\n",
    "\n",
    "from soynlp.word import WordExtractor\n",
    "from soynlp.noun import LRNounExtractor_v2\n",
    "from soynlp.tokenizer import LTokenizer\n",
    "\n",
    "# word_extract\n",
    "word_extractor = WordExtractor()\n",
    "word_extractor.train(VA_sents)\n",
    "words = word_extractor.extract()\n",
    "cohesion_score = {word:score.cohesion_forward for word, score in words.items()}\n",
    "\n",
    "# LRNounExtractor_v2\n",
    "noun_extractor = LRNounExtractor_v2()\n",
    "nouns = noun_extractor.train_extract(VA_sents) # list of str like\n",
    "\n",
    "noun_scores = {noun:score.score for noun, score in nouns.items()}\n",
    "combined_scores = {noun:score + cohesion_score.get(noun, 0)\n",
    "    for noun, score in noun_scores.items()}\n",
    "combined_scores.update(\n",
    "    {subword:cohesion for subword, cohesion in cohesion_score.items()\n",
    "    if not (subword in combined_scores)}\n",
    ")\n",
    "\n",
    "# L-토큰화\n",
    "tokenizer = LTokenizer(scores=combined_scores)\n",
    "\n",
    "VA_sents_tok = [tokenizer.tokenize(corpus) for corpus in VA_sents]\n",
    "\n",
    "VA_corpus = []\n",
    "for tok in VA_sents_tok:\n",
    "    nouns = [word for word in tok if word in scores.keys()]\n",
    "    VA_corpus.append(nouns)\n",
    "\n",
    "# 1글자 제거\n",
    "tokenized_text = []\n",
    "for token_text in VA_corpus:\n",
    "    token_text = [word for word in token_text if len(word) > 1]\n",
    "    tokenized_text.append(token_text)"
   ]
  },
  {
   "cell_type": "code",
   "execution_count": 52,
   "metadata": {},
   "outputs": [
    {
     "data": {
      "text/plain": [
       "['미니 백록담이라고도 불리는 제주 금 오름 보통 언덕인 제주 오름 들과는 다르게 금 오름 가운데에는 분화구가 있어서 특색 있는 것 같아요',\n",
       " '그리고 일몰 시간대에 맞춰서 가면 석양이 지는 모습이 너무 예쁘다고']"
      ]
     },
     "execution_count": 52,
     "metadata": {},
     "output_type": "execute_result"
    }
   ],
   "source": [
    "VA_sents[:2]"
   ]
  },
  {
   "cell_type": "code",
   "execution_count": 53,
   "metadata": {
    "scrolled": true
   },
   "outputs": [
    {
     "name": "stdout",
     "output_type": "stream",
     "text": [
      "[['미니', '백록담', '이라고도', '불리는', '제주', '오름', '언덕', '제주', '오름', '다르게', '오름', '데에는', '분화구', '있어서', '있는', '같아요'], ['그리고', '시간', '맞춰서', '석양', '모습이', '너무', '예쁘다'], ['제주', '오름', '주차장', '공간', '이렇게', '갓길', '주차', '하는', '같아요'], ['보니', '관광', '정말', '많습니다'], ['갔을', '당시', '오름', '올라', '가는', '입구', '쪽에', '였어요'], ['사람들', '많아', '싶어서', '따라', '갔는데', '갔다', '입구', '찾으'], ['밭에', '시더라고요', '넘나'], ['여기', '주차장', '아닐까', '싶은', '갔을', '있어서', '불가능', '했다는', '등산', '같은', '오름', '그런지', '입구', '쪽에', '간식', '팔아요'], ['내려', '드시는', '분들', '있더라고'], ['올라', '가는', '길에', '설명', '한번', '읽어', '보았어요'], ['오름', '뜻의', '으로', '옛날', '되어', '오름', '이라고'], ['올라가는데', '오름', '소요시간', '정도', '잡으면', '충분', '같아요'], ['주차', '하고', '오름', '정상', '까지', '가는데', '시간', '입니당'], ['제주', '오름', '별로', '가봤는데', '새별', '오름', '아주', '조금', '힘든', '정도', '올라', '중간', '중간', '경치', '구경', '좋아'], ['오름', '물이', '조금', '밖에', '없어서', '슬픈', '제주', '여행', '에서', '한라산', '백록담', '오름', '정상', '모두', '물이', '있었', '못한', '복장', '약간', '그래', '이였어요'], ['오름', '정상', '잔디', '되어', '있어서', '흰색', '운동화', '후회', '오름', '정상', '에서', '내려', '웅장', '소리', '절로', '나는', '사진', '영상', '에서는', '오름', '담기지', '않은', '같아요'], ['반대편', '쪽으로', '걸어', '보니', '멋진', '있었', '함께', '인증', '찍으시는', '분들', '저는', '멀리', '구경', '반대편', '으로', '올라', '모습', '분화구', '물이', '있어서', '아쉬움', '남아'], ['푸릇푸릇', '다시', '가봐야겠어요', '그리', '제주', '오름', '언덕', '글라이딩', '봐요'], ['아니라', '하시는', '분들', '많더라고'], ['비행', '하시는', '모습이', '멋있어서', '바라', '내려', '왔답니당']]\n"
     ]
    }
   ],
   "source": [
    "print(tokenized_text[:20])"
   ]
  },
  {
   "cell_type": "code",
   "execution_count": 57,
   "metadata": {},
   "outputs": [
    {
     "name": "stdout",
     "output_type": "stream",
     "text": [
      "['미니', '백록담']\n"
     ]
    }
   ],
   "source": [
    "kor_total_tokens = []\n",
    "for L in tokenized_text:\n",
    "    kor_total_tokens += L\n",
    "    \n",
    "print(kor_total_tokens[:2])"
   ]
  },
  {
   "cell_type": "code",
   "execution_count": 62,
   "metadata": {},
   "outputs": [
    {
     "name": "stdout",
     "output_type": "stream",
     "text": [
      "토큰 개수:  15621\n",
      "[('제주', 54664), ('여행', 20724), ('너무', 18398), ('에서', 18323), ('으로', 16600), ('있는', 16105), ('사진', 15801), ('하고', 13376), ('시간', 12359), ('카페', 10868)]\n"
     ]
    }
   ],
   "source": [
    "import nltk\n",
    "\n",
    "# 불용어 설정\n",
    "SW = {\"제주\", \"제주도\", \"여행\"}\n",
    "\n",
    "text = nltk.Text(kor_total_tokens)\n",
    "print(\"토큰 개수: \", len(set(text.tokens)))\n",
    "print(text.vocab().most_common(10))"
   ]
  },
  {
   "cell_type": "code",
   "execution_count": 80,
   "metadata": {},
   "outputs": [
    {
     "data": {
      "text/plain": [
       "{'여행', '제주', '제주도'}"
      ]
     },
     "execution_count": 80,
     "metadata": {},
     "output_type": "execute_result"
    }
   ],
   "source": [
    "set(SW)"
   ]
  },
  {
   "cell_type": "code",
   "execution_count": null,
   "metadata": {},
   "outputs": [],
   "source": []
  },
  {
   "cell_type": "code",
   "execution_count": 87,
   "metadata": {},
   "outputs": [
    {
     "data": {
      "image/png": "[encoded data removed]",
      "text/plain": [
       "<Figure size 576x576 with 1 Axes>"
      ]
     },
     "metadata": {
      "needs_background": "light"
     },
     "output_type": "display_data"
    }
   ],
   "source": [
    "# 워드 클라우드\n",
    "from wordcloud import WordCloud, STOPWORDS\n",
    "from PIL import Image\n",
    "import matplotlib.pyplot as plt\n",
    "\n",
    "def make_wordcloud(text, topN):\n",
    "    font_path = '/System/Library/Fonts/AppleSDGothicNeo.ttc'\n",
    "    mask = np.array(Image.open(\"./data/cloud.png\"))\n",
    "\n",
    "    wordcloud = WordCloud(width = 1000, height = 1000, \n",
    "                          mask=mask,\n",
    "                          background_color='white',\n",
    "                          font_path = font_path, \n",
    "                          colormap=\"twilight\",   \n",
    "                          min_font_size = 10,\n",
    "                          stopwords=SW\n",
    "                          )\n",
    "\n",
    "    cloud = wordcloud.generate_from_frequencies(dict(text.vocab().most_common(topN)))\n",
    "    plt.figure(figsize = (8, 8), facecolor = None) \n",
    "    plt.imshow(cloud) \n",
    "    plt.axis(\"off\") \n",
    "    plt.tight_layout()\n",
    "    plt.show()\n",
    "    \n",
    "make_wordcloud(text, 100)"
   ]
  },
  {
   "cell_type": "code",
   "execution_count": 89,
   "metadata": {
    "scrolled": true
   },
   "outputs": [
    {
     "name": "stdout",
     "output_type": "stream",
     "text": [
      "[('제주', 54664),\n",
      " ('여행', 20724),\n",
      " ('너무', 18398),\n",
      " ('에서', 18323),\n",
      " ('으로', 16600),\n",
      " ('있는', 16105),\n",
      " ('사진', 15801),\n",
      " ('하고', 13376),\n",
      " ('시간', 12359),\n",
      " ('카페', 10868),\n",
      " ('해서', 10181),\n",
      " ('하는', 9994),\n",
      " ('숙소', 9249),\n",
      " ('바다', 9126),\n",
      " ('맛있', 9049),\n",
      " ('많이', 8497),\n",
      " ('..', 8140),\n",
      " ('들어', 8020),\n",
      " ('우리', 7988),\n",
      " ('좋아', 7957),\n",
      " ('가는', 7766),\n",
      " ('진짜', 7403),\n",
      " ('생각', 7294),\n",
      " ('정말', 6985),\n",
      " ('이렇게', 6402),\n",
      " ('그래', 6188),\n",
      " ('바로', 6002),\n",
      " ('성산', 5986),\n",
      " ('까지', 5966),\n",
      " ('먹고', 5935),\n",
      " ('오름', 5834),\n",
      " ('그리고', 5738),\n",
      " ('코스', 5699),\n",
      " ('좋은', 5651),\n",
      " ('날씨', 5578),\n",
      " ('여기', 5439),\n",
      " ('있어서', 5426),\n",
      " ('도착', 5426),\n",
      " ('다시', 5370),\n",
      " ('호텔', 5232),\n",
      " ('한라산', 5231),\n",
      " ('사람', 5196),\n",
      " ('정도', 5162),\n",
      " ('공항', 5091),\n",
      " ('우도', 5002),\n",
      " ('같은', 4925),\n",
      " ('그냥', 4795),\n",
      " ('했는데', 4783),\n",
      " ('추천', 4738),\n",
      " ('보고', 4683),\n",
      " ('근처', 4676),\n",
      " ('ㅠㅠ', 4605),\n",
      " ('보니', 4498),\n",
      " ('곳이', 4491),\n",
      " ('돌아', 4309),\n",
      " ('올라', 4186),\n",
      " ('엄청', 4186),\n",
      " ('느낌', 4131),\n",
      " ('예약', 4013),\n",
      " ('아침', 3987),\n",
      " ('돼지', 3978),\n",
      " ('다음', 3891),\n",
      " ('해변', 3856),\n",
      " ('구경', 3846),\n",
      " ('일출봉', 3801),\n",
      " ('저녁', 3789),\n",
      " ('찍어', 3764),\n",
      " ('서귀포', 3745),\n",
      " ('하나', 3715),\n",
      " ('되어', 3691),\n",
      " ('커피', 3665),\n",
      " ('조금', 3631),\n",
      " ('내려', 3617),\n",
      " ('해수욕장', 3599),\n",
      " ('했다', 3573),\n",
      " ('분들', 3556),\n",
      " ('때문', 3550),\n",
      " ('저희', 3530),\n",
      " ('함께', 3408),\n",
      " ('산책', 3401),\n",
      " ('나는', 3331),\n",
      " ('먹어', 3330),\n",
      " ('사람들', 3274),\n",
      " ('고기', 3262),\n",
      " ('해안', 3252),\n",
      " ('시작', 3245),\n",
      " ('마지막', 3226),\n",
      " ('보이는', 3223),\n",
      " ('식당', 3219),\n",
      " ('가서', 3180),\n",
      " ('타고', 3154),\n",
      " ('다른', 3140),\n",
      " ('이번', 3127),\n",
      " ('풍경', 3121),\n",
      " ('방문', 3109),\n",
      " ('없이', 3045),\n",
      " ('같이', 3045),\n",
      " ('내가', 3037),\n",
      " ('비행', 3014),\n",
      " ('있고', 2994)]\n"
     ]
    }
   ],
   "source": [
    "from pprint import pprint\n",
    "\n",
    "pprint(text.vocab().most_common(100))"
   ]
  },
  {
   "cell_type": "code",
   "execution_count": null,
   "metadata": {},
   "outputs": [],
   "source": []
  }
 ],
 "metadata": {
  "colab": {
   "authorship_tag": "ABX9TyM1c3aSFkQA41LbzD3ILBTR",
   "name": "Untitled0.ipynb",
   "provenance": []
  },
  "kernelspec": {
   "display_name": "Python 3 (ipykernel)",
   "language": "python",
   "name": "python3"
  },
  "language_info": {
   "codemirror_mode": {
    "name": "ipython",
    "version": 3
   },
   "file_extension": ".py",
   "mimetype": "text/x-python",
   "name": "python",
   "nbconvert_exporter": "python",
   "pygments_lexer": "ipython3",
   "version": "3.8.2"
  },
  "widgets": {
   "application/vnd.jupyter.widget-state+json": {
    "16a1085dbfa94ae69669698b9d6a53c6": {
     "model_module": "@jupyter-widgets/controls",
     "model_module_version": "1.5.0",
     "model_name": "HTMLModel",
     "state": {
      "_dom_classes": [],
      "_model_module": "@jupyter-widgets/controls",
      "_model_module_version": "1.5.0",
      "_model_name": "HTMLModel",
      "_view_count": null,
      "_view_module": "@jupyter-widgets/controls",
      "_view_module_version": "1.5.0",
      "_view_name": "HTMLView",
      "description": "",
      "description_tooltip": null,
      "layout": "IPY_MODEL_b74bf469c89444159b739b93e4112504",
      "placeholder": "​",
      "style": "IPY_MODEL_67959a31f58345a7b06fc68613d6e0ce",
      "value": " 28383/28383 [2:56:25&lt;00:00,  1.45it/s]"
     }
    },
    "4348a55d29d34d38a4420cd9de1d9642": {
     "model_module": "@jupyter-widgets/controls",
     "model_module_version": "1.5.0",
     "model_name": "FloatProgressModel",
     "state": {
      "_dom_classes": [],
      "_model_module": "@jupyter-widgets/controls",
      "_model_module_version": "1.5.0",
      "_model_name": "FloatProgressModel",
      "_view_count": null,
      "_view_module": "@jupyter-widgets/controls",
      "_view_module_version": "1.5.0",
      "_view_name": "ProgressView",
      "bar_style": "success",
      "description": "",
      "description_tooltip": null,
      "layout": "IPY_MODEL_88e649c01bbf42c8b81f4bc0408ac57c",
      "max": 28383,
      "min": 0,
      "orientation": "horizontal",
      "style": "IPY_MODEL_d0a0a9c6ad3148b59cc7f1c974908cdb",
      "value": 28383
     }
    },
    "485b2636b3ef472fa3f4d478d0936c62": {
     "model_module": "@jupyter-widgets/base",
     "model_module_version": "1.2.0",
     "model_name": "LayoutModel",
     "state": {
      "_model_module": "@jupyter-widgets/base",
      "_model_module_version": "1.2.0",
      "_model_name": "LayoutModel",
      "_view_count": null,
      "_view_module": "@jupyter-widgets/base",
      "_view_module_version": "1.2.0",
      "_view_name": "LayoutView",
      "align_content": null,
      "align_items": null,
      "align_self": null,
      "border": null,
      "bottom": null,
      "display": null,
      "flex": null,
      "flex_flow": null,
      "grid_area": null,
      "grid_auto_columns": null,
      "grid_auto_flow": null,
      "grid_auto_rows": null,
      "grid_column": null,
      "grid_gap": null,
      "grid_row": null,
      "grid_template_areas": null,
      "grid_template_columns": null,
      "grid_template_rows": null,
      "height": null,
      "justify_content": null,
      "justify_items": null,
      "left": null,
      "margin": null,
      "max_height": null,
      "max_width": null,
      "min_height": null,
      "min_width": null,
      "object_fit": null,
      "object_position": null,
      "order": null,
      "overflow": null,
      "overflow_x": null,
      "overflow_y": null,
      "padding": null,
      "right": null,
      "top": null,
      "visibility": null,
      "width": null
     }
    },
    "6374a77f61344ab595103f93f8e8e857": {
     "model_module": "@jupyter-widgets/controls",
     "model_module_version": "1.5.0",
     "model_name": "DescriptionStyleModel",
     "state": {
      "_model_module": "@jupyter-widgets/controls",
      "_model_module_version": "1.5.0",
      "_model_name": "DescriptionStyleModel",
      "_view_count": null,
      "_view_module": "@jupyter-widgets/base",
      "_view_module_version": "1.2.0",
      "_view_name": "StyleView",
      "description_width": ""
     }
    },
    "67959a31f58345a7b06fc68613d6e0ce": {
     "model_module": "@jupyter-widgets/controls",
     "model_module_version": "1.5.0",
     "model_name": "DescriptionStyleModel",
     "state": {
      "_model_module": "@jupyter-widgets/controls",
      "_model_module_version": "1.5.0",
      "_model_name": "DescriptionStyleModel",
      "_view_count": null,
      "_view_module": "@jupyter-widgets/base",
      "_view_module_version": "1.2.0",
      "_view_name": "StyleView",
      "description_width": ""
     }
    },
    "78c92fb86ebd48d4a71b202d8bbfdb80": {
     "model_module": "@jupyter-widgets/controls",
     "model_module_version": "1.5.0",
     "model_name": "HBoxModel",
     "state": {
      "_dom_classes": [],
      "_model_module": "@jupyter-widgets/controls",
      "_model_module_version": "1.5.0",
      "_model_name": "HBoxModel",
      "_view_count": null,
      "_view_module": "@jupyter-widgets/controls",
      "_view_module_version": "1.5.0",
      "_view_name": "HBoxView",
      "box_style": "",
      "children": [
       "IPY_MODEL_91e8cb9802984beaa54cf60e147a0f4d",
       "IPY_MODEL_4348a55d29d34d38a4420cd9de1d9642",
       "IPY_MODEL_16a1085dbfa94ae69669698b9d6a53c6"
      ],
      "layout": "IPY_MODEL_485b2636b3ef472fa3f4d478d0936c62"
     }
    },
    "88e649c01bbf42c8b81f4bc0408ac57c": {
     "model_module": "@jupyter-widgets/base",
     "model_module_version": "1.2.0",
     "model_name": "LayoutModel",
     "state": {
      "_model_module": "@jupyter-widgets/base",
      "_model_module_version": "1.2.0",
      "_model_name": "LayoutModel",
      "_view_count": null,
      "_view_module": "@jupyter-widgets/base",
      "_view_module_version": "1.2.0",
      "_view_name": "LayoutView",
      "align_content": null,
      "align_items": null,
      "align_self": null,
      "border": null,
      "bottom": null,
      "display": null,
      "flex": null,
      "flex_flow": null,
      "grid_area": null,
      "grid_auto_columns": null,
      "grid_auto_flow": null,
      "grid_auto_rows": null,
      "grid_column": null,
      "grid_gap": null,
      "grid_row": null,
      "grid_template_areas": null,
      "grid_template_columns": null,
      "grid_template_rows": null,
      "height": null,
      "justify_content": null,
      "justify_items": null,
      "left": null,
      "margin": null,
      "max_height": null,
      "max_width": null,
      "min_height": null,
      "min_width": null,
      "object_fit": null,
      "object_position": null,
      "order": null,
      "overflow": null,
      "overflow_x": null,
      "overflow_y": null,
      "padding": null,
      "right": null,
      "top": null,
      "visibility": null,
      "width": null
     }
    },
    "91e8cb9802984beaa54cf60e147a0f4d": {
     "model_module": "@jupyter-widgets/controls",
     "model_module_version": "1.5.0",
     "model_name": "HTMLModel",
     "state": {
      "_dom_classes": [],
      "_model_module": "@jupyter-widgets/controls",
      "_model_module_version": "1.5.0",
      "_model_name": "HTMLModel",
      "_view_count": null,
      "_view_module": "@jupyter-widgets/controls",
      "_view_module_version": "1.5.0",
      "_view_name": "HTMLView",
      "description": "",
      "description_tooltip": null,
      "layout": "IPY_MODEL_f5e40af3591741e99cc384d95a6892fc",
      "placeholder": "​",
      "style": "IPY_MODEL_6374a77f61344ab595103f93f8e8e857",
      "value": "100%"
     }
    },
    "b74bf469c89444159b739b93e4112504": {
     "model_module": "@jupyter-widgets/base",
     "model_module_version": "1.2.0",
     "model_name": "LayoutModel",
     "state": {
      "_model_module": "@jupyter-widgets/base",
      "_model_module_version": "1.2.0",
      "_model_name": "LayoutModel",
      "_view_count": null,
      "_view_module": "@jupyter-widgets/base",
      "_view_module_version": "1.2.0",
      "_view_name": "LayoutView",
      "align_content": null,
      "align_items": null,
      "align_self": null,
      "border": null,
      "bottom": null,
      "display": null,
      "flex": null,
      "flex_flow": null,
      "grid_area": null,
      "grid_auto_columns": null,
      "grid_auto_flow": null,
      "grid_auto_rows": null,
      "grid_column": null,
      "grid_gap": null,
      "grid_row": null,
      "grid_template_areas": null,
      "grid_template_columns": null,
      "grid_template_rows": null,
      "height": null,
      "justify_content": null,
      "justify_items": null,
      "left": null,
      "margin": null,
      "max_height": null,
      "max_width": null,
      "min_height": null,
      "min_width": null,
      "object_fit": null,
      "object_position": null,
      "order": null,
      "overflow": null,
      "overflow_x": null,
      "overflow_y": null,
      "padding": null,
      "right": null,
      "top": null,
      "visibility": null,
      "width": null
     }
    },
    "d0a0a9c6ad3148b59cc7f1c974908cdb": {
     "model_module": "@jupyter-widgets/controls",
     "model_module_version": "1.5.0",
     "model_name": "ProgressStyleModel",
     "state": {
      "_model_module": "@jupyter-widgets/controls",
      "_model_module_version": "1.5.0",
      "_model_name": "ProgressStyleModel",
      "_view_count": null,
      "_view_module": "@jupyter-widgets/base",
      "_view_module_version": "1.2.0",
      "_view_name": "StyleView",
      "bar_color": null,
      "description_width": ""
     }
    },
    "f5e40af3591741e99cc384d95a6892fc": {
     "model_module": "@jupyter-widgets/base",
     "model_module_version": "1.2.0",
     "model_name": "LayoutModel",
     "state": {
      "_model_module": "@jupyter-widgets/base",
      "_model_module_version": "1.2.0",
      "_model_name": "LayoutModel",
      "_view_count": null,
      "_view_module": "@jupyter-widgets/base",
      "_view_module_version": "1.2.0",
      "_view_name": "LayoutView",
      "align_content": null,
      "align_items": null,
      "align_self": null,
      "border": null,
      "bottom": null,
      "display": null,
      "flex": null,
      "flex_flow": null,
      "grid_area": null,
      "grid_auto_columns": null,
      "grid_auto_flow": null,
      "grid_auto_rows": null,
      "grid_column": null,
      "grid_gap": null,
      "grid_row": null,
      "grid_template_areas": null,
      "grid_template_columns": null,
      "grid_template_rows": null,
      "height": null,
      "justify_content": null,
      "justify_items": null,
      "left": null,
      "margin": null,
      "max_height": null,
      "max_width": null,
      "min_height": null,
      "min_width": null,
      "object_fit": null,
      "object_position": null,
      "order": null,
      "overflow": null,
      "overflow_x": null,
      "overflow_y": null,
      "padding": null,
      "right": null,
      "top": null,
      "visibility": null,
      "width": null
     }
    }
   }
  }
 },
 "nbformat": 4,
 "nbformat_minor": 1
}

{
 "cells": [
  {
   "cell_type": "code",
   "execution_count": 2,
   "id": "7a43916c",
   "metadata": {},
   "outputs": [],
   "source": [
    "import time, os\n",
    "import pandas as pd\n",
    "from tqdm import tqdm\n",
    "import requests\n",
    "import re\n",
    "\n",
    "from bs4 import BeautifulSoup\n",
    "from selenium import webdriver\n",
    "from selenium.webdriver import ActionChains\n",
    "from selenium.webdriver.support.ui import WebDriverWait\n",
    "from selenium.webdriver.support import expected_conditions as EC\n",
    "from selenium.webdriver.common.by import By\n",
    "from selenium.webdriver.common.keys import Keys\n",
    "from selenium.common.exceptions import TimeoutException\n",
    "from selenium.webdriver.common.alert import Alert"
   ]
  },
  {
   "cell_type": "markdown",
   "id": "a91339eb",
   "metadata": {},
   "source": [
    "- 7월: ***19,240건***\n",
    "- 8월: ***20,007건***\n",
    "- 9월(30): ***15,993건***\n",
    "- 10월: ***18,726건***\n",
    "- 11월(30): ***20,991건***\n",
    "- 12월: ***17,010건***"
   ]
  },
  {
   "cell_type": "code",
   "execution_count": 3,
   "id": "3ef53c50",
   "metadata": {},
   "outputs": [],
   "source": [
    "# 제주 여행 검색량의 20%만 크롤링하기 위해 월별 갯수 저장\n",
    "jul = 19240//5\n",
    "aug = 20007//5\n",
    "sept = 15993//5\n",
    "oct = 18726//5\n",
    "nov = 20991//5\n",
    "dec = 17010//5"
   ]
  },
  {
   "cell_type": "code",
   "execution_count": 13,
   "id": "f7a475a2",
   "metadata": {},
   "outputs": [],
   "source": [
    "# 드라이버 지정\n",
    "current = '/Users/shimsomin/Documents/GitHub/COVID19-Tourism'\n",
    "chrome_path = current + '/driver/chromedriver'\n",
    "\n",
    "options = webdriver.ChromeOptions() # 크롬 옵션 객체 생성\n",
    "options.add_argument(\"enable-automation\")\n",
    "options.add_argument('headless') # 창 안 띄움 -> 더 빠름\n",
    "options.add_argument(\"user-agent=Mozilla/5.0 (Macintosh; Intel Mac OS X 10_12_6) AppleWebKit/537.36 (KHTML, like Gecko) Chrome/61.0.3163.100 Safari/537.36\") # Headless 탐지 막기위해 User-Agent 값을 바꿔줌.\n",
    "\n",
    "options.add_argument(\"window-size=1920x1080\") # 화면크기\n",
    "options.add_argument(\"--no-sandbox\")\n",
    "options.add_argument(\"disable-gpu\") \n",
    "options.add_argument(\"disable-infobars\")\n",
    "options.add_argument(\"--disable-extensions\")\n",
    "options.add_argument(\"--dns-prefetch-disable\")\n",
    "options.add_argument('--disable-site-isolation-trials')\n",
    "\n",
    "#Step 1. 크롬 웹브라우저 실행\n",
    "driver = webdriver.Chrome(chrome_path, options=options)\n",
    "\n",
    "query = \"제주 여행\"\n",
    "start_date = \"2020-12-01\"\n",
    "end_date = \"2020-12-31\"\n",
    "max_link_cnt = dec\n",
    "crawling_month = '12'\n",
    "\n",
    "naver_df = pd.DataFrame(columns=['날짜', '네이버/티스토리', '관광 명소', '제목', '내용', 'url', '글쓴이'])\n",
    "url = \"https://section.blog.naver.com/Search/Post.naver?pageNo=1&rangeType=PERIOD&orderBy=sim&startDate={}&endDate={}&keyword={}\".format(start_date, end_date, query)\n"
   ]
  },
  {
   "cell_type": "code",
   "execution_count": 14,
   "id": "b191775a",
   "metadata": {},
   "outputs": [
    {
     "name": "stderr",
     "output_type": "stream",
     "text": [
      "3409it [03:19, 17.05it/s]                          \n"
     ]
    }
   ],
   "source": [
    "driver.get(url)\n",
    "soup = BeautifulSoup(url, 'lxml')\n",
    "\n",
    "# 1차 크롤링 (url, 제목) 시작\n",
    "link_cnt = 0\n",
    "btn_cnt = 1\n",
    "\n",
    "# 진행바 while문에 사용하기\n",
    "pbar = tqdm(total = max_link_cnt+1)\n",
    "while link_cnt <= max_link_cnt:\n",
    "    # 한 페이지 안의 총 기사 개수\n",
    "    t_len = len(driver.find_elements_by_class_name(\"list_search_post\"))\n",
    "\n",
    "    for i in range(1, t_len+1):\n",
    "        a = driver.find_element_by_css_selector(\"#content > section > div.area_list_search > div:nth-child({}) > div > div.info_post > div.desc > a.desc_inner\".format(i))\n",
    "\n",
    "        # url 수집\n",
    "        url = a.get_attribute('href')\n",
    "\n",
    "        # 제목 수집\n",
    "        title = driver.find_element_by_css_selector(\"#content > section > div.area_list_search > div:nth-child({}) > div > div.info_post > div.desc > a.desc_inner > strong > span\".format(i)).text\n",
    "        \n",
    "        naver_df.loc[link_cnt] = ['nan', '네이버', query, title, 'nan', url, 'nan']\n",
    "\n",
    "        link_cnt += 1\n",
    "    # print(link_cnt)\n",
    "    pbar.update(t_len)\n",
    "    \n",
    "    btn_cnt += 1\n",
    "    # 다음 버튼 누르기\n",
    "    if btn_cnt % 10 == 1:\n",
    "        if btn_cnt > 11:\n",
    "            btn = driver.find_element_by_css_selector(\"#content > section > div.pagination > a.button_next\")\n",
    "            btn.send_keys(Keys.ENTER)\n",
    "        else:\n",
    "            btn = driver.find_element_by_css_selector(\"#content > section > div.pagination > a\")\n",
    "            btn.send_keys(Keys.ENTER)\n",
    "        driver.implicitly_wait(3)\n",
    "    else:\n",
    "        if btn_cnt > 11:\n",
    "            if (btn_cnt % 10) == 0:\n",
    "                btn = driver.find_element_by_css_selector(\"#content > section > div.pagination > span:nth-child(11) > a\")\n",
    "            else:\n",
    "                btn = driver.find_element_by_css_selector(\"#content > section > div.pagination > span:nth-child({}) > a\".format((btn_cnt%10)+1))\n",
    "        else:\n",
    "            btn = driver.find_element_by_css_selector(\"#content > section > div.pagination > span:nth-child({}) > a\".format(btn_cnt))\n",
    "\n",
    "        btn.send_keys(Keys.ENTER)\n",
    "        driver.implicitly_wait(3)\n",
    "\n",
    "pbar.close()"
   ]
  },
  {
   "cell_type": "code",
   "execution_count": 15,
   "id": "5d61c3ab",
   "metadata": {},
   "outputs": [
    {
     "data": {
      "text/html": [
       "<div>\n",
       "<style scoped>\n",
       "    .dataframe tbody tr th:only-of-type {\n",
       "        vertical-align: middle;\n",
       "    }\n",
       "\n",
       "    .dataframe tbody tr th {\n",
       "        vertical-align: top;\n",
       "    }\n",
       "\n",
       "    .dataframe thead th {\n",
       "        text-align: right;\n",
       "    }\n",
       "</style>\n",
       "<table border=\"1\" class=\"dataframe\">\n",
       "  <thead>\n",
       "    <tr style=\"text-align: right;\">\n",
       "      <th></th>\n",
       "      <th>날짜</th>\n",
       "      <th>네이버/티스토리</th>\n",
       "      <th>관광 명소</th>\n",
       "      <th>제목</th>\n",
       "      <th>내용</th>\n",
       "      <th>url</th>\n",
       "      <th>글쓴이</th>\n",
       "    </tr>\n",
       "  </thead>\n",
       "  <tbody>\n",
       "    <tr>\n",
       "      <th>3404</th>\n",
       "      <td>nan</td>\n",
       "      <td>네이버</td>\n",
       "      <td>제주 여행</td>\n",
       "      <td>제주도의 작은 마을 및 동네 여행 카름투어를 아시나요?</td>\n",
       "      <td>nan</td>\n",
       "      <td>https://blog.naver.com/fromairplane/222189681797</td>\n",
       "      <td>nan</td>\n",
       "    </tr>\n",
       "    <tr>\n",
       "      <th>3405</th>\n",
       "      <td>nan</td>\n",
       "      <td>네이버</td>\n",
       "      <td>제주 여행</td>\n",
       "      <td>확진자 동선 2곳 추가공개(12월 4일) 및 82번 확진자·일행 1명 역학조사 완료</td>\n",
       "      <td>nan</td>\n",
       "      <td>https://blog.naver.com/happyjejudo/222163010277</td>\n",
       "      <td>nan</td>\n",
       "    </tr>\n",
       "    <tr>\n",
       "      <th>3406</th>\n",
       "      <td>nan</td>\n",
       "      <td>네이버</td>\n",
       "      <td>제주 여행</td>\n",
       "      <td>서귀포, 분위기 좋은 카페 \"서홍정원\" &amp; \"연과자점\"</td>\n",
       "      <td>nan</td>\n",
       "      <td>https://blog.naver.com/psk8808/222181937525</td>\n",
       "      <td>nan</td>\n",
       "    </tr>\n",
       "    <tr>\n",
       "      <th>3407</th>\n",
       "      <td>nan</td>\n",
       "      <td>네이버</td>\n",
       "      <td>제주 여행</td>\n",
       "      <td>[5박6일 제주태교여행] Day6_⑤ 제주공항 면세점, 샤넬, 페라가모 시계랑 선글라스</td>\n",
       "      <td>nan</td>\n",
       "      <td>https://blog.naver.com/lalalarc/222190707700</td>\n",
       "      <td>nan</td>\n",
       "    </tr>\n",
       "    <tr>\n",
       "      <th>3408</th>\n",
       "      <td>nan</td>\n",
       "      <td>네이버</td>\n",
       "      <td>제주 여행</td>\n",
       "      <td>제주 82번째 코로나19 확진자 발생… 인천 확진자 접촉자</td>\n",
       "      <td>nan</td>\n",
       "      <td>https://blog.naver.com/happyjejudo/222159607759</td>\n",
       "      <td>nan</td>\n",
       "    </tr>\n",
       "  </tbody>\n",
       "</table>\n",
       "</div>"
      ],
      "text/plain": [
       "       날짜 네이버/티스토리  관광 명소                                                제목  \\\n",
       "3404  nan      네이버  제주 여행                    제주도의 작은 마을 및 동네 여행 카름투어를 아시나요?   \n",
       "3405  nan      네이버  제주 여행    확진자 동선 2곳 추가공개(12월 4일) 및 82번 확진자·일행 1명 역학조사 완료   \n",
       "3406  nan      네이버  제주 여행                    서귀포, 분위기 좋은 카페 \"서홍정원\" & \"연과자점\"   \n",
       "3407  nan      네이버  제주 여행  [5박6일 제주태교여행] Day6_⑤ 제주공항 면세점, 샤넬, 페라가모 시계랑 선글라스   \n",
       "3408  nan      네이버  제주 여행                  제주 82번째 코로나19 확진자 발생… 인천 확진자 접촉자   \n",
       "\n",
       "       내용                                               url  글쓴이  \n",
       "3404  nan  https://blog.naver.com/fromairplane/222189681797  nan  \n",
       "3405  nan   https://blog.naver.com/happyjejudo/222163010277  nan  \n",
       "3406  nan       https://blog.naver.com/psk8808/222181937525  nan  \n",
       "3407  nan      https://blog.naver.com/lalalarc/222190707700  nan  \n",
       "3408  nan   https://blog.naver.com/happyjejudo/222159607759  nan  "
      ]
     },
     "execution_count": 15,
     "metadata": {},
     "output_type": "execute_result"
    }
   ],
   "source": [
    "naver_df.tail()"
   ]
  },
  {
   "cell_type": "code",
   "execution_count": 16,
   "id": "db7c1370",
   "metadata": {},
   "outputs": [
    {
     "name": "stderr",
     "output_type": "stream",
     "text": [
      "100%|██████████| 3409/3409 [1:46:50<00:00,  1.88s/it]  \n"
     ]
    }
   ],
   "source": [
    "from tqdm import tqdm\n",
    "\n",
    "# 2차 크롤링 (블로그 제목, 포스팅 날짜, 글쓴이) 시작\n",
    "for i in tqdm(range(len(naver_df))):\n",
    "    driver.get(naver_df.loc[i]['url'])\n",
    "    driver.switch_to.frame('mainFrame')\n",
    "    overlays = \".se-component.se-text.se-l-default\" # 내용 크롤링\n",
    "    contents = driver.find_elements_by_css_selector(overlays)\n",
    "\n",
    "    content_list = \"\"\n",
    "\n",
    "    for content in contents:\n",
    "        content_list = content_list + content.text\n",
    "\n",
    "    # 글쓴이 수집\n",
    "    author = driver.find_element_by_xpath(\"\"\"//*[@id=\"nickNameArea\"]\"\"\").text\n",
    "    \n",
    "    # date 수집\n",
    "    try:\n",
    "        date = driver.find_element_by_css_selector(\".se_publishDate.pcol2\").text\n",
    "    except:\n",
    "        date = driver.find_element_by_css_selector(\".date.fil5.pcol2._postAddDate\").text\n",
    "    \n",
    "    naver_df.loc[i][['날짜', '내용', '글쓴이']] = [date, content_list, author]"
   ]
  },
  {
   "cell_type": "code",
   "execution_count": 17,
   "id": "614d6ffa",
   "metadata": {},
   "outputs": [
    {
     "data": {
      "text/plain": [
       "0"
      ]
     },
     "execution_count": 17,
     "metadata": {},
     "output_type": "execute_result"
    }
   ],
   "source": [
    "len(naver_df[naver_df['글쓴이'] =='nan'])"
   ]
  },
  {
   "cell_type": "code",
   "execution_count": 18,
   "id": "d22f73a1",
   "metadata": {},
   "outputs": [],
   "source": [
    "save_dir = current+'/data'\n",
    "naver_df.to_csv(save_dir + '/naver_2020_{}.csv'.format(crawling_month), index=False)"
   ]
  }
 ],
 "metadata": {
  "interpreter": {
   "hash": "ece164ea4c6743d38a272172109d7488151f959866c0d64c748a7d6c5cfd95ec"
  },
  "kernelspec": {
   "display_name": "Python 3.8.2 64-bit ('base': conda)",
   "language": "python",
   "name": "python3"
  },
  "language_info": {
   "codemirror_mode": {
    "name": "ipython",
    "version": 3
   },
   "file_extension": ".py",
   "mimetype": "text/x-python",
   "name": "python",
   "nbconvert_exporter": "python",
   "pygments_lexer": "ipython3",
   "version": "3.9.5"
  }
 },
 "nbformat": 4,
 "nbformat_minor": 5
}
